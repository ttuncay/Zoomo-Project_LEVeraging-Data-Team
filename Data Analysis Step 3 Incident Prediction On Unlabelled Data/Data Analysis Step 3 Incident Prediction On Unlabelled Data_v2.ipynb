{
 "cells": [
  {
   "cell_type": "markdown",
   "id": "02498fd2",
   "metadata": {},
   "source": [
    "## Predictive Analysis for Incidents"
   ]
  },
  {
   "cell_type": "code",
   "execution_count": 1,
   "id": "8d364b2a",
   "metadata": {},
   "outputs": [],
   "source": [
    "# Import necessary libraries.\n",
    "import pandas as pd\n",
    "import numpy as np\n",
    "import matplotlib.pyplot as plt\n",
    "import seaborn as sns \n",
    "from datetime import datetime"
   ]
  },
  {
   "cell_type": "code",
   "execution_count": 2,
   "id": "ee82e48b",
   "metadata": {},
   "outputs": [],
   "source": [
    "# Bring IOT Acceleration Data for analysis\n",
    "IOT_accel=pd.read_csv('Zoomo_IoT_accel_Cleaned.csv')"
   ]
  },
  {
   "cell_type": "code",
   "execution_count": 3,
   "id": "e4b70939",
   "metadata": {},
   "outputs": [
    {
     "data": {
      "text/html": [
       "<div>\n",
       "<style scoped>\n",
       "    .dataframe tbody tr th:only-of-type {\n",
       "        vertical-align: middle;\n",
       "    }\n",
       "\n",
       "    .dataframe tbody tr th {\n",
       "        vertical-align: top;\n",
       "    }\n",
       "\n",
       "    .dataframe thead th {\n",
       "        text-align: right;\n",
       "    }\n",
       "</style>\n",
       "<table border=\"1\" class=\"dataframe\">\n",
       "  <thead>\n",
       "    <tr style=\"text-align: right;\">\n",
       "      <th></th>\n",
       "      <th>Unnamed: 0</th>\n",
       "      <th>time</th>\n",
       "      <th>ax (m/s^2)</th>\n",
       "      <th>ay (m/s^2)</th>\n",
       "      <th>az (m/s^2)</th>\n",
       "      <th>aT (m/s^2)</th>\n",
       "    </tr>\n",
       "  </thead>\n",
       "  <tbody>\n",
       "    <tr>\n",
       "      <th>0</th>\n",
       "      <td>0</td>\n",
       "      <td>0.004313</td>\n",
       "      <td>-0.2607</td>\n",
       "      <td>0.0004</td>\n",
       "      <td>0.1696</td>\n",
       "      <td>0.311</td>\n",
       "    </tr>\n",
       "    <tr>\n",
       "      <th>1</th>\n",
       "      <td>1</td>\n",
       "      <td>0.016459</td>\n",
       "      <td>0.0307</td>\n",
       "      <td>0.0412</td>\n",
       "      <td>0.1094</td>\n",
       "      <td>0.121</td>\n",
       "    </tr>\n",
       "    <tr>\n",
       "      <th>2</th>\n",
       "      <td>2</td>\n",
       "      <td>0.022998</td>\n",
       "      <td>-0.0977</td>\n",
       "      <td>0.0356</td>\n",
       "      <td>0.0876</td>\n",
       "      <td>0.136</td>\n",
       "    </tr>\n",
       "    <tr>\n",
       "      <th>3</th>\n",
       "      <td>3</td>\n",
       "      <td>0.033322</td>\n",
       "      <td>0.0960</td>\n",
       "      <td>0.0820</td>\n",
       "      <td>0.0731</td>\n",
       "      <td>0.146</td>\n",
       "    </tr>\n",
       "    <tr>\n",
       "      <th>4</th>\n",
       "      <td>4</td>\n",
       "      <td>0.042877</td>\n",
       "      <td>0.0219</td>\n",
       "      <td>0.0941</td>\n",
       "      <td>0.0491</td>\n",
       "      <td>0.108</td>\n",
       "    </tr>\n",
       "  </tbody>\n",
       "</table>\n",
       "</div>"
      ],
      "text/plain": [
       "   Unnamed: 0      time  ax (m/s^2)  ay (m/s^2)  az (m/s^2)  aT (m/s^2)\n",
       "0           0  0.004313     -0.2607      0.0004      0.1696       0.311\n",
       "1           1  0.016459      0.0307      0.0412      0.1094       0.121\n",
       "2           2  0.022998     -0.0977      0.0356      0.0876       0.136\n",
       "3           3  0.033322      0.0960      0.0820      0.0731       0.146\n",
       "4           4  0.042877      0.0219      0.0941      0.0491       0.108"
      ]
     },
     "execution_count": 3,
     "metadata": {},
     "output_type": "execute_result"
    }
   ],
   "source": [
    "# Preview Data\n",
    "IOT_accel.head()"
   ]
  },
  {
   "cell_type": "code",
   "execution_count": 4,
   "id": "429eac29",
   "metadata": {},
   "outputs": [],
   "source": [
    "# Drop Unnecessary columns and rename columns\n",
    "IOT_accel.drop(['Unnamed: 0', 'ax (m/s^2)','ay (m/s^2)','az (m/s^2)'], axis=1, inplace=True)\n",
    "IOT_accel.columns = ['time','Amag']"
   ]
  },
  {
   "cell_type": "code",
   "execution_count": 5,
   "id": "3be1aed3",
   "metadata": {},
   "outputs": [
    {
     "data": {
      "text/html": [
       "<div>\n",
       "<style scoped>\n",
       "    .dataframe tbody tr th:only-of-type {\n",
       "        vertical-align: middle;\n",
       "    }\n",
       "\n",
       "    .dataframe tbody tr th {\n",
       "        vertical-align: top;\n",
       "    }\n",
       "\n",
       "    .dataframe thead th {\n",
       "        text-align: right;\n",
       "    }\n",
       "</style>\n",
       "<table border=\"1\" class=\"dataframe\">\n",
       "  <thead>\n",
       "    <tr style=\"text-align: right;\">\n",
       "      <th></th>\n",
       "      <th>time</th>\n",
       "      <th>Amag</th>\n",
       "    </tr>\n",
       "  </thead>\n",
       "  <tbody>\n",
       "    <tr>\n",
       "      <th>0</th>\n",
       "      <td>0.004313</td>\n",
       "      <td>0.311</td>\n",
       "    </tr>\n",
       "    <tr>\n",
       "      <th>1</th>\n",
       "      <td>0.016459</td>\n",
       "      <td>0.121</td>\n",
       "    </tr>\n",
       "    <tr>\n",
       "      <th>2</th>\n",
       "      <td>0.022998</td>\n",
       "      <td>0.136</td>\n",
       "    </tr>\n",
       "    <tr>\n",
       "      <th>3</th>\n",
       "      <td>0.033322</td>\n",
       "      <td>0.146</td>\n",
       "    </tr>\n",
       "    <tr>\n",
       "      <th>4</th>\n",
       "      <td>0.042877</td>\n",
       "      <td>0.108</td>\n",
       "    </tr>\n",
       "  </tbody>\n",
       "</table>\n",
       "</div>"
      ],
      "text/plain": [
       "       time   Amag\n",
       "0  0.004313  0.311\n",
       "1  0.016459  0.121\n",
       "2  0.022998  0.136\n",
       "3  0.033322  0.146\n",
       "4  0.042877  0.108"
      ]
     },
     "execution_count": 5,
     "metadata": {},
     "output_type": "execute_result"
    }
   ],
   "source": [
    "# Preview Data\n",
    "IOT_accel.head()"
   ]
  },
  {
   "cell_type": "code",
   "execution_count": 6,
   "id": "7cb40396",
   "metadata": {},
   "outputs": [],
   "source": [
    "# Calculate normalised Amag using 'Max-min' method.\n",
    "\n",
    "IOT_accel['fAmag_norm'] = ((IOT_accel['Amag'] - IOT_accel['Amag'].min())/ (IOT_accel['Amag'].max() - IOT_accel['Amag'].min()))"
   ]
  },
  {
   "cell_type": "code",
   "execution_count": 7,
   "id": "74cf3c79",
   "metadata": {},
   "outputs": [],
   "source": [
    "# Insert new column time delta\n",
    "IOT_accel.insert(1,'time_seconds_delta','')"
   ]
  },
  {
   "cell_type": "code",
   "execution_count": 8,
   "id": "70baced2",
   "metadata": {},
   "outputs": [],
   "source": [
    "# Calculate time delta\n",
    "IOT_accel['time_seconds_delta'] = IOT_accel['time'].diff()\n",
    "IOT_accel['time_seconds_delta']=IOT_accel['time_seconds_delta'].fillna(0)"
   ]
  },
  {
   "cell_type": "code",
   "execution_count": 9,
   "id": "4d716be2",
   "metadata": {},
   "outputs": [
    {
     "data": {
      "text/html": [
       "<div>\n",
       "<style scoped>\n",
       "    .dataframe tbody tr th:only-of-type {\n",
       "        vertical-align: middle;\n",
       "    }\n",
       "\n",
       "    .dataframe tbody tr th {\n",
       "        vertical-align: top;\n",
       "    }\n",
       "\n",
       "    .dataframe thead th {\n",
       "        text-align: right;\n",
       "    }\n",
       "</style>\n",
       "<table border=\"1\" class=\"dataframe\">\n",
       "  <thead>\n",
       "    <tr style=\"text-align: right;\">\n",
       "      <th></th>\n",
       "      <th>time</th>\n",
       "      <th>time_seconds_delta</th>\n",
       "      <th>Amag</th>\n",
       "      <th>fAmag_norm</th>\n",
       "    </tr>\n",
       "  </thead>\n",
       "  <tbody>\n",
       "    <tr>\n",
       "      <th>0</th>\n",
       "      <td>0.004313</td>\n",
       "      <td>0.000000</td>\n",
       "      <td>0.311</td>\n",
       "      <td>0.003577</td>\n",
       "    </tr>\n",
       "    <tr>\n",
       "      <th>1</th>\n",
       "      <td>0.016459</td>\n",
       "      <td>0.012146</td>\n",
       "      <td>0.121</td>\n",
       "      <td>0.001327</td>\n",
       "    </tr>\n",
       "    <tr>\n",
       "      <th>2</th>\n",
       "      <td>0.022998</td>\n",
       "      <td>0.006539</td>\n",
       "      <td>0.136</td>\n",
       "      <td>0.001504</td>\n",
       "    </tr>\n",
       "    <tr>\n",
       "      <th>3</th>\n",
       "      <td>0.033322</td>\n",
       "      <td>0.010324</td>\n",
       "      <td>0.146</td>\n",
       "      <td>0.001623</td>\n",
       "    </tr>\n",
       "    <tr>\n",
       "      <th>4</th>\n",
       "      <td>0.042877</td>\n",
       "      <td>0.009555</td>\n",
       "      <td>0.108</td>\n",
       "      <td>0.001173</td>\n",
       "    </tr>\n",
       "  </tbody>\n",
       "</table>\n",
       "</div>"
      ],
      "text/plain": [
       "       time  time_seconds_delta   Amag  fAmag_norm\n",
       "0  0.004313            0.000000  0.311    0.003577\n",
       "1  0.016459            0.012146  0.121    0.001327\n",
       "2  0.022998            0.006539  0.136    0.001504\n",
       "3  0.033322            0.010324  0.146    0.001623\n",
       "4  0.042877            0.009555  0.108    0.001173"
      ]
     },
     "execution_count": 9,
     "metadata": {},
     "output_type": "execute_result"
    }
   ],
   "source": [
    "# Preview Data\n",
    "IOT_accel.head()"
   ]
  },
  {
   "cell_type": "code",
   "execution_count": 10,
   "id": "b8c84df0",
   "metadata": {},
   "outputs": [],
   "source": [
    "# Bring IOT Gyro Data for analysis\n",
    "IOT_gyro=pd.read_csv('Zoomo_IoT_gyro_Cleaned.csv')"
   ]
  },
  {
   "cell_type": "code",
   "execution_count": 11,
   "id": "7d9dd728",
   "metadata": {},
   "outputs": [],
   "source": [
    "# Gmag is equal to (Gx^2+Gy^2+Gz^2)^.5\n",
    "# Calculating Gmag using gyro data\n",
    "IOT_gyro['Gmag'] = (IOT_gyro['wx (rad/s)']**2 + IOT_gyro['wy (rad/s)']**2 + IOT_gyro['wz (rad/s)']**2)**0.5"
   ]
  },
  {
   "cell_type": "code",
   "execution_count": 12,
   "id": "d8bb3e0f",
   "metadata": {},
   "outputs": [],
   "source": [
    "# Calculate normalised Gmag using 'Max-min' method.\n",
    "\n",
    "IOT_gyro['Gmag_norm'] = ((IOT_gyro['Gmag'] - IOT_gyro['Gmag'].min())/ \n",
    "                                     (IOT_gyro['Gmag'].max() - IOT_gyro['Gmag'].min()))"
   ]
  },
  {
   "cell_type": "code",
   "execution_count": 13,
   "id": "95f25c6a",
   "metadata": {},
   "outputs": [],
   "source": [
    "# Drop Unnecessary columns and rename columns\n",
    "\n",
    "IOT_gyro.drop(['Unnamed: 0', 'wx (rad/s)','wy (rad/s)','wz (rad/s)'], axis=1, inplace=True)\n",
    "IOT_gyro.columns = ['time','Gmag', 'Gmag_norm']"
   ]
  },
  {
   "cell_type": "code",
   "execution_count": 14,
   "id": "74ce98ef",
   "metadata": {},
   "outputs": [],
   "source": [
    "# Insert new column time delta\n",
    "IOT_gyro.insert(1,'time_seconds_delta','')"
   ]
  },
  {
   "cell_type": "code",
   "execution_count": 15,
   "id": "edc6e487",
   "metadata": {},
   "outputs": [],
   "source": [
    "# Calculate time delta\n",
    "IOT_gyro['time_seconds_delta'] = IOT_gyro['time'].diff()\n",
    "IOT_gyro['time_seconds_delta']=IOT_gyro['time_seconds_delta'].fillna(0)"
   ]
  },
  {
   "cell_type": "code",
   "execution_count": 16,
   "id": "d196d575",
   "metadata": {},
   "outputs": [
    {
     "data": {
      "text/html": [
       "<div>\n",
       "<style scoped>\n",
       "    .dataframe tbody tr th:only-of-type {\n",
       "        vertical-align: middle;\n",
       "    }\n",
       "\n",
       "    .dataframe tbody tr th {\n",
       "        vertical-align: top;\n",
       "    }\n",
       "\n",
       "    .dataframe thead th {\n",
       "        text-align: right;\n",
       "    }\n",
       "</style>\n",
       "<table border=\"1\" class=\"dataframe\">\n",
       "  <thead>\n",
       "    <tr style=\"text-align: right;\">\n",
       "      <th></th>\n",
       "      <th>time</th>\n",
       "      <th>time_seconds_delta</th>\n",
       "      <th>Gmag</th>\n",
       "      <th>Gmag_norm</th>\n",
       "    </tr>\n",
       "  </thead>\n",
       "  <tbody>\n",
       "    <tr>\n",
       "      <th>0</th>\n",
       "      <td>0.000821</td>\n",
       "      <td>0.000000</td>\n",
       "      <td>0.0</td>\n",
       "      <td>0.0</td>\n",
       "    </tr>\n",
       "    <tr>\n",
       "      <th>1</th>\n",
       "      <td>0.000997</td>\n",
       "      <td>0.000176</td>\n",
       "      <td>0.0</td>\n",
       "      <td>0.0</td>\n",
       "    </tr>\n",
       "    <tr>\n",
       "      <th>2</th>\n",
       "      <td>0.001085</td>\n",
       "      <td>0.000088</td>\n",
       "      <td>0.0</td>\n",
       "      <td>0.0</td>\n",
       "    </tr>\n",
       "    <tr>\n",
       "      <th>3</th>\n",
       "      <td>0.001171</td>\n",
       "      <td>0.000086</td>\n",
       "      <td>0.0</td>\n",
       "      <td>0.0</td>\n",
       "    </tr>\n",
       "    <tr>\n",
       "      <th>4</th>\n",
       "      <td>0.002772</td>\n",
       "      <td>0.001601</td>\n",
       "      <td>0.0</td>\n",
       "      <td>0.0</td>\n",
       "    </tr>\n",
       "  </tbody>\n",
       "</table>\n",
       "</div>"
      ],
      "text/plain": [
       "       time  time_seconds_delta  Gmag  Gmag_norm\n",
       "0  0.000821            0.000000   0.0        0.0\n",
       "1  0.000997            0.000176   0.0        0.0\n",
       "2  0.001085            0.000088   0.0        0.0\n",
       "3  0.001171            0.000086   0.0        0.0\n",
       "4  0.002772            0.001601   0.0        0.0"
      ]
     },
     "execution_count": 16,
     "metadata": {},
     "output_type": "execute_result"
    }
   ],
   "source": [
    "# Preview Data\n",
    "IOT_gyro.head()"
   ]
  },
  {
   "cell_type": "markdown",
   "id": "57da3c15",
   "metadata": {},
   "source": [
    "## accel_7_fast_and_stop - BLR Model"
   ]
  },
  {
   "cell_type": "code",
   "execution_count": 17,
   "id": "e2211a94",
   "metadata": {},
   "outputs": [],
   "source": [
    "# Import CVS files\n",
    "accel_7_fast_and_stop = pd.read_csv('accel_7_fast_and_stop_normal_vs_abnormal.csv')"
   ]
  },
  {
   "cell_type": "code",
   "execution_count": 18,
   "id": "68043136",
   "metadata": {
    "scrolled": true
   },
   "outputs": [
    {
     "data": {
      "text/html": [
       "<div>\n",
       "<style scoped>\n",
       "    .dataframe tbody tr th:only-of-type {\n",
       "        vertical-align: middle;\n",
       "    }\n",
       "\n",
       "    .dataframe tbody tr th {\n",
       "        vertical-align: top;\n",
       "    }\n",
       "\n",
       "    .dataframe thead th {\n",
       "        text-align: right;\n",
       "    }\n",
       "</style>\n",
       "<table border=\"1\" class=\"dataframe\">\n",
       "  <thead>\n",
       "    <tr style=\"text-align: right;\">\n",
       "      <th></th>\n",
       "      <th>Unnamed: 0</th>\n",
       "      <th>time_seconds</th>\n",
       "      <th>time_seconds_delta</th>\n",
       "      <th>Timestamp</th>\n",
       "      <th>Data</th>\n",
       "      <th>AX</th>\n",
       "      <th>AY</th>\n",
       "      <th>AZ</th>\n",
       "      <th>fAX</th>\n",
       "      <th>fAY</th>\n",
       "      <th>fAZ</th>\n",
       "      <th>speed_change</th>\n",
       "      <th>filtered_speed_change</th>\n",
       "      <th>Amag</th>\n",
       "      <th>fAmag</th>\n",
       "      <th>fAmag_norm</th>\n",
       "      <th>Q3 threshold</th>\n",
       "      <th>Std threshold</th>\n",
       "      <th>HO threshold</th>\n",
       "    </tr>\n",
       "  </thead>\n",
       "  <tbody>\n",
       "    <tr>\n",
       "      <th>0</th>\n",
       "      <td>0</td>\n",
       "      <td>65541.234</td>\n",
       "      <td>0.000</td>\n",
       "      <td>18:12:21:234</td>\n",
       "      <td>0001462415 [app] INFO: ACCEL:</td>\n",
       "      <td>-704</td>\n",
       "      <td>-480</td>\n",
       "      <td>576</td>\n",
       "      <td>26.766279</td>\n",
       "      <td>168.241196</td>\n",
       "      <td>8.758143</td>\n",
       "      <td>0.000</td>\n",
       "      <td>0.000000</td>\n",
       "      <td>1028.490156</td>\n",
       "      <td>170.582059</td>\n",
       "      <td>0.028189</td>\n",
       "      <td>Normal data</td>\n",
       "      <td>Normal data</td>\n",
       "      <td>Normal data</td>\n",
       "    </tr>\n",
       "    <tr>\n",
       "      <th>1</th>\n",
       "      <td>1</td>\n",
       "      <td>65541.325</td>\n",
       "      <td>0.091</td>\n",
       "      <td>18:12:21:325</td>\n",
       "      <td>0001462551 [app] INFO: ACCEL:</td>\n",
       "      <td>-2016</td>\n",
       "      <td>1984</td>\n",
       "      <td>96</td>\n",
       "      <td>-3.032218</td>\n",
       "      <td>195.304382</td>\n",
       "      <td>10.175572</td>\n",
       "      <td>-183.456</td>\n",
       "      <td>-0.275932</td>\n",
       "      <td>2830.146286</td>\n",
       "      <td>195.592787</td>\n",
       "      <td>0.041602</td>\n",
       "      <td>Normal data</td>\n",
       "      <td>Normal data</td>\n",
       "      <td>Normal data</td>\n",
       "    </tr>\n",
       "    <tr>\n",
       "      <th>2</th>\n",
       "      <td>2</td>\n",
       "      <td>65541.416</td>\n",
       "      <td>0.091</td>\n",
       "      <td>18:12:21:416</td>\n",
       "      <td>0001462641 [app] INFO: ACCEL:</td>\n",
       "      <td>-1024</td>\n",
       "      <td>-544</td>\n",
       "      <td>1824</td>\n",
       "      <td>-18.302029</td>\n",
       "      <td>184.058868</td>\n",
       "      <td>39.223648</td>\n",
       "      <td>-93.184</td>\n",
       "      <td>-1.665485</td>\n",
       "      <td>2161.362533</td>\n",
       "      <td>189.079681</td>\n",
       "      <td>0.038109</td>\n",
       "      <td>Normal data</td>\n",
       "      <td>Normal data</td>\n",
       "      <td>Normal data</td>\n",
       "    </tr>\n",
       "    <tr>\n",
       "      <th>3</th>\n",
       "      <td>3</td>\n",
       "      <td>65541.507</td>\n",
       "      <td>0.091</td>\n",
       "      <td>18:12:21:507</td>\n",
       "      <td>0001462731 [app] INFO: ACCEL:</td>\n",
       "      <td>-960</td>\n",
       "      <td>-288</td>\n",
       "      <td>1600</td>\n",
       "      <td>-32.457813</td>\n",
       "      <td>176.883011</td>\n",
       "      <td>64.703102</td>\n",
       "      <td>-87.360</td>\n",
       "      <td>-2.953661</td>\n",
       "      <td>1888.000000</td>\n",
       "      <td>191.121952</td>\n",
       "      <td>0.039205</td>\n",
       "      <td>Normal data</td>\n",
       "      <td>Normal data</td>\n",
       "      <td>Normal data</td>\n",
       "    </tr>\n",
       "    <tr>\n",
       "      <th>4</th>\n",
       "      <td>4</td>\n",
       "      <td>65541.603</td>\n",
       "      <td>0.096</td>\n",
       "      <td>18:12:21:603</td>\n",
       "      <td>0001462821 [app] INFO: ACCEL:</td>\n",
       "      <td>-1216</td>\n",
       "      <td>448</td>\n",
       "      <td>1792</td>\n",
       "      <td>-50.310703</td>\n",
       "      <td>180.980347</td>\n",
       "      <td>93.299789</td>\n",
       "      <td>-116.736</td>\n",
       "      <td>-4.829827</td>\n",
       "      <td>2211.475526</td>\n",
       "      <td>209.737702</td>\n",
       "      <td>0.049189</td>\n",
       "      <td>Normal data</td>\n",
       "      <td>Normal data</td>\n",
       "      <td>Normal data</td>\n",
       "    </tr>\n",
       "  </tbody>\n",
       "</table>\n",
       "</div>"
      ],
      "text/plain": [
       "   Unnamed: 0  time_seconds  time_seconds_delta     Timestamp  \\\n",
       "0           0     65541.234               0.000  18:12:21:234   \n",
       "1           1     65541.325               0.091  18:12:21:325   \n",
       "2           2     65541.416               0.091  18:12:21:416   \n",
       "3           3     65541.507               0.091  18:12:21:507   \n",
       "4           4     65541.603               0.096  18:12:21:603   \n",
       "\n",
       "                             Data    AX    AY    AZ        fAX         fAY  \\\n",
       "0  0001462415 [app] INFO: ACCEL:   -704  -480   576  26.766279  168.241196   \n",
       "1  0001462551 [app] INFO: ACCEL:  -2016  1984    96  -3.032218  195.304382   \n",
       "2  0001462641 [app] INFO: ACCEL:  -1024  -544  1824 -18.302029  184.058868   \n",
       "3  0001462731 [app] INFO: ACCEL:   -960  -288  1600 -32.457813  176.883011   \n",
       "4  0001462821 [app] INFO: ACCEL:  -1216   448  1792 -50.310703  180.980347   \n",
       "\n",
       "         fAZ  speed_change  filtered_speed_change         Amag       fAmag  \\\n",
       "0   8.758143         0.000               0.000000  1028.490156  170.582059   \n",
       "1  10.175572      -183.456              -0.275932  2830.146286  195.592787   \n",
       "2  39.223648       -93.184              -1.665485  2161.362533  189.079681   \n",
       "3  64.703102       -87.360              -2.953661  1888.000000  191.121952   \n",
       "4  93.299789      -116.736              -4.829827  2211.475526  209.737702   \n",
       "\n",
       "   fAmag_norm Q3 threshold Std threshold HO threshold  \n",
       "0    0.028189  Normal data   Normal data  Normal data  \n",
       "1    0.041602  Normal data   Normal data  Normal data  \n",
       "2    0.038109  Normal data   Normal data  Normal data  \n",
       "3    0.039205  Normal data   Normal data  Normal data  \n",
       "4    0.049189  Normal data   Normal data  Normal data  "
      ]
     },
     "execution_count": 18,
     "metadata": {},
     "output_type": "execute_result"
    }
   ],
   "source": [
    "accel_7_fast_and_stop.head()"
   ]
  },
  {
   "cell_type": "code",
   "execution_count": 19,
   "id": "25f39517",
   "metadata": {},
   "outputs": [],
   "source": [
    "# Create new column with necessary columns\n",
    "accel_7_fast_and_stop_copy=accel_7_fast_and_stop[['time_seconds', 'time_seconds_delta', 'fAmag_norm', 'Q3 threshold','Std threshold', 'HO threshold']]"
   ]
  },
  {
   "cell_type": "code",
   "execution_count": 20,
   "id": "a2c06eca",
   "metadata": {},
   "outputs": [],
   "source": [
    "# Replace Normal Data as 0 and Abnormal Data as 1\n",
    "# Assumptions for BLR\n",
    "# Assumption 1: Binary logistic regression requires the dependent variable to be binary.\n",
    "# Assumption 2: For a binary logistic regression, the factor level 1 of the dependent variable should represent the desired outcome.\n",
    "accel_7_fast_and_stop_copy=accel_7_fast_and_stop_copy.replace('Normal data', 0)\n",
    "accel_7_fast_and_stop_copy=accel_7_fast_and_stop_copy.replace('Abnormal data', 1)"
   ]
  },
  {
   "cell_type": "code",
   "execution_count": 21,
   "id": "094896f4",
   "metadata": {},
   "outputs": [
    {
     "data": {
      "text/html": [
       "<div>\n",
       "<style scoped>\n",
       "    .dataframe tbody tr th:only-of-type {\n",
       "        vertical-align: middle;\n",
       "    }\n",
       "\n",
       "    .dataframe tbody tr th {\n",
       "        vertical-align: top;\n",
       "    }\n",
       "\n",
       "    .dataframe thead th {\n",
       "        text-align: right;\n",
       "    }\n",
       "</style>\n",
       "<table border=\"1\" class=\"dataframe\">\n",
       "  <thead>\n",
       "    <tr style=\"text-align: right;\">\n",
       "      <th></th>\n",
       "      <th>time_seconds</th>\n",
       "      <th>time_seconds_delta</th>\n",
       "      <th>fAmag_norm</th>\n",
       "      <th>Q3 threshold</th>\n",
       "      <th>Std threshold</th>\n",
       "      <th>HO threshold</th>\n",
       "    </tr>\n",
       "  </thead>\n",
       "  <tbody>\n",
       "    <tr>\n",
       "      <th>0</th>\n",
       "      <td>65541.234</td>\n",
       "      <td>0.000</td>\n",
       "      <td>0.028189</td>\n",
       "      <td>0</td>\n",
       "      <td>0</td>\n",
       "      <td>0</td>\n",
       "    </tr>\n",
       "    <tr>\n",
       "      <th>1</th>\n",
       "      <td>65541.325</td>\n",
       "      <td>0.091</td>\n",
       "      <td>0.041602</td>\n",
       "      <td>0</td>\n",
       "      <td>0</td>\n",
       "      <td>0</td>\n",
       "    </tr>\n",
       "    <tr>\n",
       "      <th>2</th>\n",
       "      <td>65541.416</td>\n",
       "      <td>0.091</td>\n",
       "      <td>0.038109</td>\n",
       "      <td>0</td>\n",
       "      <td>0</td>\n",
       "      <td>0</td>\n",
       "    </tr>\n",
       "    <tr>\n",
       "      <th>3</th>\n",
       "      <td>65541.507</td>\n",
       "      <td>0.091</td>\n",
       "      <td>0.039205</td>\n",
       "      <td>0</td>\n",
       "      <td>0</td>\n",
       "      <td>0</td>\n",
       "    </tr>\n",
       "    <tr>\n",
       "      <th>4</th>\n",
       "      <td>65541.603</td>\n",
       "      <td>0.096</td>\n",
       "      <td>0.049189</td>\n",
       "      <td>0</td>\n",
       "      <td>0</td>\n",
       "      <td>0</td>\n",
       "    </tr>\n",
       "  </tbody>\n",
       "</table>\n",
       "</div>"
      ],
      "text/plain": [
       "   time_seconds  time_seconds_delta  fAmag_norm  Q3 threshold  Std threshold  \\\n",
       "0     65541.234               0.000    0.028189             0              0   \n",
       "1     65541.325               0.091    0.041602             0              0   \n",
       "2     65541.416               0.091    0.038109             0              0   \n",
       "3     65541.507               0.091    0.039205             0              0   \n",
       "4     65541.603               0.096    0.049189             0              0   \n",
       "\n",
       "   HO threshold  \n",
       "0             0  \n",
       "1             0  \n",
       "2             0  \n",
       "3             0  \n",
       "4             0  "
      ]
     },
     "execution_count": 21,
     "metadata": {},
     "output_type": "execute_result"
    }
   ],
   "source": [
    "accel_7_fast_and_stop_copy.head()"
   ]
  },
  {
   "cell_type": "code",
   "execution_count": 22,
   "id": "7dc7f38a",
   "metadata": {},
   "outputs": [
    {
     "data": {
      "text/plain": [
       "Text(0.5, 1.0, 'Q3 threshold Imbalance')"
      ]
     },
     "execution_count": 22,
     "metadata": {},
     "output_type": "execute_result"
    },
    {
     "data": {
      "image/png": "[encoded data removed]",
      "text/plain": [
       "<Figure size 432x288 with 1 Axes>"
      ]
     },
     "metadata": {},
     "output_type": "display_data"
    }
   ],
   "source": [
    "# Create a plot with Seaborn.\n",
    "import seaborn as sns\n",
    "\n",
    "sns.set_theme(style='darkgrid')\n",
    "ax = sns.countplot(x='Q3 threshold', data=accel_7_fast_and_stop_copy)\n",
    "ax.set_title('Q3 threshold Imbalance')"
   ]
  },
  {
   "cell_type": "code",
   "execution_count": 23,
   "id": "cfd2611c",
   "metadata": {},
   "outputs": [],
   "source": [
    "# Import all the necessary packages:\n",
    "import statsmodels.api as sm   \n",
    "import imblearn\n",
    "from imblearn.over_sampling import SMOTE  \n",
    "from sklearn.model_selection import train_test_split \n",
    "\n",
    "import warnings  \n",
    "warnings.filterwarnings('ignore')"
   ]
  },
  {
   "cell_type": "code",
   "execution_count": 24,
   "id": "404ea2ff",
   "metadata": {},
   "outputs": [
    {
     "name": "stdout",
     "output_type": "stream",
     "text": [
      "   time_seconds_delta  fAmag_norm\n",
      "0               0.722    1.000000\n",
      "1               0.091    0.039205\n",
      "2               0.090    0.052155\n",
      "3               0.094    0.037931\n",
      "4               3.018    0.101357\n"
     ]
    },
    {
     "data": {
      "text/html": [
       "<div>\n",
       "<style scoped>\n",
       "    .dataframe tbody tr th:only-of-type {\n",
       "        vertical-align: middle;\n",
       "    }\n",
       "\n",
       "    .dataframe tbody tr th {\n",
       "        vertical-align: top;\n",
       "    }\n",
       "\n",
       "    .dataframe thead th {\n",
       "        text-align: right;\n",
       "    }\n",
       "</style>\n",
       "<table border=\"1\" class=\"dataframe\">\n",
       "  <thead>\n",
       "    <tr style=\"text-align: right;\">\n",
       "      <th></th>\n",
       "      <th>Q3 threshold</th>\n",
       "    </tr>\n",
       "  </thead>\n",
       "  <tbody>\n",
       "    <tr>\n",
       "      <th>0</th>\n",
       "      <td>1</td>\n",
       "    </tr>\n",
       "    <tr>\n",
       "      <th>1</th>\n",
       "      <td>0</td>\n",
       "    </tr>\n",
       "    <tr>\n",
       "      <th>2</th>\n",
       "      <td>0</td>\n",
       "    </tr>\n",
       "    <tr>\n",
       "      <th>3</th>\n",
       "      <td>0</td>\n",
       "    </tr>\n",
       "    <tr>\n",
       "      <th>4</th>\n",
       "      <td>0</td>\n",
       "    </tr>\n",
       "  </tbody>\n",
       "</table>\n",
       "</div>"
      ],
      "text/plain": [
       "   Q3 threshold\n",
       "0             1\n",
       "1             0\n",
       "2             0\n",
       "3             0\n",
       "4             0"
      ]
     },
     "execution_count": 24,
     "metadata": {},
     "output_type": "execute_result"
    }
   ],
   "source": [
    "# Select necessary columns: \n",
    "nec_cols = [ 'time_seconds_delta', 'fAmag_norm']\n",
    "\n",
    "X = accel_7_fast_and_stop_copy[nec_cols]\n",
    "y = accel_7_fast_and_stop_copy.loc[:, accel_7_fast_and_stop_copy.columns =='Q3 threshold']\n",
    "\n",
    "# Apply SMOTE class as the target variable is not balanced.\n",
    "os = SMOTE(random_state=0)\n",
    "X_train, X_test, y_train, y_test = train_test_split(X, y, test_size=0.3, random_state=0)\n",
    "\n",
    "# Specify the new data sets.\n",
    "os_data_X, os_data_y = os.fit_resample(X_train, y_train)  \n",
    "\n",
    "# Create two DataFrames for X and one for y:\n",
    "os_data_X = pd.DataFrame(data = os_data_X, columns = X.columns) \n",
    "\n",
    "os_data_y = pd.DataFrame(data = os_data_y, columns = ['Q3 threshold'])\n",
    "\n",
    "# View DataFrame.\n",
    "print(os_data_X.head())\n",
    "os_data_y.head()"
   ]
  },
  {
   "cell_type": "code",
   "execution_count": 25,
   "id": "4f546632",
   "metadata": {},
   "outputs": [
    {
     "data": {
      "text/plain": [
       "1    62\n",
       "0    62\n",
       "Name: Q3 threshold, dtype: int64"
      ]
     },
     "execution_count": 25,
     "metadata": {},
     "output_type": "execute_result"
    }
   ],
   "source": [
    "os_data_y['Q3 threshold'].value_counts()"
   ]
  },
  {
   "cell_type": "code",
   "execution_count": 26,
   "id": "dec1a99b",
   "metadata": {},
   "outputs": [
    {
     "data": {
      "text/plain": [
       "Text(0.5, 1.0, 'New Balanced Q3 threshold')"
      ]
     },
     "execution_count": 26,
     "metadata": {},
     "output_type": "execute_result"
    },
    {
     "data": {
      "image/png": "[encoded data removed]",
      "text/plain": [
       "<Figure size 432x288 with 1 Axes>"
      ]
     },
     "metadata": {},
     "output_type": "display_data"
    }
   ],
   "source": [
    "sns.set_theme(style ='darkgrid')\n",
    "ax = sns.countplot(x ='Q3 threshold', data = os_data_y)\n",
    "ax.set_title(\"New Balanced Q3 threshold\")"
   ]
  },
  {
   "cell_type": "code",
   "execution_count": 27,
   "id": "f060520b",
   "metadata": {},
   "outputs": [
    {
     "data": {
      "image/png": "[encoded data removed]",
      "text/plain": [
       "<Figure size 432x288 with 1 Axes>"
      ]
     },
     "metadata": {},
     "output_type": "display_data"
    }
   ],
   "source": [
    "# The Box-Tidwell test can be used to explore whether the independent variables () are linearly related to the log odds (Assumption 5). \n",
    "#However, the Box-Tidwell test is only applicable to continuous variables.\n",
    "\n",
    "fAmag_norm = sns.regplot(x = 'fAmag_norm',\n",
    "                  y= 'Q3 threshold',\n",
    "                  data=accel_7_fast_and_stop_copy,\n",
    "                  logistic= True).set_title(\"fAmag_norm Log Odds Linear Plot\")"
   ]
  },
  {
   "cell_type": "code",
   "execution_count": 28,
   "id": "86457cb9",
   "metadata": {},
   "outputs": [
    {
     "name": "stdout",
     "output_type": "stream",
     "text": [
      "Optimization terminated successfully.\n",
      "         Current function value: 0.405046\n",
      "         Iterations 8\n"
     ]
    },
    {
     "data": {
      "text/html": [
       "<table class=\"simpletable\">\n",
       "<caption>Logit Regression Results</caption>\n",
       "<tr>\n",
       "  <th>Dep. Variable:</th>     <td>Q3 threshold</td>   <th>  No. Observations:  </th>  <td>   124</td>  \n",
       "</tr>\n",
       "<tr>\n",
       "  <th>Model:</th>                 <td>Logit</td>      <th>  Df Residuals:      </th>  <td>   122</td>  \n",
       "</tr>\n",
       "<tr>\n",
       "  <th>Method:</th>                 <td>MLE</td>       <th>  Df Model:          </th>  <td>     1</td>  \n",
       "</tr>\n",
       "<tr>\n",
       "  <th>Date:</th>            <td>Mon, 24 Oct 2022</td> <th>  Pseudo R-squ.:     </th>  <td>0.4156</td>  \n",
       "</tr>\n",
       "<tr>\n",
       "  <th>Time:</th>                <td>15:36:23</td>     <th>  Log-Likelihood:    </th> <td> -50.226</td> \n",
       "</tr>\n",
       "<tr>\n",
       "  <th>converged:</th>             <td>True</td>       <th>  LL-Null:           </th> <td> -85.950</td> \n",
       "</tr>\n",
       "<tr>\n",
       "  <th>Covariance Type:</th>     <td>nonrobust</td>    <th>  LLR p-value:       </th> <td>2.845e-17</td>\n",
       "</tr>\n",
       "</table>\n",
       "<table class=\"simpletable\">\n",
       "<tr>\n",
       "           <td></td>             <th>coef</th>     <th>std err</th>      <th>z</th>      <th>P>|z|</th>  <th>[0.025</th>    <th>0.975]</th>  \n",
       "</tr>\n",
       "<tr>\n",
       "  <th>time_seconds_delta</th> <td>   -3.9062</td> <td>    1.034</td> <td>   -3.777</td> <td> 0.000</td> <td>   -5.933</td> <td>   -1.879</td>\n",
       "</tr>\n",
       "<tr>\n",
       "  <th>fAmag_norm</th>         <td>   14.7376</td> <td>    3.399</td> <td>    4.336</td> <td> 0.000</td> <td>    8.076</td> <td>   21.399</td>\n",
       "</tr>\n",
       "</table>"
      ],
      "text/plain": [
       "<class 'statsmodels.iolib.summary.Summary'>\n",
       "\"\"\"\n",
       "                           Logit Regression Results                           \n",
       "==============================================================================\n",
       "Dep. Variable:           Q3 threshold   No. Observations:                  124\n",
       "Model:                          Logit   Df Residuals:                      122\n",
       "Method:                           MLE   Df Model:                            1\n",
       "Date:                Mon, 24 Oct 2022   Pseudo R-squ.:                  0.4156\n",
       "Time:                        15:36:23   Log-Likelihood:                -50.226\n",
       "converged:                       True   LL-Null:                       -85.950\n",
       "Covariance Type:            nonrobust   LLR p-value:                 2.845e-17\n",
       "======================================================================================\n",
       "                         coef    std err          z      P>|z|      [0.025      0.975]\n",
       "--------------------------------------------------------------------------------------\n",
       "time_seconds_delta    -3.9062      1.034     -3.777      0.000      -5.933      -1.879\n",
       "fAmag_norm            14.7376      3.399      4.336      0.000       8.076      21.399\n",
       "======================================================================================\n",
       "\"\"\""
      ]
     },
     "execution_count": 28,
     "metadata": {},
     "output_type": "execute_result"
    }
   ],
   "source": [
    "# Name the new DataFrame and specify all the columns for BLR:\n",
    "nec_cols = [ 'time_seconds_delta', 'fAmag_norm']\n",
    "\n",
    "# Set the independent variable.\n",
    "X = os_data_X[nec_cols]  \n",
    "\n",
    "# Set the dependent variable.\n",
    "y = os_data_y['Q3 threshold']  \n",
    "\n",
    "# Set the logit() to accept y and x as parameters and return the logit object:\n",
    "logit_model_1=sm.Logit(y, X)\n",
    "\n",
    "# Indicate result = logit_model.fit() function.\n",
    "result = logit_model_1.fit()  \n",
    "\n",
    "# Print the results.\n",
    "result.summary()"
   ]
  },
  {
   "cell_type": "code",
   "execution_count": 29,
   "id": "f0bec5b8",
   "metadata": {},
   "outputs": [
    {
     "data": {
      "text/html": [
       "<style>#sk-container-id-1 {color: black;background-color: white;}#sk-container-id-1 pre{padding: 0;}#sk-container-id-1 div.sk-toggleable {background-color: white;}#sk-container-id-1 label.sk-toggleable__label {cursor: pointer;display: block;width: 100%;margin-bottom: 0;padding: 0.3em;box-sizing: border-box;text-align: center;}#sk-container-id-1 label.sk-toggleable__label-arrow:before {content: \"▸\";float: left;margin-right: 0.25em;color: #696969;}#sk-container-id-1 label.sk-toggleable__label-arrow:hover:before {color: black;}#sk-container-id-1 div.sk-estimator:hover label.sk-toggleable__label-arrow:before {color: black;}#sk-container-id-1 div.sk-toggleable__content {max-height: 0;max-width: 0;overflow: hidden;text-align: left;background-color: #f0f8ff;}#sk-container-id-1 div.sk-toggleable__content pre {margin: 0.2em;color: black;border-radius: 0.25em;background-color: #f0f8ff;}#sk-container-id-1 input.sk-toggleable__control:checked~div.sk-toggleable__content {max-height: 200px;max-width: 100%;overflow: auto;}#sk-container-id-1 input.sk-toggleable__control:checked~label.sk-toggleable__label-arrow:before {content: \"▾\";}#sk-container-id-1 div.sk-estimator input.sk-toggleable__control:checked~label.sk-toggleable__label {background-color: #d4ebff;}#sk-container-id-1 div.sk-label input.sk-toggleable__control:checked~label.sk-toggleable__label {background-color: #d4ebff;}#sk-container-id-1 input.sk-hidden--visually {border: 0;clip: rect(1px 1px 1px 1px);clip: rect(1px, 1px, 1px, 1px);height: 1px;margin: -1px;overflow: hidden;padding: 0;position: absolute;width: 1px;}#sk-container-id-1 div.sk-estimator {font-family: monospace;background-color: #f0f8ff;border: 1px dotted black;border-radius: 0.25em;box-sizing: border-box;margin-bottom: 0.5em;}#sk-container-id-1 div.sk-estimator:hover {background-color: #d4ebff;}#sk-container-id-1 div.sk-parallel-item::after {content: \"\";width: 100%;border-bottom: 1px solid gray;flex-grow: 1;}#sk-container-id-1 div.sk-label:hover label.sk-toggleable__label {background-color: #d4ebff;}#sk-container-id-1 div.sk-serial::before {content: \"\";position: absolute;border-left: 1px solid gray;box-sizing: border-box;top: 0;bottom: 0;left: 50%;z-index: 0;}#sk-container-id-1 div.sk-serial {display: flex;flex-direction: column;align-items: center;background-color: white;padding-right: 0.2em;padding-left: 0.2em;position: relative;}#sk-container-id-1 div.sk-item {position: relative;z-index: 1;}#sk-container-id-1 div.sk-parallel {display: flex;align-items: stretch;justify-content: center;background-color: white;position: relative;}#sk-container-id-1 div.sk-item::before, #sk-container-id-1 div.sk-parallel-item::before {content: \"\";position: absolute;border-left: 1px solid gray;box-sizing: border-box;top: 0;bottom: 0;left: 50%;z-index: -1;}#sk-container-id-1 div.sk-parallel-item {display: flex;flex-direction: column;z-index: 1;position: relative;background-color: white;}#sk-container-id-1 div.sk-parallel-item:first-child::after {align-self: flex-end;width: 50%;}#sk-container-id-1 div.sk-parallel-item:last-child::after {align-self: flex-start;width: 50%;}#sk-container-id-1 div.sk-parallel-item:only-child::after {width: 0;}#sk-container-id-1 div.sk-dashed-wrapped {border: 1px dashed gray;margin: 0 0.4em 0.5em 0.4em;box-sizing: border-box;padding-bottom: 0.4em;background-color: white;}#sk-container-id-1 div.sk-label label {font-family: monospace;font-weight: bold;display: inline-block;line-height: 1.2em;}#sk-container-id-1 div.sk-label-container {text-align: center;}#sk-container-id-1 div.sk-container {/* jupyter's `normalize.less` sets `[hidden] { display: none; }` but bootstrap.min.css set `[hidden] { display: none !important; }` so we also need the `!important` here to be able to override the default hidden behavior on the sphinx rendered scikit-learn.org. See: https://github.com/scikit-learn/scikit-learn/issues/21755 */display: inline-block !important;position: relative;}#sk-container-id-1 div.sk-text-repr-fallback {display: none;}</style><div id=\"sk-container-id-1\" class=\"sk-top-container\"><div class=\"sk-text-repr-fallback\"><pre>LogisticRegression()</pre><b>In a Jupyter environment, please rerun this cell to show the HTML representation or trust the notebook. <br />On GitHub, the HTML representation is unable to render, please try loading this page with nbviewer.org.</b></div><div class=\"sk-container\" hidden><div class=\"sk-item\"><div class=\"sk-estimator sk-toggleable\"><input class=\"sk-toggleable__control sk-hidden--visually\" id=\"sk-estimator-id-1\" type=\"checkbox\" checked><label for=\"sk-estimator-id-1\" class=\"sk-toggleable__label sk-toggleable__label-arrow\">LogisticRegression</label><div class=\"sk-toggleable__content\"><pre>LogisticRegression()</pre></div></div></div></div></div>"
      ],
      "text/plain": [
       "LogisticRegression()"
      ]
     },
     "execution_count": 29,
     "metadata": {},
     "output_type": "execute_result"
    }
   ],
   "source": [
    "# Import necessary packages:\n",
    "from sklearn.linear_model import LogisticRegression\n",
    "from sklearn import metrics\n",
    "\n",
    "# Split X and y data sets into ‘train’ and ‘test’ in a 30:70 ratio:\n",
    "X_train, X_test, y_train, y_test = train_test_split(X, y, test_size=0.3,\n",
    "                                                    random_state=0)\n",
    "\n",
    "# Set LogisticRegression() to logreg.\n",
    "logreg = LogisticRegression() \n",
    "\n",
    "# Fit the X_train and y_train data sets to logreg. \n",
    "logreg.fit(X_train, y_train) "
   ]
  },
  {
   "cell_type": "code",
   "execution_count": 30,
   "id": "9805a3b5",
   "metadata": {},
   "outputs": [
    {
     "name": "stdout",
     "output_type": "stream",
     "text": [
      "Accuracy of logistic regression classifier on test set: 0.92\n"
     ]
    }
   ],
   "source": [
    "# Determine BLR model’s accuracy:\n",
    "y_pred = logreg.predict(X_test)\n",
    "\n",
    "print('Accuracy of logistic regression classifier on test set: {:.2f}'\\\n",
    "      .format(logreg.score(X_test, y_test)))"
   ]
  },
  {
   "cell_type": "code",
   "execution_count": 31,
   "id": "41958f02",
   "metadata": {},
   "outputs": [
    {
     "data": {
      "text/plain": [
       "<AxesSubplot:>"
      ]
     },
     "execution_count": 31,
     "metadata": {},
     "output_type": "execute_result"
    },
    {
     "data": {
      "image/png": "[encoded data removed]",
      "text/plain": [
       "<Figure size 432x288 with 2 Axes>"
      ]
     },
     "metadata": {},
     "output_type": "display_data"
    }
   ],
   "source": [
    "# Create the confusion matrix to test classification accuracy in BLR:\n",
    "# Import the necessary package to create the confusion matrix. \n",
    "from sklearn.metrics import confusion_matrix  \n",
    "\n",
    "# Indicate the confusion matrix needs to be created.\n",
    "confusion_matrix = confusion_matrix(y_test, y_pred)  \n",
    "\n",
    "# Plot the confusion_matrix.\n",
    "sns.heatmap(confusion_matrix, annot=True, fmt='g')"
   ]
  },
  {
   "cell_type": "code",
   "execution_count": 32,
   "id": "b6370e64",
   "metadata": {},
   "outputs": [
    {
     "name": "stdout",
     "output_type": "stream",
     "text": [
      "              precision    recall  f1-score   support\n",
      "\n",
      "           0       0.85      1.00      0.92        17\n",
      "           1       1.00      0.86      0.92        21\n",
      "\n",
      "    accuracy                           0.92        38\n",
      "   macro avg       0.93      0.93      0.92        38\n",
      "weighted avg       0.93      0.92      0.92        38\n",
      "\n"
     ]
    }
   ],
   "source": [
    "# Import the necessary package.\n",
    "from sklearn.metrics import classification_report  \n",
    "\n",
    "# Print a report on the model's accuracy.\n",
    "print(classification_report(y_test, y_pred))  "
   ]
  },
  {
   "cell_type": "code",
   "execution_count": 33,
   "id": "51ef1a1f",
   "metadata": {},
   "outputs": [],
   "source": [
    "nec_cols = [ 'time_seconds_delta', 'fAmag_norm']\n",
    "\n",
    "X = IOT_accel[nec_cols]"
   ]
  },
  {
   "cell_type": "code",
   "execution_count": 34,
   "id": "798fe357",
   "metadata": {},
   "outputs": [],
   "source": [
    "# Predict the abnormal behaviour\n",
    "y_pred = logreg.predict(X)"
   ]
  },
  {
   "cell_type": "code",
   "execution_count": 35,
   "id": "8cc271e4",
   "metadata": {},
   "outputs": [],
   "source": [
    "IOT_accel['Accel_7_fast_stop_BLR']=y_pred"
   ]
  },
  {
   "cell_type": "code",
   "execution_count": 36,
   "id": "31c21762",
   "metadata": {},
   "outputs": [
    {
     "data": {
      "text/html": [
       "<div>\n",
       "<style scoped>\n",
       "    .dataframe tbody tr th:only-of-type {\n",
       "        vertical-align: middle;\n",
       "    }\n",
       "\n",
       "    .dataframe tbody tr th {\n",
       "        vertical-align: top;\n",
       "    }\n",
       "\n",
       "    .dataframe thead th {\n",
       "        text-align: right;\n",
       "    }\n",
       "</style>\n",
       "<table border=\"1\" class=\"dataframe\">\n",
       "  <thead>\n",
       "    <tr style=\"text-align: right;\">\n",
       "      <th></th>\n",
       "      <th>time</th>\n",
       "      <th>time_seconds_delta</th>\n",
       "      <th>Amag</th>\n",
       "      <th>fAmag_norm</th>\n",
       "      <th>Accel_7_fast_stop_BLR</th>\n",
       "    </tr>\n",
       "  </thead>\n",
       "  <tbody>\n",
       "    <tr>\n",
       "      <th>0</th>\n",
       "      <td>0.004313</td>\n",
       "      <td>0.000000</td>\n",
       "      <td>0.311</td>\n",
       "      <td>0.003577</td>\n",
       "      <td>0</td>\n",
       "    </tr>\n",
       "    <tr>\n",
       "      <th>1</th>\n",
       "      <td>0.016459</td>\n",
       "      <td>0.012146</td>\n",
       "      <td>0.121</td>\n",
       "      <td>0.001327</td>\n",
       "      <td>0</td>\n",
       "    </tr>\n",
       "    <tr>\n",
       "      <th>2</th>\n",
       "      <td>0.022998</td>\n",
       "      <td>0.006539</td>\n",
       "      <td>0.136</td>\n",
       "      <td>0.001504</td>\n",
       "      <td>0</td>\n",
       "    </tr>\n",
       "    <tr>\n",
       "      <th>3</th>\n",
       "      <td>0.033322</td>\n",
       "      <td>0.010324</td>\n",
       "      <td>0.146</td>\n",
       "      <td>0.001623</td>\n",
       "      <td>0</td>\n",
       "    </tr>\n",
       "    <tr>\n",
       "      <th>4</th>\n",
       "      <td>0.042877</td>\n",
       "      <td>0.009555</td>\n",
       "      <td>0.108</td>\n",
       "      <td>0.001173</td>\n",
       "      <td>0</td>\n",
       "    </tr>\n",
       "  </tbody>\n",
       "</table>\n",
       "</div>"
      ],
      "text/plain": [
       "       time  time_seconds_delta   Amag  fAmag_norm  Accel_7_fast_stop_BLR\n",
       "0  0.004313            0.000000  0.311    0.003577                      0\n",
       "1  0.016459            0.012146  0.121    0.001327                      0\n",
       "2  0.022998            0.006539  0.136    0.001504                      0\n",
       "3  0.033322            0.010324  0.146    0.001623                      0\n",
       "4  0.042877            0.009555  0.108    0.001173                      0"
      ]
     },
     "execution_count": 36,
     "metadata": {},
     "output_type": "execute_result"
    }
   ],
   "source": [
    "IOT_accel.head()"
   ]
  },
  {
   "cell_type": "code",
   "execution_count": 37,
   "id": "11e22b4e",
   "metadata": {},
   "outputs": [
    {
     "data": {
      "text/plain": [
       "0    81763\n",
       "1     2389\n",
       "Name: Accel_7_fast_stop_BLR, dtype: int64"
      ]
     },
     "execution_count": 37,
     "metadata": {},
     "output_type": "execute_result"
    }
   ],
   "source": [
    "IOT_accel['Accel_7_fast_stop_BLR'].value_counts()"
   ]
  },
  {
   "cell_type": "code",
   "execution_count": 38,
   "id": "f3d4cd4a",
   "metadata": {
    "scrolled": true
   },
   "outputs": [
    {
     "data": {
      "text/plain": [
       "<AxesSubplot:xlabel='time', ylabel='fAmag_norm'>"
      ]
     },
     "execution_count": 38,
     "metadata": {},
     "output_type": "execute_result"
    },
    {
     "data": {
      "image/png": "[encoded data removed]",
      "text/plain": [
       "<Figure size 1080x576 with 1 Axes>"
      ]
     },
     "metadata": {},
     "output_type": "display_data"
    }
   ],
   "source": [
    "plt.figure(figsize=(15,8))\n",
    "sns.lineplot(data=IOT_accel, x='time', y='fAmag_norm', hue='Accel_7_fast_stop_BLR')"
   ]
  },
  {
   "cell_type": "markdown",
   "id": "a62b28b3",
   "metadata": {},
   "source": [
    "## Gyro_1_curb_up - BLR Model"
   ]
  },
  {
   "cell_type": "code",
   "execution_count": 39,
   "id": "69cb2eb5",
   "metadata": {},
   "outputs": [],
   "source": [
    "Gyro_1_curb_up=pd.read_csv('Gyro_1_curb_up_normal_vs_abnormal.csv')"
   ]
  },
  {
   "cell_type": "code",
   "execution_count": 40,
   "id": "c79a87b2",
   "metadata": {},
   "outputs": [
    {
     "data": {
      "text/html": [
       "<div>\n",
       "<style scoped>\n",
       "    .dataframe tbody tr th:only-of-type {\n",
       "        vertical-align: middle;\n",
       "    }\n",
       "\n",
       "    .dataframe tbody tr th {\n",
       "        vertical-align: top;\n",
       "    }\n",
       "\n",
       "    .dataframe thead th {\n",
       "        text-align: right;\n",
       "    }\n",
       "</style>\n",
       "<table border=\"1\" class=\"dataframe\">\n",
       "  <thead>\n",
       "    <tr style=\"text-align: right;\">\n",
       "      <th></th>\n",
       "      <th>Unnamed: 0</th>\n",
       "      <th>time_seconds</th>\n",
       "      <th>time_seconds_delta</th>\n",
       "      <th>Timestamp</th>\n",
       "      <th>Data</th>\n",
       "      <th>X</th>\n",
       "      <th>Y</th>\n",
       "      <th>Z</th>\n",
       "      <th>Gmag</th>\n",
       "      <th>Gmag_norm</th>\n",
       "      <th>Q3 threshold</th>\n",
       "      <th>Std threshold</th>\n",
       "      <th>HO threshold</th>\n",
       "    </tr>\n",
       "  </thead>\n",
       "  <tbody>\n",
       "    <tr>\n",
       "      <th>0</th>\n",
       "      <td>0</td>\n",
       "      <td>68004.751</td>\n",
       "      <td>0.000</td>\n",
       "      <td>18:53:24:751</td>\n",
       "      <td>0000187888 [app] INFO: GYRO:</td>\n",
       "      <td>7.016</td>\n",
       "      <td>0.871</td>\n",
       "      <td>-2.113</td>\n",
       "      <td>7.378866</td>\n",
       "      <td>0.10137</td>\n",
       "      <td>Normal data</td>\n",
       "      <td>Normal data</td>\n",
       "      <td>Normal data</td>\n",
       "    </tr>\n",
       "    <tr>\n",
       "      <th>1</th>\n",
       "      <td>1</td>\n",
       "      <td>68004.841</td>\n",
       "      <td>0.090</td>\n",
       "      <td>18:53:24:841</td>\n",
       "      <td>0000187977 [app] INFO: GYRO:</td>\n",
       "      <td>7.016</td>\n",
       "      <td>0.871</td>\n",
       "      <td>-2.113</td>\n",
       "      <td>7.378866</td>\n",
       "      <td>0.10137</td>\n",
       "      <td>Normal data</td>\n",
       "      <td>Normal data</td>\n",
       "      <td>Normal data</td>\n",
       "    </tr>\n",
       "    <tr>\n",
       "      <th>2</th>\n",
       "      <td>2</td>\n",
       "      <td>68004.930</td>\n",
       "      <td>0.089</td>\n",
       "      <td>18:53:24:930</td>\n",
       "      <td>0000188067 [app] INFO: GYRO:</td>\n",
       "      <td>7.016</td>\n",
       "      <td>0.871</td>\n",
       "      <td>-2.113</td>\n",
       "      <td>7.378866</td>\n",
       "      <td>0.10137</td>\n",
       "      <td>Normal data</td>\n",
       "      <td>Normal data</td>\n",
       "      <td>Normal data</td>\n",
       "    </tr>\n",
       "    <tr>\n",
       "      <th>3</th>\n",
       "      <td>3</td>\n",
       "      <td>68005.023</td>\n",
       "      <td>0.093</td>\n",
       "      <td>18:53:25:023</td>\n",
       "      <td>0000188157 [app] INFO: GYRO:</td>\n",
       "      <td>7.016</td>\n",
       "      <td>0.871</td>\n",
       "      <td>-2.113</td>\n",
       "      <td>7.378866</td>\n",
       "      <td>0.10137</td>\n",
       "      <td>Normal data</td>\n",
       "      <td>Normal data</td>\n",
       "      <td>Normal data</td>\n",
       "    </tr>\n",
       "    <tr>\n",
       "      <th>4</th>\n",
       "      <td>4</td>\n",
       "      <td>68005.113</td>\n",
       "      <td>0.090</td>\n",
       "      <td>18:53:25:113</td>\n",
       "      <td>0000188247 [app] INFO: GYRO:</td>\n",
       "      <td>7.016</td>\n",
       "      <td>0.871</td>\n",
       "      <td>-2.113</td>\n",
       "      <td>7.378866</td>\n",
       "      <td>0.10137</td>\n",
       "      <td>Normal data</td>\n",
       "      <td>Normal data</td>\n",
       "      <td>Normal data</td>\n",
       "    </tr>\n",
       "  </tbody>\n",
       "</table>\n",
       "</div>"
      ],
      "text/plain": [
       "   Unnamed: 0  time_seconds  time_seconds_delta     Timestamp  \\\n",
       "0           0     68004.751               0.000  18:53:24:751   \n",
       "1           1     68004.841               0.090  18:53:24:841   \n",
       "2           2     68004.930               0.089  18:53:24:930   \n",
       "3           3     68005.023               0.093  18:53:25:023   \n",
       "4           4     68005.113               0.090  18:53:25:113   \n",
       "\n",
       "                            Data      X      Y      Z      Gmag  Gmag_norm  \\\n",
       "0  0000187888 [app] INFO: GYRO:   7.016  0.871 -2.113  7.378866    0.10137   \n",
       "1  0000187977 [app] INFO: GYRO:   7.016  0.871 -2.113  7.378866    0.10137   \n",
       "2  0000188067 [app] INFO: GYRO:   7.016  0.871 -2.113  7.378866    0.10137   \n",
       "3  0000188157 [app] INFO: GYRO:   7.016  0.871 -2.113  7.378866    0.10137   \n",
       "4  0000188247 [app] INFO: GYRO:   7.016  0.871 -2.113  7.378866    0.10137   \n",
       "\n",
       "  Q3 threshold Std threshold HO threshold  \n",
       "0  Normal data   Normal data  Normal data  \n",
       "1  Normal data   Normal data  Normal data  \n",
       "2  Normal data   Normal data  Normal data  \n",
       "3  Normal data   Normal data  Normal data  \n",
       "4  Normal data   Normal data  Normal data  "
      ]
     },
     "execution_count": 40,
     "metadata": {},
     "output_type": "execute_result"
    }
   ],
   "source": [
    "Gyro_1_curb_up.head()"
   ]
  },
  {
   "cell_type": "code",
   "execution_count": 41,
   "id": "2afa0020",
   "metadata": {},
   "outputs": [],
   "source": [
    "# Create new column with necessary columns\n",
    "Gyro_1_curb_up_copy = Gyro_1_curb_up[['time_seconds', 'time_seconds_delta', 'Gmag_norm', 'Q3 threshold','Std threshold', 'HO threshold']]"
   ]
  },
  {
   "cell_type": "code",
   "execution_count": 42,
   "id": "8a538983",
   "metadata": {},
   "outputs": [],
   "source": [
    "# Replace Normal Data as 0 and Abnormal Data as 1\n",
    "# Assumptions for BLR\n",
    "# Assumption 1: Binary logistic regression requires the dependent variable to be binary.\n",
    "# Assumption 2: For a binary logistic regression, the factor level 1 of the dependent variable should represent the desired outcome.\n",
    "Gyro_1_curb_up_copy = Gyro_1_curb_up_copy.replace('Normal data', 0)\n",
    "Gyro_1_curb_up_copy = Gyro_1_curb_up_copy.replace('Abnormal data', 1)"
   ]
  },
  {
   "cell_type": "code",
   "execution_count": 43,
   "id": "57ae1314",
   "metadata": {},
   "outputs": [
    {
     "data": {
      "text/html": [
       "<div>\n",
       "<style scoped>\n",
       "    .dataframe tbody tr th:only-of-type {\n",
       "        vertical-align: middle;\n",
       "    }\n",
       "\n",
       "    .dataframe tbody tr th {\n",
       "        vertical-align: top;\n",
       "    }\n",
       "\n",
       "    .dataframe thead th {\n",
       "        text-align: right;\n",
       "    }\n",
       "</style>\n",
       "<table border=\"1\" class=\"dataframe\">\n",
       "  <thead>\n",
       "    <tr style=\"text-align: right;\">\n",
       "      <th></th>\n",
       "      <th>time_seconds</th>\n",
       "      <th>time_seconds_delta</th>\n",
       "      <th>Gmag_norm</th>\n",
       "      <th>Q3 threshold</th>\n",
       "      <th>Std threshold</th>\n",
       "      <th>HO threshold</th>\n",
       "    </tr>\n",
       "  </thead>\n",
       "  <tbody>\n",
       "    <tr>\n",
       "      <th>0</th>\n",
       "      <td>68004.751</td>\n",
       "      <td>0.000</td>\n",
       "      <td>0.10137</td>\n",
       "      <td>0</td>\n",
       "      <td>0</td>\n",
       "      <td>0</td>\n",
       "    </tr>\n",
       "    <tr>\n",
       "      <th>1</th>\n",
       "      <td>68004.841</td>\n",
       "      <td>0.090</td>\n",
       "      <td>0.10137</td>\n",
       "      <td>0</td>\n",
       "      <td>0</td>\n",
       "      <td>0</td>\n",
       "    </tr>\n",
       "    <tr>\n",
       "      <th>2</th>\n",
       "      <td>68004.930</td>\n",
       "      <td>0.089</td>\n",
       "      <td>0.10137</td>\n",
       "      <td>0</td>\n",
       "      <td>0</td>\n",
       "      <td>0</td>\n",
       "    </tr>\n",
       "    <tr>\n",
       "      <th>3</th>\n",
       "      <td>68005.023</td>\n",
       "      <td>0.093</td>\n",
       "      <td>0.10137</td>\n",
       "      <td>0</td>\n",
       "      <td>0</td>\n",
       "      <td>0</td>\n",
       "    </tr>\n",
       "    <tr>\n",
       "      <th>4</th>\n",
       "      <td>68005.113</td>\n",
       "      <td>0.090</td>\n",
       "      <td>0.10137</td>\n",
       "      <td>0</td>\n",
       "      <td>0</td>\n",
       "      <td>0</td>\n",
       "    </tr>\n",
       "  </tbody>\n",
       "</table>\n",
       "</div>"
      ],
      "text/plain": [
       "   time_seconds  time_seconds_delta  Gmag_norm  Q3 threshold  Std threshold  \\\n",
       "0     68004.751               0.000    0.10137             0              0   \n",
       "1     68004.841               0.090    0.10137             0              0   \n",
       "2     68004.930               0.089    0.10137             0              0   \n",
       "3     68005.023               0.093    0.10137             0              0   \n",
       "4     68005.113               0.090    0.10137             0              0   \n",
       "\n",
       "   HO threshold  \n",
       "0             0  \n",
       "1             0  \n",
       "2             0  \n",
       "3             0  \n",
       "4             0  "
      ]
     },
     "execution_count": 43,
     "metadata": {},
     "output_type": "execute_result"
    }
   ],
   "source": [
    "Gyro_1_curb_up_copy.head()"
   ]
  },
  {
   "cell_type": "code",
   "execution_count": 44,
   "id": "b0d96f3b",
   "metadata": {},
   "outputs": [
    {
     "data": {
      "text/plain": [
       "Text(0.5, 1.0, 'Q3 threshold Imbalance')"
      ]
     },
     "execution_count": 44,
     "metadata": {},
     "output_type": "execute_result"
    },
    {
     "data": {
      "image/png": "[encoded data removed]",
      "text/plain": [
       "<Figure size 432x288 with 1 Axes>"
      ]
     },
     "metadata": {},
     "output_type": "display_data"
    }
   ],
   "source": [
    "# Create a plot with Seaborn.\n",
    "sns.set_theme(style='darkgrid')\n",
    "ax = sns.countplot(x='Q3 threshold', data = Gyro_1_curb_up_copy)\n",
    "ax.set_title('Q3 threshold Imbalance')"
   ]
  },
  {
   "cell_type": "code",
   "execution_count": 45,
   "id": "224c2643",
   "metadata": {},
   "outputs": [
    {
     "name": "stdout",
     "output_type": "stream",
     "text": [
      "   time_seconds_delta  Gmag_norm\n",
      "0               0.178   0.000000\n",
      "1               0.091   0.398645\n",
      "2               0.092   0.101370\n",
      "3               0.089   0.155570\n",
      "4               0.093   0.000000\n"
     ]
    },
    {
     "data": {
      "text/html": [
       "<div>\n",
       "<style scoped>\n",
       "    .dataframe tbody tr th:only-of-type {\n",
       "        vertical-align: middle;\n",
       "    }\n",
       "\n",
       "    .dataframe tbody tr th {\n",
       "        vertical-align: top;\n",
       "    }\n",
       "\n",
       "    .dataframe thead th {\n",
       "        text-align: right;\n",
       "    }\n",
       "</style>\n",
       "<table border=\"1\" class=\"dataframe\">\n",
       "  <thead>\n",
       "    <tr style=\"text-align: right;\">\n",
       "      <th></th>\n",
       "      <th>Q3 threshold</th>\n",
       "    </tr>\n",
       "  </thead>\n",
       "  <tbody>\n",
       "    <tr>\n",
       "      <th>0</th>\n",
       "      <td>0</td>\n",
       "    </tr>\n",
       "    <tr>\n",
       "      <th>1</th>\n",
       "      <td>1</td>\n",
       "    </tr>\n",
       "    <tr>\n",
       "      <th>2</th>\n",
       "      <td>0</td>\n",
       "    </tr>\n",
       "    <tr>\n",
       "      <th>3</th>\n",
       "      <td>0</td>\n",
       "    </tr>\n",
       "    <tr>\n",
       "      <th>4</th>\n",
       "      <td>0</td>\n",
       "    </tr>\n",
       "  </tbody>\n",
       "</table>\n",
       "</div>"
      ],
      "text/plain": [
       "   Q3 threshold\n",
       "0             0\n",
       "1             1\n",
       "2             0\n",
       "3             0\n",
       "4             0"
      ]
     },
     "execution_count": 45,
     "metadata": {},
     "output_type": "execute_result"
    }
   ],
   "source": [
    "# Select necessary columns: \n",
    "nec_cols = [ 'time_seconds_delta', 'Gmag_norm']\n",
    "\n",
    "X = Gyro_1_curb_up_copy[nec_cols]\n",
    "y = Gyro_1_curb_up_copy.loc[:, Gyro_1_curb_up_copy.columns =='Q3 threshold']\n",
    "\n",
    "# Apply SMOTE class as the target variable is not balanced.\n",
    "os = SMOTE(random_state=0)\n",
    "X_train, X_test, y_train, y_test = train_test_split(X, y, test_size=0.3, random_state=0)\n",
    "\n",
    "# Specify the new data sets.\n",
    "os_data_X, os_data_y = os.fit_resample(X_train, y_train)  \n",
    "\n",
    "# Create two DataFrames for X and one for y:\n",
    "os_data_X = pd.DataFrame(data = os_data_X, columns = X.columns) \n",
    "\n",
    "os_data_y = pd.DataFrame(data = os_data_y, columns = ['Q3 threshold'])\n",
    "\n",
    "# View DataFrame.\n",
    "print(os_data_X.head())\n",
    "os_data_y.head()"
   ]
  },
  {
   "cell_type": "code",
   "execution_count": 46,
   "id": "ffd36a4d",
   "metadata": {},
   "outputs": [
    {
     "data": {
      "text/plain": [
       "0    85\n",
       "1    85\n",
       "Name: Q3 threshold, dtype: int64"
      ]
     },
     "execution_count": 46,
     "metadata": {},
     "output_type": "execute_result"
    }
   ],
   "source": [
    "os_data_y['Q3 threshold'].value_counts()"
   ]
  },
  {
   "cell_type": "code",
   "execution_count": 47,
   "id": "445cbe61",
   "metadata": {},
   "outputs": [
    {
     "data": {
      "text/plain": [
       "Text(0.5, 1.0, 'New Balanced Q3 threshold')"
      ]
     },
     "execution_count": 47,
     "metadata": {},
     "output_type": "execute_result"
    },
    {
     "data": {
      "image/png": "[encoded data removed]",
      "text/plain": [
       "<Figure size 432x288 with 1 Axes>"
      ]
     },
     "metadata": {},
     "output_type": "display_data"
    }
   ],
   "source": [
    "sns.set_theme(style ='darkgrid')\n",
    "ax = sns.countplot(x ='Q3 threshold', data = os_data_y)\n",
    "ax.set_title(\"New Balanced Q3 threshold\")"
   ]
  },
  {
   "cell_type": "code",
   "execution_count": 48,
   "id": "ae878dde",
   "metadata": {},
   "outputs": [
    {
     "data": {
      "image/png": "[encoded data removed]",
      "text/plain": [
       "<Figure size 432x288 with 1 Axes>"
      ]
     },
     "metadata": {},
     "output_type": "display_data"
    }
   ],
   "source": [
    "# The Box-Tidwell test can be used to explore whether the independent variables () are linearly related to the log odds (Assumption 5). \n",
    "#However, the Box-Tidwell test is only applicable to continuous variables.\n",
    "\n",
    "Gmag_norm = sns.regplot(x = 'Gmag_norm',\n",
    "                  y = 'Q3 threshold',\n",
    "                  data = Gyro_1_curb_up_copy,\n",
    "                  logistic = True).set_title(\"Gmag_norm Log Odds Linear Plot\")"
   ]
  },
  {
   "cell_type": "code",
   "execution_count": 49,
   "id": "3e0b1db2",
   "metadata": {},
   "outputs": [
    {
     "name": "stdout",
     "output_type": "stream",
     "text": [
      "Optimization terminated successfully.\n",
      "         Current function value: 0.067294\n",
      "         Iterations 12\n"
     ]
    },
    {
     "data": {
      "text/html": [
       "<table class=\"simpletable\">\n",
       "<caption>Logit Regression Results</caption>\n",
       "<tr>\n",
       "  <th>Dep. Variable:</th>     <td>Q3 threshold</td>   <th>  No. Observations:  </th>  <td>   170</td>  \n",
       "</tr>\n",
       "<tr>\n",
       "  <th>Model:</th>                 <td>Logit</td>      <th>  Df Residuals:      </th>  <td>   168</td>  \n",
       "</tr>\n",
       "<tr>\n",
       "  <th>Method:</th>                 <td>MLE</td>       <th>  Df Model:          </th>  <td>     1</td>  \n",
       "</tr>\n",
       "<tr>\n",
       "  <th>Date:</th>            <td>Mon, 24 Oct 2022</td> <th>  Pseudo R-squ.:     </th>  <td>0.9029</td>  \n",
       "</tr>\n",
       "<tr>\n",
       "  <th>Time:</th>                <td>15:36:31</td>     <th>  Log-Likelihood:    </th> <td> -11.440</td> \n",
       "</tr>\n",
       "<tr>\n",
       "  <th>converged:</th>             <td>True</td>       <th>  LL-Null:           </th> <td> -117.84</td> \n",
       "</tr>\n",
       "<tr>\n",
       "  <th>Covariance Type:</th>     <td>nonrobust</td>    <th>  LLR p-value:       </th> <td>3.382e-48</td>\n",
       "</tr>\n",
       "</table>\n",
       "<table class=\"simpletable\">\n",
       "<tr>\n",
       "           <td></td>             <th>coef</th>     <th>std err</th>      <th>z</th>      <th>P>|z|</th>  <th>[0.025</th>    <th>0.975]</th>  \n",
       "</tr>\n",
       "<tr>\n",
       "  <th>time_seconds_delta</th> <td>  -78.0108</td> <td>   20.956</td> <td>   -3.723</td> <td> 0.000</td> <td> -119.083</td> <td>  -36.938</td>\n",
       "</tr>\n",
       "<tr>\n",
       "  <th>Gmag_norm</th>          <td>   35.9484</td> <td>   11.552</td> <td>    3.112</td> <td> 0.002</td> <td>   13.307</td> <td>   58.590</td>\n",
       "</tr>\n",
       "</table><br/><br/>Possibly complete quasi-separation: A fraction 0.43 of observations can be<br/>perfectly predicted. This might indicate that there is complete<br/>quasi-separation. In this case some parameters will not be identified."
      ],
      "text/plain": [
       "<class 'statsmodels.iolib.summary.Summary'>\n",
       "\"\"\"\n",
       "                           Logit Regression Results                           \n",
       "==============================================================================\n",
       "Dep. Variable:           Q3 threshold   No. Observations:                  170\n",
       "Model:                          Logit   Df Residuals:                      168\n",
       "Method:                           MLE   Df Model:                            1\n",
       "Date:                Mon, 24 Oct 2022   Pseudo R-squ.:                  0.9029\n",
       "Time:                        15:36:31   Log-Likelihood:                -11.440\n",
       "converged:                       True   LL-Null:                       -117.84\n",
       "Covariance Type:            nonrobust   LLR p-value:                 3.382e-48\n",
       "======================================================================================\n",
       "                         coef    std err          z      P>|z|      [0.025      0.975]\n",
       "--------------------------------------------------------------------------------------\n",
       "time_seconds_delta   -78.0108     20.956     -3.723      0.000    -119.083     -36.938\n",
       "Gmag_norm             35.9484     11.552      3.112      0.002      13.307      58.590\n",
       "======================================================================================\n",
       "\n",
       "Possibly complete quasi-separation: A fraction 0.43 of observations can be\n",
       "perfectly predicted. This might indicate that there is complete\n",
       "quasi-separation. In this case some parameters will not be identified.\n",
       "\"\"\""
      ]
     },
     "execution_count": 49,
     "metadata": {},
     "output_type": "execute_result"
    }
   ],
   "source": [
    "# Name the new DataFrame and specify all the columns for BLR:\n",
    "nec_cols = [ 'time_seconds_delta', 'Gmag_norm']\n",
    "\n",
    "# Set the independent variable.\n",
    "X = os_data_X[nec_cols]  \n",
    "\n",
    "# Set the dependent variable.\n",
    "y = os_data_y['Q3 threshold']  \n",
    "\n",
    "# Set the logit() to accept y and x as parameters and return the logit object:\n",
    "logit_model_2=sm.Logit(y, X)\n",
    "\n",
    "# Indicate result = logit_model.fit() function.\n",
    "result = logit_model_2.fit()  \n",
    "\n",
    "# Print the results.\n",
    "result.summary()"
   ]
  },
  {
   "cell_type": "code",
   "execution_count": 50,
   "id": "5c7d311d",
   "metadata": {},
   "outputs": [
    {
     "data": {
      "text/html": [
       "<style>#sk-container-id-2 {color: black;background-color: white;}#sk-container-id-2 pre{padding: 0;}#sk-container-id-2 div.sk-toggleable {background-color: white;}#sk-container-id-2 label.sk-toggleable__label {cursor: pointer;display: block;width: 100%;margin-bottom: 0;padding: 0.3em;box-sizing: border-box;text-align: center;}#sk-container-id-2 label.sk-toggleable__label-arrow:before {content: \"▸\";float: left;margin-right: 0.25em;color: #696969;}#sk-container-id-2 label.sk-toggleable__label-arrow:hover:before {color: black;}#sk-container-id-2 div.sk-estimator:hover label.sk-toggleable__label-arrow:before {color: black;}#sk-container-id-2 div.sk-toggleable__content {max-height: 0;max-width: 0;overflow: hidden;text-align: left;background-color: #f0f8ff;}#sk-container-id-2 div.sk-toggleable__content pre {margin: 0.2em;color: black;border-radius: 0.25em;background-color: #f0f8ff;}#sk-container-id-2 input.sk-toggleable__control:checked~div.sk-toggleable__content {max-height: 200px;max-width: 100%;overflow: auto;}#sk-container-id-2 input.sk-toggleable__control:checked~label.sk-toggleable__label-arrow:before {content: \"▾\";}#sk-container-id-2 div.sk-estimator input.sk-toggleable__control:checked~label.sk-toggleable__label {background-color: #d4ebff;}#sk-container-id-2 div.sk-label input.sk-toggleable__control:checked~label.sk-toggleable__label {background-color: #d4ebff;}#sk-container-id-2 input.sk-hidden--visually {border: 0;clip: rect(1px 1px 1px 1px);clip: rect(1px, 1px, 1px, 1px);height: 1px;margin: -1px;overflow: hidden;padding: 0;position: absolute;width: 1px;}#sk-container-id-2 div.sk-estimator {font-family: monospace;background-color: #f0f8ff;border: 1px dotted black;border-radius: 0.25em;box-sizing: border-box;margin-bottom: 0.5em;}#sk-container-id-2 div.sk-estimator:hover {background-color: #d4ebff;}#sk-container-id-2 div.sk-parallel-item::after {content: \"\";width: 100%;border-bottom: 1px solid gray;flex-grow: 1;}#sk-container-id-2 div.sk-label:hover label.sk-toggleable__label {background-color: #d4ebff;}#sk-container-id-2 div.sk-serial::before {content: \"\";position: absolute;border-left: 1px solid gray;box-sizing: border-box;top: 0;bottom: 0;left: 50%;z-index: 0;}#sk-container-id-2 div.sk-serial {display: flex;flex-direction: column;align-items: center;background-color: white;padding-right: 0.2em;padding-left: 0.2em;position: relative;}#sk-container-id-2 div.sk-item {position: relative;z-index: 1;}#sk-container-id-2 div.sk-parallel {display: flex;align-items: stretch;justify-content: center;background-color: white;position: relative;}#sk-container-id-2 div.sk-item::before, #sk-container-id-2 div.sk-parallel-item::before {content: \"\";position: absolute;border-left: 1px solid gray;box-sizing: border-box;top: 0;bottom: 0;left: 50%;z-index: -1;}#sk-container-id-2 div.sk-parallel-item {display: flex;flex-direction: column;z-index: 1;position: relative;background-color: white;}#sk-container-id-2 div.sk-parallel-item:first-child::after {align-self: flex-end;width: 50%;}#sk-container-id-2 div.sk-parallel-item:last-child::after {align-self: flex-start;width: 50%;}#sk-container-id-2 div.sk-parallel-item:only-child::after {width: 0;}#sk-container-id-2 div.sk-dashed-wrapped {border: 1px dashed gray;margin: 0 0.4em 0.5em 0.4em;box-sizing: border-box;padding-bottom: 0.4em;background-color: white;}#sk-container-id-2 div.sk-label label {font-family: monospace;font-weight: bold;display: inline-block;line-height: 1.2em;}#sk-container-id-2 div.sk-label-container {text-align: center;}#sk-container-id-2 div.sk-container {/* jupyter's `normalize.less` sets `[hidden] { display: none; }` but bootstrap.min.css set `[hidden] { display: none !important; }` so we also need the `!important` here to be able to override the default hidden behavior on the sphinx rendered scikit-learn.org. See: https://github.com/scikit-learn/scikit-learn/issues/21755 */display: inline-block !important;position: relative;}#sk-container-id-2 div.sk-text-repr-fallback {display: none;}</style><div id=\"sk-container-id-2\" class=\"sk-top-container\"><div class=\"sk-text-repr-fallback\"><pre>LogisticRegression()</pre><b>In a Jupyter environment, please rerun this cell to show the HTML representation or trust the notebook. <br />On GitHub, the HTML representation is unable to render, please try loading this page with nbviewer.org.</b></div><div class=\"sk-container\" hidden><div class=\"sk-item\"><div class=\"sk-estimator sk-toggleable\"><input class=\"sk-toggleable__control sk-hidden--visually\" id=\"sk-estimator-id-2\" type=\"checkbox\" checked><label for=\"sk-estimator-id-2\" class=\"sk-toggleable__label sk-toggleable__label-arrow\">LogisticRegression</label><div class=\"sk-toggleable__content\"><pre>LogisticRegression()</pre></div></div></div></div></div>"
      ],
      "text/plain": [
       "LogisticRegression()"
      ]
     },
     "execution_count": 50,
     "metadata": {},
     "output_type": "execute_result"
    }
   ],
   "source": [
    "# Split X and y data sets into ‘train’ and ‘test’ in a 30:70 ratio:\n",
    "X_train, X_test, y_train, y_test = train_test_split(X, y, test_size=0.3,\n",
    "                                                    random_state=0)\n",
    "\n",
    "# Set LogisticRegression() to logreg.\n",
    "logreg = LogisticRegression() \n",
    "\n",
    "# Fit the X_train and y_train data sets to logreg. \n",
    "logreg.fit(X_train, y_train) "
   ]
  },
  {
   "cell_type": "code",
   "execution_count": 51,
   "id": "2743f68c",
   "metadata": {},
   "outputs": [
    {
     "name": "stdout",
     "output_type": "stream",
     "text": [
      "Accuracy of logistic regression classifier on test set: 1.00\n"
     ]
    }
   ],
   "source": [
    "# Determine BLR model’s accuracy:\n",
    "y_pred = logreg.predict(X_test)\n",
    "\n",
    "print('Accuracy of logistic regression classifier on test set: {:.2f}'\\\n",
    "      .format(logreg.score(X_test, y_test)))"
   ]
  },
  {
   "cell_type": "code",
   "execution_count": 52,
   "id": "8565e05d",
   "metadata": {},
   "outputs": [
    {
     "data": {
      "text/plain": [
       "<AxesSubplot:>"
      ]
     },
     "execution_count": 52,
     "metadata": {},
     "output_type": "execute_result"
    },
    {
     "data": {
      "image/png": "[encoded data removed]",
      "text/plain": [
       "<Figure size 432x288 with 2 Axes>"
      ]
     },
     "metadata": {},
     "output_type": "display_data"
    }
   ],
   "source": [
    "# Create the confusion matrix to test classification accuracy in BLR: \n",
    "# Import the necessary package to create the confusion matrix. \n",
    "from sklearn.metrics import confusion_matrix  \n",
    "\n",
    "# Indicate the confusion matrix needs to be created.\n",
    "confusion_matrix = confusion_matrix(y_test, y_pred)  \n",
    "\n",
    "# Plot the confusion_matrix.\n",
    "sns.heatmap(confusion_matrix, annot=True, fmt='g')"
   ]
  },
  {
   "cell_type": "code",
   "execution_count": 53,
   "id": "227d7011",
   "metadata": {},
   "outputs": [
    {
     "name": "stdout",
     "output_type": "stream",
     "text": [
      "              precision    recall  f1-score   support\n",
      "\n",
      "           0       1.00      1.00      1.00        27\n",
      "           1       1.00      1.00      1.00        24\n",
      "\n",
      "    accuracy                           1.00        51\n",
      "   macro avg       1.00      1.00      1.00        51\n",
      "weighted avg       1.00      1.00      1.00        51\n",
      "\n"
     ]
    }
   ],
   "source": [
    "# Print a report on the model's accuracy.\n",
    "print(classification_report(y_test, y_pred))  "
   ]
  },
  {
   "cell_type": "code",
   "execution_count": 54,
   "id": "0431ee23",
   "metadata": {},
   "outputs": [],
   "source": [
    "nec_cols = [ 'time_seconds_delta', 'Gmag_norm']\n",
    "X = IOT_gyro[nec_cols]"
   ]
  },
  {
   "cell_type": "code",
   "execution_count": 55,
   "id": "d18d341f",
   "metadata": {},
   "outputs": [],
   "source": [
    "# Predict the abnormal behaviour\n",
    "y_pred = logreg.predict(X)"
   ]
  },
  {
   "cell_type": "code",
   "execution_count": 56,
   "id": "0018da24",
   "metadata": {},
   "outputs": [],
   "source": [
    "IOT_gyro['IOT_gyro_1_curb_up_BLR']=y_pred"
   ]
  },
  {
   "cell_type": "code",
   "execution_count": 57,
   "id": "7d1df264",
   "metadata": {},
   "outputs": [
    {
     "data": {
      "text/html": [
       "<div>\n",
       "<style scoped>\n",
       "    .dataframe tbody tr th:only-of-type {\n",
       "        vertical-align: middle;\n",
       "    }\n",
       "\n",
       "    .dataframe tbody tr th {\n",
       "        vertical-align: top;\n",
       "    }\n",
       "\n",
       "    .dataframe thead th {\n",
       "        text-align: right;\n",
       "    }\n",
       "</style>\n",
       "<table border=\"1\" class=\"dataframe\">\n",
       "  <thead>\n",
       "    <tr style=\"text-align: right;\">\n",
       "      <th></th>\n",
       "      <th>time</th>\n",
       "      <th>time_seconds_delta</th>\n",
       "      <th>Gmag</th>\n",
       "      <th>Gmag_norm</th>\n",
       "      <th>IOT_gyro_1_curb_up_BLR</th>\n",
       "    </tr>\n",
       "  </thead>\n",
       "  <tbody>\n",
       "    <tr>\n",
       "      <th>0</th>\n",
       "      <td>0.000821</td>\n",
       "      <td>0.000000</td>\n",
       "      <td>0.0</td>\n",
       "      <td>0.0</td>\n",
       "      <td>0</td>\n",
       "    </tr>\n",
       "    <tr>\n",
       "      <th>1</th>\n",
       "      <td>0.000997</td>\n",
       "      <td>0.000176</td>\n",
       "      <td>0.0</td>\n",
       "      <td>0.0</td>\n",
       "      <td>0</td>\n",
       "    </tr>\n",
       "    <tr>\n",
       "      <th>2</th>\n",
       "      <td>0.001085</td>\n",
       "      <td>0.000088</td>\n",
       "      <td>0.0</td>\n",
       "      <td>0.0</td>\n",
       "      <td>0</td>\n",
       "    </tr>\n",
       "    <tr>\n",
       "      <th>3</th>\n",
       "      <td>0.001171</td>\n",
       "      <td>0.000086</td>\n",
       "      <td>0.0</td>\n",
       "      <td>0.0</td>\n",
       "      <td>0</td>\n",
       "    </tr>\n",
       "    <tr>\n",
       "      <th>4</th>\n",
       "      <td>0.002772</td>\n",
       "      <td>0.001601</td>\n",
       "      <td>0.0</td>\n",
       "      <td>0.0</td>\n",
       "      <td>0</td>\n",
       "    </tr>\n",
       "  </tbody>\n",
       "</table>\n",
       "</div>"
      ],
      "text/plain": [
       "       time  time_seconds_delta  Gmag  Gmag_norm  IOT_gyro_1_curb_up_BLR\n",
       "0  0.000821            0.000000   0.0        0.0                       0\n",
       "1  0.000997            0.000176   0.0        0.0                       0\n",
       "2  0.001085            0.000088   0.0        0.0                       0\n",
       "3  0.001171            0.000086   0.0        0.0                       0\n",
       "4  0.002772            0.001601   0.0        0.0                       0"
      ]
     },
     "execution_count": 57,
     "metadata": {},
     "output_type": "execute_result"
    }
   ],
   "source": [
    "IOT_gyro.head()"
   ]
  },
  {
   "cell_type": "code",
   "execution_count": 58,
   "id": "d819a9bf",
   "metadata": {},
   "outputs": [
    {
     "data": {
      "text/plain": [
       "0    512027\n",
       "1      6194\n",
       "Name: IOT_gyro_1_curb_up_BLR, dtype: int64"
      ]
     },
     "execution_count": 58,
     "metadata": {},
     "output_type": "execute_result"
    }
   ],
   "source": [
    "IOT_gyro['IOT_gyro_1_curb_up_BLR'].value_counts()"
   ]
  },
  {
   "cell_type": "code",
   "execution_count": 59,
   "id": "16408340",
   "metadata": {},
   "outputs": [
    {
     "data": {
      "text/plain": [
       "<AxesSubplot:xlabel='time', ylabel='Gmag_norm'>"
      ]
     },
     "execution_count": 59,
     "metadata": {},
     "output_type": "execute_result"
    },
    {
     "data": {
      "image/png": "[encoded data removed]",
      "text/plain": [
       "<Figure size 1080x576 with 1 Axes>"
      ]
     },
     "metadata": {},
     "output_type": "display_data"
    }
   ],
   "source": [
    "plt.figure(figsize = (15,8))\n",
    "sns.lineplot(data = IOT_gyro, x='time', y='Gmag_norm', hue='IOT_gyro_1_curb_up_BLR')"
   ]
  },
  {
   "cell_type": "markdown",
   "id": "8c26768e",
   "metadata": {},
   "source": [
    "## Gyro_2_curb_up - BLR Model"
   ]
  },
  {
   "cell_type": "code",
   "execution_count": 60,
   "id": "9e12d4d8",
   "metadata": {},
   "outputs": [],
   "source": [
    "Gyro_2_curb_up=pd.read_csv('Gyro_2_curb_up_normal_vs_abnormal.csv')"
   ]
  },
  {
   "cell_type": "code",
   "execution_count": 61,
   "id": "85f1ee81",
   "metadata": {},
   "outputs": [
    {
     "data": {
      "text/html": [
       "<div>\n",
       "<style scoped>\n",
       "    .dataframe tbody tr th:only-of-type {\n",
       "        vertical-align: middle;\n",
       "    }\n",
       "\n",
       "    .dataframe tbody tr th {\n",
       "        vertical-align: top;\n",
       "    }\n",
       "\n",
       "    .dataframe thead th {\n",
       "        text-align: right;\n",
       "    }\n",
       "</style>\n",
       "<table border=\"1\" class=\"dataframe\">\n",
       "  <thead>\n",
       "    <tr style=\"text-align: right;\">\n",
       "      <th></th>\n",
       "      <th>Unnamed: 0</th>\n",
       "      <th>time_seconds</th>\n",
       "      <th>time_seconds_delta</th>\n",
       "      <th>Timestamp</th>\n",
       "      <th>Data</th>\n",
       "      <th>X</th>\n",
       "      <th>Y</th>\n",
       "      <th>Z</th>\n",
       "      <th>Gmag</th>\n",
       "      <th>Gmag_norm</th>\n",
       "      <th>Q3 threshold</th>\n",
       "      <th>Std threshold</th>\n",
       "      <th>HO threshold</th>\n",
       "    </tr>\n",
       "  </thead>\n",
       "  <tbody>\n",
       "    <tr>\n",
       "      <th>0</th>\n",
       "      <td>0</td>\n",
       "      <td>68043.946</td>\n",
       "      <td>0.000</td>\n",
       "      <td>18:54:03:946</td>\n",
       "      <td>0000227081 [app] INFO: GYRO:</td>\n",
       "      <td>-0.505</td>\n",
       "      <td>0.402</td>\n",
       "      <td>0.167</td>\n",
       "      <td>0.666722</td>\n",
       "      <td>0.0</td>\n",
       "      <td>Normal data</td>\n",
       "      <td>Normal data</td>\n",
       "      <td>Normal data</td>\n",
       "    </tr>\n",
       "    <tr>\n",
       "      <th>1</th>\n",
       "      <td>1</td>\n",
       "      <td>68044.082</td>\n",
       "      <td>0.136</td>\n",
       "      <td>18:54:04:082</td>\n",
       "      <td>0000227172 [app] INFO: GYRO:</td>\n",
       "      <td>-0.505</td>\n",
       "      <td>0.402</td>\n",
       "      <td>0.167</td>\n",
       "      <td>0.666722</td>\n",
       "      <td>0.0</td>\n",
       "      <td>Normal data</td>\n",
       "      <td>Normal data</td>\n",
       "      <td>Normal data</td>\n",
       "    </tr>\n",
       "    <tr>\n",
       "      <th>2</th>\n",
       "      <td>2</td>\n",
       "      <td>68044.176</td>\n",
       "      <td>0.094</td>\n",
       "      <td>18:54:04:176</td>\n",
       "      <td>0000227307 [app] INFO: GYRO:</td>\n",
       "      <td>-0.505</td>\n",
       "      <td>0.402</td>\n",
       "      <td>0.167</td>\n",
       "      <td>0.666722</td>\n",
       "      <td>0.0</td>\n",
       "      <td>Normal data</td>\n",
       "      <td>Normal data</td>\n",
       "      <td>Normal data</td>\n",
       "    </tr>\n",
       "    <tr>\n",
       "      <th>3</th>\n",
       "      <td>3</td>\n",
       "      <td>68044.261</td>\n",
       "      <td>0.085</td>\n",
       "      <td>18:54:04:261</td>\n",
       "      <td>0000227397 [app] INFO: GYRO:</td>\n",
       "      <td>-0.505</td>\n",
       "      <td>0.402</td>\n",
       "      <td>0.167</td>\n",
       "      <td>0.666722</td>\n",
       "      <td>0.0</td>\n",
       "      <td>Normal data</td>\n",
       "      <td>Normal data</td>\n",
       "      <td>Normal data</td>\n",
       "    </tr>\n",
       "    <tr>\n",
       "      <th>4</th>\n",
       "      <td>4</td>\n",
       "      <td>68044.357</td>\n",
       "      <td>0.096</td>\n",
       "      <td>18:54:04:357</td>\n",
       "      <td>0000227487 [app] INFO: GYRO:</td>\n",
       "      <td>-0.505</td>\n",
       "      <td>0.402</td>\n",
       "      <td>0.167</td>\n",
       "      <td>0.666722</td>\n",
       "      <td>0.0</td>\n",
       "      <td>Normal data</td>\n",
       "      <td>Normal data</td>\n",
       "      <td>Normal data</td>\n",
       "    </tr>\n",
       "  </tbody>\n",
       "</table>\n",
       "</div>"
      ],
      "text/plain": [
       "   Unnamed: 0  time_seconds  time_seconds_delta     Timestamp  \\\n",
       "0           0     68043.946               0.000  18:54:03:946   \n",
       "1           1     68044.082               0.136  18:54:04:082   \n",
       "2           2     68044.176               0.094  18:54:04:176   \n",
       "3           3     68044.261               0.085  18:54:04:261   \n",
       "4           4     68044.357               0.096  18:54:04:357   \n",
       "\n",
       "                            Data      X      Y      Z      Gmag  Gmag_norm  \\\n",
       "0  0000227081 [app] INFO: GYRO:  -0.505  0.402  0.167  0.666722        0.0   \n",
       "1  0000227172 [app] INFO: GYRO:  -0.505  0.402  0.167  0.666722        0.0   \n",
       "2  0000227307 [app] INFO: GYRO:  -0.505  0.402  0.167  0.666722        0.0   \n",
       "3  0000227397 [app] INFO: GYRO:  -0.505  0.402  0.167  0.666722        0.0   \n",
       "4  0000227487 [app] INFO: GYRO:  -0.505  0.402  0.167  0.666722        0.0   \n",
       "\n",
       "  Q3 threshold Std threshold HO threshold  \n",
       "0  Normal data   Normal data  Normal data  \n",
       "1  Normal data   Normal data  Normal data  \n",
       "2  Normal data   Normal data  Normal data  \n",
       "3  Normal data   Normal data  Normal data  \n",
       "4  Normal data   Normal data  Normal data  "
      ]
     },
     "execution_count": 61,
     "metadata": {},
     "output_type": "execute_result"
    }
   ],
   "source": [
    "Gyro_2_curb_up.head()"
   ]
  },
  {
   "cell_type": "code",
   "execution_count": 62,
   "id": "4dfd340b",
   "metadata": {},
   "outputs": [],
   "source": [
    "# Create new column with necessary columns\n",
    "Gyro_2_curb_up_copy = Gyro_2_curb_up[['time_seconds', 'time_seconds_delta', 'Gmag_norm', 'Q3 threshold','Std threshold', 'HO threshold']]"
   ]
  },
  {
   "cell_type": "code",
   "execution_count": 63,
   "id": "fba246cd",
   "metadata": {},
   "outputs": [],
   "source": [
    "# Replace Normal Data as 0 and Abnormal Data as 1\n",
    "# Assumptions for BLR\n",
    "# Assumption 1: Binary logistic regression requires the dependent variable to be binary.\n",
    "# Assumption 2: For a binary logistic regression, the factor level 1 of the dependent variable should represent the desired outcome.\n",
    "Gyro_2_curb_up_copy = Gyro_2_curb_up_copy.replace('Normal data', 0)\n",
    "Gyro_2_curb_up_copy = Gyro_2_curb_up_copy.replace('Abnormal data', 1)"
   ]
  },
  {
   "cell_type": "code",
   "execution_count": 64,
   "id": "0e4b259b",
   "metadata": {},
   "outputs": [
    {
     "data": {
      "text/html": [
       "<div>\n",
       "<style scoped>\n",
       "    .dataframe tbody tr th:only-of-type {\n",
       "        vertical-align: middle;\n",
       "    }\n",
       "\n",
       "    .dataframe tbody tr th {\n",
       "        vertical-align: top;\n",
       "    }\n",
       "\n",
       "    .dataframe thead th {\n",
       "        text-align: right;\n",
       "    }\n",
       "</style>\n",
       "<table border=\"1\" class=\"dataframe\">\n",
       "  <thead>\n",
       "    <tr style=\"text-align: right;\">\n",
       "      <th></th>\n",
       "      <th>time_seconds</th>\n",
       "      <th>time_seconds_delta</th>\n",
       "      <th>Gmag_norm</th>\n",
       "      <th>Q3 threshold</th>\n",
       "      <th>Std threshold</th>\n",
       "      <th>HO threshold</th>\n",
       "    </tr>\n",
       "  </thead>\n",
       "  <tbody>\n",
       "    <tr>\n",
       "      <th>0</th>\n",
       "      <td>68043.946</td>\n",
       "      <td>0.000</td>\n",
       "      <td>0.0</td>\n",
       "      <td>0</td>\n",
       "      <td>0</td>\n",
       "      <td>0</td>\n",
       "    </tr>\n",
       "    <tr>\n",
       "      <th>1</th>\n",
       "      <td>68044.082</td>\n",
       "      <td>0.136</td>\n",
       "      <td>0.0</td>\n",
       "      <td>0</td>\n",
       "      <td>0</td>\n",
       "      <td>0</td>\n",
       "    </tr>\n",
       "    <tr>\n",
       "      <th>2</th>\n",
       "      <td>68044.176</td>\n",
       "      <td>0.094</td>\n",
       "      <td>0.0</td>\n",
       "      <td>0</td>\n",
       "      <td>0</td>\n",
       "      <td>0</td>\n",
       "    </tr>\n",
       "    <tr>\n",
       "      <th>3</th>\n",
       "      <td>68044.261</td>\n",
       "      <td>0.085</td>\n",
       "      <td>0.0</td>\n",
       "      <td>0</td>\n",
       "      <td>0</td>\n",
       "      <td>0</td>\n",
       "    </tr>\n",
       "    <tr>\n",
       "      <th>4</th>\n",
       "      <td>68044.357</td>\n",
       "      <td>0.096</td>\n",
       "      <td>0.0</td>\n",
       "      <td>0</td>\n",
       "      <td>0</td>\n",
       "      <td>0</td>\n",
       "    </tr>\n",
       "  </tbody>\n",
       "</table>\n",
       "</div>"
      ],
      "text/plain": [
       "   time_seconds  time_seconds_delta  Gmag_norm  Q3 threshold  Std threshold  \\\n",
       "0     68043.946               0.000        0.0             0              0   \n",
       "1     68044.082               0.136        0.0             0              0   \n",
       "2     68044.176               0.094        0.0             0              0   \n",
       "3     68044.261               0.085        0.0             0              0   \n",
       "4     68044.357               0.096        0.0             0              0   \n",
       "\n",
       "   HO threshold  \n",
       "0             0  \n",
       "1             0  \n",
       "2             0  \n",
       "3             0  \n",
       "4             0  "
      ]
     },
     "execution_count": 64,
     "metadata": {},
     "output_type": "execute_result"
    }
   ],
   "source": [
    "Gyro_2_curb_up_copy.head()"
   ]
  },
  {
   "cell_type": "code",
   "execution_count": 65,
   "id": "c9300c24",
   "metadata": {},
   "outputs": [
    {
     "data": {
      "text/plain": [
       "Text(0.5, 1.0, 'Q3 threshold Imbalance')"
      ]
     },
     "execution_count": 65,
     "metadata": {},
     "output_type": "execute_result"
    },
    {
     "data": {
      "image/png": "[encoded data removed]",
      "text/plain": [
       "<Figure size 432x288 with 1 Axes>"
      ]
     },
     "metadata": {},
     "output_type": "display_data"
    }
   ],
   "source": [
    "# Create a plot with Seaborn.\n",
    "\n",
    "sns.set_theme(style='darkgrid')\n",
    "ax = sns.countplot(x='Q3 threshold', data = Gyro_2_curb_up_copy)\n",
    "ax.set_title('Q3 threshold Imbalance')"
   ]
  },
  {
   "cell_type": "code",
   "execution_count": 66,
   "id": "1efebf54",
   "metadata": {},
   "outputs": [
    {
     "name": "stdout",
     "output_type": "stream",
     "text": [
      "   time_seconds_delta  Gmag_norm\n",
      "0               0.089   0.000000\n",
      "1               0.136   1.000000\n",
      "2               0.271   1.000000\n",
      "3               0.088   1.000000\n",
      "4               0.094   0.571989\n"
     ]
    },
    {
     "data": {
      "text/html": [
       "<div>\n",
       "<style scoped>\n",
       "    .dataframe tbody tr th:only-of-type {\n",
       "        vertical-align: middle;\n",
       "    }\n",
       "\n",
       "    .dataframe tbody tr th {\n",
       "        vertical-align: top;\n",
       "    }\n",
       "\n",
       "    .dataframe thead th {\n",
       "        text-align: right;\n",
       "    }\n",
       "</style>\n",
       "<table border=\"1\" class=\"dataframe\">\n",
       "  <thead>\n",
       "    <tr style=\"text-align: right;\">\n",
       "      <th></th>\n",
       "      <th>Q3 threshold</th>\n",
       "    </tr>\n",
       "  </thead>\n",
       "  <tbody>\n",
       "    <tr>\n",
       "      <th>0</th>\n",
       "      <td>0</td>\n",
       "    </tr>\n",
       "    <tr>\n",
       "      <th>1</th>\n",
       "      <td>1</td>\n",
       "    </tr>\n",
       "    <tr>\n",
       "      <th>2</th>\n",
       "      <td>1</td>\n",
       "    </tr>\n",
       "    <tr>\n",
       "      <th>3</th>\n",
       "      <td>1</td>\n",
       "    </tr>\n",
       "    <tr>\n",
       "      <th>4</th>\n",
       "      <td>1</td>\n",
       "    </tr>\n",
       "  </tbody>\n",
       "</table>\n",
       "</div>"
      ],
      "text/plain": [
       "   Q3 threshold\n",
       "0             0\n",
       "1             1\n",
       "2             1\n",
       "3             1\n",
       "4             1"
      ]
     },
     "execution_count": 66,
     "metadata": {},
     "output_type": "execute_result"
    }
   ],
   "source": [
    "# Select necessary columns: \n",
    "nec_cols = [ 'time_seconds_delta', 'Gmag_norm']\n",
    "\n",
    "X = Gyro_2_curb_up_copy[nec_cols]\n",
    "y = Gyro_2_curb_up_copy.loc[:, Gyro_2_curb_up_copy.columns =='Q3 threshold']\n",
    "\n",
    "# Apply SMOTE class as the target variable is not balanced.\n",
    "os = SMOTE(random_state=0)\n",
    "X_train, X_test, y_train, y_test = train_test_split(X, y, test_size=0.3, random_state=0)\n",
    "\n",
    "# Specify the new data sets.\n",
    "os_data_X, os_data_y = os.fit_resample(X_train, y_train)  \n",
    "\n",
    "# Create two DataFrames for X and one for y:\n",
    "os_data_X = pd.DataFrame(data = os_data_X, columns = X.columns) \n",
    "\n",
    "os_data_y = pd.DataFrame(data = os_data_y, columns = ['Q3 threshold'])\n",
    "\n",
    "# View DataFrame.\n",
    "print(os_data_X.head())\n",
    "os_data_y.head()"
   ]
  },
  {
   "cell_type": "code",
   "execution_count": 67,
   "id": "fa892042",
   "metadata": {},
   "outputs": [
    {
     "data": {
      "text/plain": [
       "0    88\n",
       "1    88\n",
       "Name: Q3 threshold, dtype: int64"
      ]
     },
     "execution_count": 67,
     "metadata": {},
     "output_type": "execute_result"
    }
   ],
   "source": [
    "os_data_y['Q3 threshold'].value_counts()"
   ]
  },
  {
   "cell_type": "code",
   "execution_count": 68,
   "id": "37e84d38",
   "metadata": {},
   "outputs": [
    {
     "data": {
      "text/plain": [
       "Text(0.5, 1.0, 'New Balanced Q3 threshold')"
      ]
     },
     "execution_count": 68,
     "metadata": {},
     "output_type": "execute_result"
    },
    {
     "data": {
      "image/png": "[encoded data removed]",
      "text/plain": [
       "<Figure size 432x288 with 1 Axes>"
      ]
     },
     "metadata": {},
     "output_type": "display_data"
    }
   ],
   "source": [
    "sns.set_theme(style ='darkgrid')\n",
    "ax = sns.countplot(x ='Q3 threshold', data = os_data_y)\n",
    "ax.set_title(\"New Balanced Q3 threshold\")"
   ]
  },
  {
   "cell_type": "code",
   "execution_count": 69,
   "id": "28b8b8ad",
   "metadata": {},
   "outputs": [
    {
     "data": {
      "image/png": "[encoded data removed]",
      "text/plain": [
       "<Figure size 432x288 with 1 Axes>"
      ]
     },
     "metadata": {},
     "output_type": "display_data"
    }
   ],
   "source": [
    "# The Box-Tidwell test can be used to explore whether the independent variables () are linearly related to the log odds (Assumption 5). \n",
    "#However, the Box-Tidwell test is only applicable to continuous variables.\n",
    "\n",
    "Gmag_norm = sns.regplot(x = 'Gmag_norm',\n",
    "                  y = 'Q3 threshold',\n",
    "                  data = Gyro_2_curb_up_copy,\n",
    "                  logistic = True).set_title(\"Gmag_norm Log Odds Linear Plot\")"
   ]
  },
  {
   "cell_type": "code",
   "execution_count": 70,
   "id": "220a7ab7",
   "metadata": {},
   "outputs": [
    {
     "name": "stdout",
     "output_type": "stream",
     "text": [
      "Warning: Maximum number of iterations has been exceeded.\n",
      "         Current function value: 0.003939\n",
      "         Iterations: 35\n"
     ]
    },
    {
     "data": {
      "text/html": [
       "<table class=\"simpletable\">\n",
       "<caption>Logit Regression Results</caption>\n",
       "<tr>\n",
       "  <th>Dep. Variable:</th>     <td>Q3 threshold</td>   <th>  No. Observations:  </th>  <td>   176</td>  \n",
       "</tr>\n",
       "<tr>\n",
       "  <th>Model:</th>                 <td>Logit</td>      <th>  Df Residuals:      </th>  <td>   174</td>  \n",
       "</tr>\n",
       "<tr>\n",
       "  <th>Method:</th>                 <td>MLE</td>       <th>  Df Model:          </th>  <td>     1</td>  \n",
       "</tr>\n",
       "<tr>\n",
       "  <th>Date:</th>            <td>Mon, 24 Oct 2022</td> <th>  Pseudo R-squ.:     </th>  <td>0.9943</td>  \n",
       "</tr>\n",
       "<tr>\n",
       "  <th>Time:</th>                <td>15:36:46</td>     <th>  Log-Likelihood:    </th> <td>-0.69324</td> \n",
       "</tr>\n",
       "<tr>\n",
       "  <th>converged:</th>             <td>False</td>      <th>  LL-Null:           </th> <td> -121.99</td> \n",
       "</tr>\n",
       "<tr>\n",
       "  <th>Covariance Type:</th>     <td>nonrobust</td>    <th>  LLR p-value:       </th> <td>1.065e-54</td>\n",
       "</tr>\n",
       "</table>\n",
       "<table class=\"simpletable\">\n",
       "<tr>\n",
       "           <td></td>             <th>coef</th>     <th>std err</th>      <th>z</th>      <th>P>|z|</th>  <th>[0.025</th>    <th>0.975]</th>  \n",
       "</tr>\n",
       "<tr>\n",
       "  <th>time_seconds_delta</th> <td> -377.3057</td> <td> 4284.565</td> <td>   -0.088</td> <td> 0.930</td> <td>-8774.900</td> <td> 8020.288</td>\n",
       "</tr>\n",
       "<tr>\n",
       "  <th>Gmag_norm</th>          <td>  142.6422</td> <td> 1498.544</td> <td>    0.095</td> <td> 0.924</td> <td>-2794.450</td> <td> 3079.735</td>\n",
       "</tr>\n",
       "</table><br/><br/>Possibly complete quasi-separation: A fraction 0.99 of observations can be<br/>perfectly predicted. This might indicate that there is complete<br/>quasi-separation. In this case some parameters will not be identified."
      ],
      "text/plain": [
       "<class 'statsmodels.iolib.summary.Summary'>\n",
       "\"\"\"\n",
       "                           Logit Regression Results                           \n",
       "==============================================================================\n",
       "Dep. Variable:           Q3 threshold   No. Observations:                  176\n",
       "Model:                          Logit   Df Residuals:                      174\n",
       "Method:                           MLE   Df Model:                            1\n",
       "Date:                Mon, 24 Oct 2022   Pseudo R-squ.:                  0.9943\n",
       "Time:                        15:36:46   Log-Likelihood:               -0.69324\n",
       "converged:                      False   LL-Null:                       -121.99\n",
       "Covariance Type:            nonrobust   LLR p-value:                 1.065e-54\n",
       "======================================================================================\n",
       "                         coef    std err          z      P>|z|      [0.025      0.975]\n",
       "--------------------------------------------------------------------------------------\n",
       "time_seconds_delta  -377.3057   4284.565     -0.088      0.930   -8774.900    8020.288\n",
       "Gmag_norm            142.6422   1498.544      0.095      0.924   -2794.450    3079.735\n",
       "======================================================================================\n",
       "\n",
       "Possibly complete quasi-separation: A fraction 0.99 of observations can be\n",
       "perfectly predicted. This might indicate that there is complete\n",
       "quasi-separation. In this case some parameters will not be identified.\n",
       "\"\"\""
      ]
     },
     "execution_count": 70,
     "metadata": {},
     "output_type": "execute_result"
    }
   ],
   "source": [
    "# Name the new DataFrame and specify all the columns for BLR:\n",
    "nec_cols = [ 'time_seconds_delta', 'Gmag_norm']\n",
    "\n",
    "# Set the independent variable.\n",
    "X = os_data_X[nec_cols]  \n",
    "\n",
    "# Set the dependent variable.\n",
    "y = os_data_y['Q3 threshold']  \n",
    "\n",
    "# Set the logit() to accept y and x as parameters and return the logit object:\n",
    "logit_model_3=sm.Logit(y, X)\n",
    "\n",
    "# Indicate result = logit_model.fit() function.\n",
    "result = logit_model_3.fit()  \n",
    "\n",
    "# Print the results.\n",
    "result.summary()"
   ]
  },
  {
   "cell_type": "code",
   "execution_count": 71,
   "id": "d245396b",
   "metadata": {},
   "outputs": [
    {
     "data": {
      "text/html": [
       "<style>#sk-container-id-3 {color: black;background-color: white;}#sk-container-id-3 pre{padding: 0;}#sk-container-id-3 div.sk-toggleable {background-color: white;}#sk-container-id-3 label.sk-toggleable__label {cursor: pointer;display: block;width: 100%;margin-bottom: 0;padding: 0.3em;box-sizing: border-box;text-align: center;}#sk-container-id-3 label.sk-toggleable__label-arrow:before {content: \"▸\";float: left;margin-right: 0.25em;color: #696969;}#sk-container-id-3 label.sk-toggleable__label-arrow:hover:before {color: black;}#sk-container-id-3 div.sk-estimator:hover label.sk-toggleable__label-arrow:before {color: black;}#sk-container-id-3 div.sk-toggleable__content {max-height: 0;max-width: 0;overflow: hidden;text-align: left;background-color: #f0f8ff;}#sk-container-id-3 div.sk-toggleable__content pre {margin: 0.2em;color: black;border-radius: 0.25em;background-color: #f0f8ff;}#sk-container-id-3 input.sk-toggleable__control:checked~div.sk-toggleable__content {max-height: 200px;max-width: 100%;overflow: auto;}#sk-container-id-3 input.sk-toggleable__control:checked~label.sk-toggleable__label-arrow:before {content: \"▾\";}#sk-container-id-3 div.sk-estimator input.sk-toggleable__control:checked~label.sk-toggleable__label {background-color: #d4ebff;}#sk-container-id-3 div.sk-label input.sk-toggleable__control:checked~label.sk-toggleable__label {background-color: #d4ebff;}#sk-container-id-3 input.sk-hidden--visually {border: 0;clip: rect(1px 1px 1px 1px);clip: rect(1px, 1px, 1px, 1px);height: 1px;margin: -1px;overflow: hidden;padding: 0;position: absolute;width: 1px;}#sk-container-id-3 div.sk-estimator {font-family: monospace;background-color: #f0f8ff;border: 1px dotted black;border-radius: 0.25em;box-sizing: border-box;margin-bottom: 0.5em;}#sk-container-id-3 div.sk-estimator:hover {background-color: #d4ebff;}#sk-container-id-3 div.sk-parallel-item::after {content: \"\";width: 100%;border-bottom: 1px solid gray;flex-grow: 1;}#sk-container-id-3 div.sk-label:hover label.sk-toggleable__label {background-color: #d4ebff;}#sk-container-id-3 div.sk-serial::before {content: \"\";position: absolute;border-left: 1px solid gray;box-sizing: border-box;top: 0;bottom: 0;left: 50%;z-index: 0;}#sk-container-id-3 div.sk-serial {display: flex;flex-direction: column;align-items: center;background-color: white;padding-right: 0.2em;padding-left: 0.2em;position: relative;}#sk-container-id-3 div.sk-item {position: relative;z-index: 1;}#sk-container-id-3 div.sk-parallel {display: flex;align-items: stretch;justify-content: center;background-color: white;position: relative;}#sk-container-id-3 div.sk-item::before, #sk-container-id-3 div.sk-parallel-item::before {content: \"\";position: absolute;border-left: 1px solid gray;box-sizing: border-box;top: 0;bottom: 0;left: 50%;z-index: -1;}#sk-container-id-3 div.sk-parallel-item {display: flex;flex-direction: column;z-index: 1;position: relative;background-color: white;}#sk-container-id-3 div.sk-parallel-item:first-child::after {align-self: flex-end;width: 50%;}#sk-container-id-3 div.sk-parallel-item:last-child::after {align-self: flex-start;width: 50%;}#sk-container-id-3 div.sk-parallel-item:only-child::after {width: 0;}#sk-container-id-3 div.sk-dashed-wrapped {border: 1px dashed gray;margin: 0 0.4em 0.5em 0.4em;box-sizing: border-box;padding-bottom: 0.4em;background-color: white;}#sk-container-id-3 div.sk-label label {font-family: monospace;font-weight: bold;display: inline-block;line-height: 1.2em;}#sk-container-id-3 div.sk-label-container {text-align: center;}#sk-container-id-3 div.sk-container {/* jupyter's `normalize.less` sets `[hidden] { display: none; }` but bootstrap.min.css set `[hidden] { display: none !important; }` so we also need the `!important` here to be able to override the default hidden behavior on the sphinx rendered scikit-learn.org. See: https://github.com/scikit-learn/scikit-learn/issues/21755 */display: inline-block !important;position: relative;}#sk-container-id-3 div.sk-text-repr-fallback {display: none;}</style><div id=\"sk-container-id-3\" class=\"sk-top-container\"><div class=\"sk-text-repr-fallback\"><pre>LogisticRegression()</pre><b>In a Jupyter environment, please rerun this cell to show the HTML representation or trust the notebook. <br />On GitHub, the HTML representation is unable to render, please try loading this page with nbviewer.org.</b></div><div class=\"sk-container\" hidden><div class=\"sk-item\"><div class=\"sk-estimator sk-toggleable\"><input class=\"sk-toggleable__control sk-hidden--visually\" id=\"sk-estimator-id-3\" type=\"checkbox\" checked><label for=\"sk-estimator-id-3\" class=\"sk-toggleable__label sk-toggleable__label-arrow\">LogisticRegression</label><div class=\"sk-toggleable__content\"><pre>LogisticRegression()</pre></div></div></div></div></div>"
      ],
      "text/plain": [
       "LogisticRegression()"
      ]
     },
     "execution_count": 71,
     "metadata": {},
     "output_type": "execute_result"
    }
   ],
   "source": [
    "# Import necessary packages:\n",
    "from sklearn.linear_model import LogisticRegression\n",
    "from sklearn import metrics\n",
    "\n",
    "# Split X and y data sets into ‘train’ and ‘test’ in a 30:70 ratio:\n",
    "X_train, X_test, y_train, y_test = train_test_split(X, y, test_size=0.3,\n",
    "                                                    random_state=0)\n",
    "\n",
    "# Set LogisticRegression() to logreg.\n",
    "logreg = LogisticRegression() \n",
    "\n",
    "# Fit the X_train and y_train data sets to logreg. \n",
    "logreg.fit(X_train, y_train) "
   ]
  },
  {
   "cell_type": "code",
   "execution_count": 72,
   "id": "8be3f17a",
   "metadata": {},
   "outputs": [
    {
     "name": "stdout",
     "output_type": "stream",
     "text": [
      "Accuracy of logistic regression classifier on test set: 1.00\n"
     ]
    }
   ],
   "source": [
    "# Determine BLR model’s accuracy:\n",
    "y_pred = logreg.predict(X_test)\n",
    "\n",
    "print('Accuracy of logistic regression classifier on test set: {:.2f}'\\\n",
    "      .format(logreg.score(X_test, y_test)))"
   ]
  },
  {
   "cell_type": "code",
   "execution_count": 73,
   "id": "b482de3f",
   "metadata": {},
   "outputs": [
    {
     "data": {
      "text/plain": [
       "<AxesSubplot:>"
      ]
     },
     "execution_count": 73,
     "metadata": {},
     "output_type": "execute_result"
    },
    {
     "data": {
      "image/png": "[encoded data removed]",
      "text/plain": [
       "<Figure size 432x288 with 2 Axes>"
      ]
     },
     "metadata": {},
     "output_type": "display_data"
    }
   ],
   "source": [
    "# Create the confusion matrix to test classification accuracy in BLR: \n",
    "# Import the necessary package to create the confusion matrix. \n",
    "from sklearn.metrics import confusion_matrix  \n",
    "\n",
    "# Indicate the confusion matrix needs to be created.\n",
    "confusion_matrix = confusion_matrix(y_test, y_pred)  \n",
    "\n",
    "# Plot the confusion_matrix.\n",
    "sns.heatmap(confusion_matrix, annot=True, fmt='g')"
   ]
  },
  {
   "cell_type": "code",
   "execution_count": 74,
   "id": "8d2c209e",
   "metadata": {},
   "outputs": [
    {
     "name": "stdout",
     "output_type": "stream",
     "text": [
      "              precision    recall  f1-score   support\n",
      "\n",
      "           0       1.00      1.00      1.00        24\n",
      "           1       1.00      1.00      1.00        29\n",
      "\n",
      "    accuracy                           1.00        53\n",
      "   macro avg       1.00      1.00      1.00        53\n",
      "weighted avg       1.00      1.00      1.00        53\n",
      "\n"
     ]
    }
   ],
   "source": [
    "# Print a report on the model's accuracy.\n",
    "print(classification_report(y_test, y_pred)) "
   ]
  },
  {
   "cell_type": "code",
   "execution_count": 75,
   "id": "a9afa1f2",
   "metadata": {},
   "outputs": [],
   "source": [
    "nec_cols = [ 'time_seconds_delta', 'Gmag_norm']\n",
    "X = IOT_gyro[nec_cols]"
   ]
  },
  {
   "cell_type": "code",
   "execution_count": 76,
   "id": "e5816bb7",
   "metadata": {},
   "outputs": [],
   "source": [
    "# Predict the abnormal behaviour\n",
    "y_pred = logreg.predict(X)"
   ]
  },
  {
   "cell_type": "code",
   "execution_count": 77,
   "id": "e6bd1c91",
   "metadata": {},
   "outputs": [],
   "source": [
    "IOT_gyro['IOT_gyro_2_curb_up_BLR']=y_pred"
   ]
  },
  {
   "cell_type": "code",
   "execution_count": 78,
   "id": "3d4fef10",
   "metadata": {},
   "outputs": [
    {
     "data": {
      "text/html": [
       "<div>\n",
       "<style scoped>\n",
       "    .dataframe tbody tr th:only-of-type {\n",
       "        vertical-align: middle;\n",
       "    }\n",
       "\n",
       "    .dataframe tbody tr th {\n",
       "        vertical-align: top;\n",
       "    }\n",
       "\n",
       "    .dataframe thead th {\n",
       "        text-align: right;\n",
       "    }\n",
       "</style>\n",
       "<table border=\"1\" class=\"dataframe\">\n",
       "  <thead>\n",
       "    <tr style=\"text-align: right;\">\n",
       "      <th></th>\n",
       "      <th>time</th>\n",
       "      <th>time_seconds_delta</th>\n",
       "      <th>Gmag</th>\n",
       "      <th>Gmag_norm</th>\n",
       "      <th>IOT_gyro_1_curb_up_BLR</th>\n",
       "      <th>IOT_gyro_2_curb_up_BLR</th>\n",
       "    </tr>\n",
       "  </thead>\n",
       "  <tbody>\n",
       "    <tr>\n",
       "      <th>0</th>\n",
       "      <td>0.000821</td>\n",
       "      <td>0.000000</td>\n",
       "      <td>0.0</td>\n",
       "      <td>0.0</td>\n",
       "      <td>0</td>\n",
       "      <td>0</td>\n",
       "    </tr>\n",
       "    <tr>\n",
       "      <th>1</th>\n",
       "      <td>0.000997</td>\n",
       "      <td>0.000176</td>\n",
       "      <td>0.0</td>\n",
       "      <td>0.0</td>\n",
       "      <td>0</td>\n",
       "      <td>0</td>\n",
       "    </tr>\n",
       "    <tr>\n",
       "      <th>2</th>\n",
       "      <td>0.001085</td>\n",
       "      <td>0.000088</td>\n",
       "      <td>0.0</td>\n",
       "      <td>0.0</td>\n",
       "      <td>0</td>\n",
       "      <td>0</td>\n",
       "    </tr>\n",
       "    <tr>\n",
       "      <th>3</th>\n",
       "      <td>0.001171</td>\n",
       "      <td>0.000086</td>\n",
       "      <td>0.0</td>\n",
       "      <td>0.0</td>\n",
       "      <td>0</td>\n",
       "      <td>0</td>\n",
       "    </tr>\n",
       "    <tr>\n",
       "      <th>4</th>\n",
       "      <td>0.002772</td>\n",
       "      <td>0.001601</td>\n",
       "      <td>0.0</td>\n",
       "      <td>0.0</td>\n",
       "      <td>0</td>\n",
       "      <td>0</td>\n",
       "    </tr>\n",
       "  </tbody>\n",
       "</table>\n",
       "</div>"
      ],
      "text/plain": [
       "       time  time_seconds_delta  Gmag  Gmag_norm  IOT_gyro_1_curb_up_BLR  \\\n",
       "0  0.000821            0.000000   0.0        0.0                       0   \n",
       "1  0.000997            0.000176   0.0        0.0                       0   \n",
       "2  0.001085            0.000088   0.0        0.0                       0   \n",
       "3  0.001171            0.000086   0.0        0.0                       0   \n",
       "4  0.002772            0.001601   0.0        0.0                       0   \n",
       "\n",
       "   IOT_gyro_2_curb_up_BLR  \n",
       "0                       0  \n",
       "1                       0  \n",
       "2                       0  \n",
       "3                       0  \n",
       "4                       0  "
      ]
     },
     "execution_count": 78,
     "metadata": {},
     "output_type": "execute_result"
    }
   ],
   "source": [
    "IOT_gyro.head()"
   ]
  },
  {
   "cell_type": "code",
   "execution_count": 79,
   "id": "8842129b",
   "metadata": {},
   "outputs": [
    {
     "data": {
      "text/plain": [
       "0    512716\n",
       "1      5505\n",
       "Name: IOT_gyro_2_curb_up_BLR, dtype: int64"
      ]
     },
     "execution_count": 79,
     "metadata": {},
     "output_type": "execute_result"
    }
   ],
   "source": [
    "IOT_gyro['IOT_gyro_2_curb_up_BLR'].value_counts()"
   ]
  },
  {
   "cell_type": "code",
   "execution_count": 80,
   "id": "8fb0acfb",
   "metadata": {},
   "outputs": [
    {
     "data": {
      "text/plain": [
       "<AxesSubplot:xlabel='time', ylabel='Gmag_norm'>"
      ]
     },
     "execution_count": 80,
     "metadata": {},
     "output_type": "execute_result"
    },
    {
     "data": {
      "image/png": "[encoded data removed]",
      "text/plain": [
       "<Figure size 1080x576 with 1 Axes>"
      ]
     },
     "metadata": {},
     "output_type": "display_data"
    }
   ],
   "source": [
    "plt.figure(figsize = (15,8))\n",
    "sns.lineplot(data = IOT_gyro, x='time', y='Gmag_norm', hue='IOT_gyro_2_curb_up_BLR')"
   ]
  },
  {
   "cell_type": "markdown",
   "id": "af6e131e",
   "metadata": {},
   "source": [
    "## BLR model could not fit on Gyro_3_curb_up file. Therefore excluded from analysis.\n",
    "PerfectSeparationError: Perfect separation detected, results not available\n"
   ]
  },
  {
   "cell_type": "markdown",
   "id": "7ff6a219",
   "metadata": {},
   "source": [
    "## BLR model could not fit on Gyro_4_throwing_bike file. Therefore excluded from analysis.\n",
    "\n",
    "Warning: Maximum number of iterations has been exceeded.\n",
    "         Current function value: inf\n",
    "         Iterations: 35\n",
    "            \n",
    "LinAlgError: Singular matrix\n"
   ]
  },
  {
   "cell_type": "markdown",
   "id": "54d83759",
   "metadata": {},
   "source": [
    "## BLR model could not fit on Gyro_5_throwing_bike file. Therefore excluded from analysis.\n",
    "\n",
    "Warning: Maximum number of iterations has been exceeded.\n",
    "         Current function value: inf\n",
    "         Iterations: 35\n",
    "            \n",
    "LinAlgError: Singular matrix\n",
    "\n",
    "## Since we dont have a working model for throw bike incident, decided to built Decision Tree Model for this incident."
   ]
  },
  {
   "cell_type": "markdown",
   "id": "77821bf3",
   "metadata": {},
   "source": [
    "## Gyro_4_throwing_bike - DTC"
   ]
  },
  {
   "cell_type": "code",
   "execution_count": 81,
   "id": "84a728c4",
   "metadata": {},
   "outputs": [],
   "source": [
    "Gyro_4_throwing_bike=pd.read_csv('Gyro_4_throwing_bike_normal_vs_abnormal.csv')"
   ]
  },
  {
   "cell_type": "code",
   "execution_count": 82,
   "id": "b5c346dd",
   "metadata": {},
   "outputs": [
    {
     "data": {
      "text/html": [
       "<div>\n",
       "<style scoped>\n",
       "    .dataframe tbody tr th:only-of-type {\n",
       "        vertical-align: middle;\n",
       "    }\n",
       "\n",
       "    .dataframe tbody tr th {\n",
       "        vertical-align: top;\n",
       "    }\n",
       "\n",
       "    .dataframe thead th {\n",
       "        text-align: right;\n",
       "    }\n",
       "</style>\n",
       "<table border=\"1\" class=\"dataframe\">\n",
       "  <thead>\n",
       "    <tr style=\"text-align: right;\">\n",
       "      <th></th>\n",
       "      <th>Unnamed: 0</th>\n",
       "      <th>time_seconds</th>\n",
       "      <th>time_seconds_delta</th>\n",
       "      <th>Timestamp</th>\n",
       "      <th>Data</th>\n",
       "      <th>X</th>\n",
       "      <th>Y</th>\n",
       "      <th>Z</th>\n",
       "      <th>Gmag</th>\n",
       "      <th>Gmag_norm</th>\n",
       "      <th>Q3 threshold</th>\n",
       "      <th>Std threshold</th>\n",
       "      <th>HO threshold</th>\n",
       "    </tr>\n",
       "  </thead>\n",
       "  <tbody>\n",
       "    <tr>\n",
       "      <th>0</th>\n",
       "      <td>0</td>\n",
       "      <td>68143.665</td>\n",
       "      <td>0.000</td>\n",
       "      <td>18:55:43:665</td>\n",
       "      <td>0000326756 [app] INFO: GYRO:</td>\n",
       "      <td>-4.695</td>\n",
       "      <td>-0.52</td>\n",
       "      <td>19.148</td>\n",
       "      <td>19.722052</td>\n",
       "      <td>0.848702</td>\n",
       "      <td>Abnormal data</td>\n",
       "      <td>Abnormal data</td>\n",
       "      <td>Abnormal data</td>\n",
       "    </tr>\n",
       "    <tr>\n",
       "      <th>1</th>\n",
       "      <td>1</td>\n",
       "      <td>68143.800</td>\n",
       "      <td>0.135</td>\n",
       "      <td>18:55:43:800</td>\n",
       "      <td>0000326898 [app] INFO: GYRO:</td>\n",
       "      <td>-4.695</td>\n",
       "      <td>-0.52</td>\n",
       "      <td>19.148</td>\n",
       "      <td>19.722052</td>\n",
       "      <td>0.848702</td>\n",
       "      <td>Abnormal data</td>\n",
       "      <td>Abnormal data</td>\n",
       "      <td>Abnormal data</td>\n",
       "    </tr>\n",
       "    <tr>\n",
       "      <th>2</th>\n",
       "      <td>2</td>\n",
       "      <td>68143.891</td>\n",
       "      <td>0.091</td>\n",
       "      <td>18:55:43:891</td>\n",
       "      <td>0000327026 [app] INFO: GYRO:</td>\n",
       "      <td>-4.695</td>\n",
       "      <td>-0.52</td>\n",
       "      <td>19.148</td>\n",
       "      <td>19.722052</td>\n",
       "      <td>0.848702</td>\n",
       "      <td>Abnormal data</td>\n",
       "      <td>Abnormal data</td>\n",
       "      <td>Abnormal data</td>\n",
       "    </tr>\n",
       "    <tr>\n",
       "      <th>3</th>\n",
       "      <td>3</td>\n",
       "      <td>68144.027</td>\n",
       "      <td>0.136</td>\n",
       "      <td>18:55:44:027</td>\n",
       "      <td>0000327116 [app] INFO: GYRO:</td>\n",
       "      <td>-4.695</td>\n",
       "      <td>-0.52</td>\n",
       "      <td>19.148</td>\n",
       "      <td>19.722052</td>\n",
       "      <td>0.848702</td>\n",
       "      <td>Abnormal data</td>\n",
       "      <td>Abnormal data</td>\n",
       "      <td>Abnormal data</td>\n",
       "    </tr>\n",
       "    <tr>\n",
       "      <th>4</th>\n",
       "      <td>4</td>\n",
       "      <td>68144.117</td>\n",
       "      <td>0.090</td>\n",
       "      <td>18:55:44:117</td>\n",
       "      <td>0000327251 [app] INFO: GYRO:</td>\n",
       "      <td>-4.695</td>\n",
       "      <td>-0.52</td>\n",
       "      <td>19.148</td>\n",
       "      <td>19.722052</td>\n",
       "      <td>0.848702</td>\n",
       "      <td>Abnormal data</td>\n",
       "      <td>Abnormal data</td>\n",
       "      <td>Abnormal data</td>\n",
       "    </tr>\n",
       "  </tbody>\n",
       "</table>\n",
       "</div>"
      ],
      "text/plain": [
       "   Unnamed: 0  time_seconds  time_seconds_delta     Timestamp  \\\n",
       "0           0     68143.665               0.000  18:55:43:665   \n",
       "1           1     68143.800               0.135  18:55:43:800   \n",
       "2           2     68143.891               0.091  18:55:43:891   \n",
       "3           3     68144.027               0.136  18:55:44:027   \n",
       "4           4     68144.117               0.090  18:55:44:117   \n",
       "\n",
       "                            Data      X     Y       Z       Gmag  Gmag_norm  \\\n",
       "0  0000326756 [app] INFO: GYRO:  -4.695 -0.52  19.148  19.722052   0.848702   \n",
       "1  0000326898 [app] INFO: GYRO:  -4.695 -0.52  19.148  19.722052   0.848702   \n",
       "2  0000327026 [app] INFO: GYRO:  -4.695 -0.52  19.148  19.722052   0.848702   \n",
       "3  0000327116 [app] INFO: GYRO:  -4.695 -0.52  19.148  19.722052   0.848702   \n",
       "4  0000327251 [app] INFO: GYRO:  -4.695 -0.52  19.148  19.722052   0.848702   \n",
       "\n",
       "    Q3 threshold  Std threshold   HO threshold  \n",
       "0  Abnormal data  Abnormal data  Abnormal data  \n",
       "1  Abnormal data  Abnormal data  Abnormal data  \n",
       "2  Abnormal data  Abnormal data  Abnormal data  \n",
       "3  Abnormal data  Abnormal data  Abnormal data  \n",
       "4  Abnormal data  Abnormal data  Abnormal data  "
      ]
     },
     "execution_count": 82,
     "metadata": {},
     "output_type": "execute_result"
    }
   ],
   "source": [
    "Gyro_4_throwing_bike.head()"
   ]
  },
  {
   "cell_type": "code",
   "execution_count": 83,
   "id": "2259f5f9",
   "metadata": {},
   "outputs": [],
   "source": [
    "# Create new df with necessary columns\n",
    "Gyro_4_throwing_bike_copy=Gyro_4_throwing_bike[['time_seconds', 'time_seconds_delta', 'Gmag_norm', 'Q3 threshold','Std threshold', 'HO threshold']]"
   ]
  },
  {
   "cell_type": "code",
   "execution_count": 84,
   "id": "7c224497",
   "metadata": {},
   "outputs": [],
   "source": [
    "# Replace Normal Data as 0 and Abnormal Data as 1\n",
    "Gyro_4_throwing_bike_copy=Gyro_4_throwing_bike_copy.replace('Normal data', 0)\n",
    "Gyro_4_throwing_bike_copy=Gyro_4_throwing_bike_copy.replace('Abnormal data', 1)"
   ]
  },
  {
   "cell_type": "code",
   "execution_count": 85,
   "id": "3599d84d",
   "metadata": {},
   "outputs": [
    {
     "data": {
      "text/html": [
       "<div>\n",
       "<style scoped>\n",
       "    .dataframe tbody tr th:only-of-type {\n",
       "        vertical-align: middle;\n",
       "    }\n",
       "\n",
       "    .dataframe tbody tr th {\n",
       "        vertical-align: top;\n",
       "    }\n",
       "\n",
       "    .dataframe thead th {\n",
       "        text-align: right;\n",
       "    }\n",
       "</style>\n",
       "<table border=\"1\" class=\"dataframe\">\n",
       "  <thead>\n",
       "    <tr style=\"text-align: right;\">\n",
       "      <th></th>\n",
       "      <th>time_seconds</th>\n",
       "      <th>time_seconds_delta</th>\n",
       "      <th>Gmag_norm</th>\n",
       "      <th>Q3 threshold</th>\n",
       "      <th>Std threshold</th>\n",
       "      <th>HO threshold</th>\n",
       "    </tr>\n",
       "  </thead>\n",
       "  <tbody>\n",
       "    <tr>\n",
       "      <th>0</th>\n",
       "      <td>68143.665</td>\n",
       "      <td>0.000</td>\n",
       "      <td>0.848702</td>\n",
       "      <td>1</td>\n",
       "      <td>1</td>\n",
       "      <td>1</td>\n",
       "    </tr>\n",
       "    <tr>\n",
       "      <th>1</th>\n",
       "      <td>68143.800</td>\n",
       "      <td>0.135</td>\n",
       "      <td>0.848702</td>\n",
       "      <td>1</td>\n",
       "      <td>1</td>\n",
       "      <td>1</td>\n",
       "    </tr>\n",
       "    <tr>\n",
       "      <th>2</th>\n",
       "      <td>68143.891</td>\n",
       "      <td>0.091</td>\n",
       "      <td>0.848702</td>\n",
       "      <td>1</td>\n",
       "      <td>1</td>\n",
       "      <td>1</td>\n",
       "    </tr>\n",
       "    <tr>\n",
       "      <th>3</th>\n",
       "      <td>68144.027</td>\n",
       "      <td>0.136</td>\n",
       "      <td>0.848702</td>\n",
       "      <td>1</td>\n",
       "      <td>1</td>\n",
       "      <td>1</td>\n",
       "    </tr>\n",
       "    <tr>\n",
       "      <th>4</th>\n",
       "      <td>68144.117</td>\n",
       "      <td>0.090</td>\n",
       "      <td>0.848702</td>\n",
       "      <td>1</td>\n",
       "      <td>1</td>\n",
       "      <td>1</td>\n",
       "    </tr>\n",
       "  </tbody>\n",
       "</table>\n",
       "</div>"
      ],
      "text/plain": [
       "   time_seconds  time_seconds_delta  Gmag_norm  Q3 threshold  Std threshold  \\\n",
       "0     68143.665               0.000   0.848702             1              1   \n",
       "1     68143.800               0.135   0.848702             1              1   \n",
       "2     68143.891               0.091   0.848702             1              1   \n",
       "3     68144.027               0.136   0.848702             1              1   \n",
       "4     68144.117               0.090   0.848702             1              1   \n",
       "\n",
       "   HO threshold  \n",
       "0             1  \n",
       "1             1  \n",
       "2             1  \n",
       "3             1  \n",
       "4             1  "
      ]
     },
     "execution_count": 85,
     "metadata": {},
     "output_type": "execute_result"
    }
   ],
   "source": [
    "Gyro_4_throwing_bike_copy.head()"
   ]
  },
  {
   "cell_type": "code",
   "execution_count": 86,
   "id": "a53ae334",
   "metadata": {},
   "outputs": [
    {
     "name": "stdout",
     "output_type": "stream",
     "text": [
      "length of oversampled data is  164\n"
     ]
    },
    {
     "data": {
      "text/html": [
       "<div>\n",
       "<style scoped>\n",
       "    .dataframe tbody tr th:only-of-type {\n",
       "        vertical-align: middle;\n",
       "    }\n",
       "\n",
       "    .dataframe tbody tr th {\n",
       "        vertical-align: top;\n",
       "    }\n",
       "\n",
       "    .dataframe thead th {\n",
       "        text-align: right;\n",
       "    }\n",
       "</style>\n",
       "<table border=\"1\" class=\"dataframe\">\n",
       "  <thead>\n",
       "    <tr style=\"text-align: right;\">\n",
       "      <th></th>\n",
       "      <th>Q3 threshold</th>\n",
       "    </tr>\n",
       "  </thead>\n",
       "  <tbody>\n",
       "    <tr>\n",
       "      <th>0</th>\n",
       "      <td>1</td>\n",
       "    </tr>\n",
       "    <tr>\n",
       "      <th>1</th>\n",
       "      <td>0</td>\n",
       "    </tr>\n",
       "    <tr>\n",
       "      <th>2</th>\n",
       "      <td>0</td>\n",
       "    </tr>\n",
       "    <tr>\n",
       "      <th>3</th>\n",
       "      <td>0</td>\n",
       "    </tr>\n",
       "    <tr>\n",
       "      <th>4</th>\n",
       "      <td>0</td>\n",
       "    </tr>\n",
       "    <tr>\n",
       "      <th>...</th>\n",
       "      <td>...</td>\n",
       "    </tr>\n",
       "    <tr>\n",
       "      <th>159</th>\n",
       "      <td>1</td>\n",
       "    </tr>\n",
       "    <tr>\n",
       "      <th>160</th>\n",
       "      <td>1</td>\n",
       "    </tr>\n",
       "    <tr>\n",
       "      <th>161</th>\n",
       "      <td>1</td>\n",
       "    </tr>\n",
       "    <tr>\n",
       "      <th>162</th>\n",
       "      <td>1</td>\n",
       "    </tr>\n",
       "    <tr>\n",
       "      <th>163</th>\n",
       "      <td>1</td>\n",
       "    </tr>\n",
       "  </tbody>\n",
       "</table>\n",
       "<p>164 rows × 1 columns</p>\n",
       "</div>"
      ],
      "text/plain": [
       "     Q3 threshold\n",
       "0               1\n",
       "1               0\n",
       "2               0\n",
       "3               0\n",
       "4               0\n",
       "..            ...\n",
       "159             1\n",
       "160             1\n",
       "161             1\n",
       "162             1\n",
       "163             1\n",
       "\n",
       "[164 rows x 1 columns]"
      ]
     },
     "execution_count": 86,
     "metadata": {},
     "output_type": "execute_result"
    }
   ],
   "source": [
    "# Select necessary columns: \n",
    "nec_cols = [ 'time_seconds_delta', 'Gmag_norm']\n",
    "\n",
    "X = Gyro_4_throwing_bike_copy[nec_cols]\n",
    "y = Gyro_4_throwing_bike_copy['Q3 threshold']\n",
    "\n",
    "# Create a new DataFrame and \n",
    "# apply SMOTE as the target variable is not balanced.\n",
    "os = SMOTE(random_state=0)  \n",
    "X_train, X_test, y_train, y_test = train_test_split(X, y, test_size=0.3, random_state=0)\n",
    "\n",
    "# Specify column values.\n",
    "columns = X_train.columns  \n",
    "# Specify the new data sets.\n",
    "os_data_X,os_data_y=os.fit_resample(X_train, y_train)  \n",
    "\n",
    "# Create two DataFrames for X and one for y:\n",
    "os_data_X = pd.DataFrame(data=os_data_X,columns=columns )\n",
    "os_data_y= pd.DataFrame(data=os_data_y,columns=['Q3 threshold'])\n",
    "\n",
    "# Print/check the DataFrame:\n",
    "print(\"length of oversampled data is \",len(os_data_X))\n",
    "\n",
    "os_data_y"
   ]
  },
  {
   "cell_type": "code",
   "execution_count": 87,
   "id": "f40aedec",
   "metadata": {},
   "outputs": [
    {
     "data": {
      "text/plain": [
       "Q3 threshold\n",
       "0               82\n",
       "1               82\n",
       "dtype: int64"
      ]
     },
     "execution_count": 87,
     "metadata": {},
     "output_type": "execute_result"
    }
   ],
   "source": [
    "os_data_y.value_counts()"
   ]
  },
  {
   "cell_type": "code",
   "execution_count": 88,
   "id": "c4c7b6c8",
   "metadata": {},
   "outputs": [],
   "source": [
    "# Import the DecisionTreeClassifier class from sklearn. \n",
    "from sklearn.tree import DecisionTreeClassifier  \n",
    "\n",
    "# Create a classification decision tree classifier object as dtc: \n",
    "dtc_1 = DecisionTreeClassifier(criterion='gini', max_depth=4, random_state=1)\n",
    "\n",
    "# Train the decision tree classifier.\n",
    "dtc_1 = dtc_1.fit(os_data_X, os_data_y) \n",
    "\n",
    "# Predict the response for the test data set.\n",
    "y_pred = dtc_1.predict(X_test) "
   ]
  },
  {
   "cell_type": "code",
   "execution_count": 89,
   "id": "be42cbe0",
   "metadata": {},
   "outputs": [
    {
     "name": "stdout",
     "output_type": "stream",
     "text": [
      "[[37  0]\n",
      " [ 0 18]]\n",
      "Accuracy: 1.0\n",
      "Precision: 1.0\n",
      "Recall: 1.0\n"
     ]
    }
   ],
   "source": [
    "# Import scikit-learn metrics module for accuracy calculation:\n",
    "from sklearn.metrics import confusion_matrix\n",
    "\n",
    "# Use the print() function to display the confusion matrix results:\n",
    "print(confusion_matrix(y_test, y_pred))\n",
    "\n",
    "# Metrics for accuracy.\n",
    "print(\"Accuracy:\",metrics.accuracy_score(y_test, y_pred)) \n",
    "\n",
    "# Metrics for precision. \n",
    "print(\"Precision:\",metrics.precision_score(y_test, y_pred)) \n",
    "\n",
    "# Metrics for recall.\n",
    "print(\"Recall:\",metrics.recall_score(y_test, y_pred)) "
   ]
  },
  {
   "cell_type": "code",
   "execution_count": 90,
   "id": "e1942ef6",
   "metadata": {},
   "outputs": [
    {
     "name": "stdout",
     "output_type": "stream",
     "text": [
      "              precision    recall  f1-score   support\n",
      "\n",
      "           0       1.00      1.00      1.00        37\n",
      "           1       1.00      1.00      1.00        18\n",
      "\n",
      "    accuracy                           1.00        55\n",
      "   macro avg       1.00      1.00      1.00        55\n",
      "weighted avg       1.00      1.00      1.00        55\n",
      "\n"
     ]
    }
   ],
   "source": [
    "from sklearn.metrics import classification_report\n",
    "\n",
    "print(classification_report(y_test, y_pred))"
   ]
  },
  {
   "cell_type": "code",
   "execution_count": 91,
   "id": "91ff529f",
   "metadata": {},
   "outputs": [
    {
     "data": {
      "image/png": "[encoded data removed]",
      "text/plain": [
       "<Figure size 720x720 with 1 Axes>"
      ]
     },
     "metadata": {},
     "output_type": "display_data"
    }
   ],
   "source": [
    "# Import matplotlib to create a visualisation \n",
    "# and the tree package from sklearn:\n",
    "import matplotlib.pyplot as plt \n",
    "from sklearn import tree\n",
    "\n",
    "# Plot the decision tree to create the visualisation:\n",
    "fig, ax = plt.subplots(figsize=(10, 10))\n",
    "tree.plot_tree(dtc_1, fontsize=10)\n",
    "\n",
    "# Print the plot with plt.show().\n",
    "plt.show()  "
   ]
  },
  {
   "cell_type": "code",
   "execution_count": 92,
   "id": "4ff6dc6c",
   "metadata": {},
   "outputs": [],
   "source": [
    "nec_cols = [ 'time_seconds_delta', 'Gmag_norm']\n",
    "\n",
    "X = IOT_gyro[nec_cols]"
   ]
  },
  {
   "cell_type": "code",
   "execution_count": 93,
   "id": "5adfb079",
   "metadata": {},
   "outputs": [],
   "source": [
    "# Predict the abnormal behaviour\n",
    "y_pred = dtc_1.predict(X) "
   ]
  },
  {
   "cell_type": "code",
   "execution_count": 94,
   "id": "c8c64144",
   "metadata": {},
   "outputs": [],
   "source": [
    "IOT_gyro['Throw_bike_Gyro_4_DTC']=y_pred"
   ]
  },
  {
   "cell_type": "code",
   "execution_count": 95,
   "id": "64e9e889",
   "metadata": {},
   "outputs": [
    {
     "data": {
      "text/html": [
       "<div>\n",
       "<style scoped>\n",
       "    .dataframe tbody tr th:only-of-type {\n",
       "        vertical-align: middle;\n",
       "    }\n",
       "\n",
       "    .dataframe tbody tr th {\n",
       "        vertical-align: top;\n",
       "    }\n",
       "\n",
       "    .dataframe thead th {\n",
       "        text-align: right;\n",
       "    }\n",
       "</style>\n",
       "<table border=\"1\" class=\"dataframe\">\n",
       "  <thead>\n",
       "    <tr style=\"text-align: right;\">\n",
       "      <th></th>\n",
       "      <th>time</th>\n",
       "      <th>time_seconds_delta</th>\n",
       "      <th>Gmag</th>\n",
       "      <th>Gmag_norm</th>\n",
       "      <th>IOT_gyro_1_curb_up_BLR</th>\n",
       "      <th>IOT_gyro_2_curb_up_BLR</th>\n",
       "      <th>Throw_bike_Gyro_4_DTC</th>\n",
       "    </tr>\n",
       "  </thead>\n",
       "  <tbody>\n",
       "    <tr>\n",
       "      <th>0</th>\n",
       "      <td>0.000821</td>\n",
       "      <td>0.000000</td>\n",
       "      <td>0.0</td>\n",
       "      <td>0.0</td>\n",
       "      <td>0</td>\n",
       "      <td>0</td>\n",
       "      <td>0</td>\n",
       "    </tr>\n",
       "    <tr>\n",
       "      <th>1</th>\n",
       "      <td>0.000997</td>\n",
       "      <td>0.000176</td>\n",
       "      <td>0.0</td>\n",
       "      <td>0.0</td>\n",
       "      <td>0</td>\n",
       "      <td>0</td>\n",
       "      <td>0</td>\n",
       "    </tr>\n",
       "    <tr>\n",
       "      <th>2</th>\n",
       "      <td>0.001085</td>\n",
       "      <td>0.000088</td>\n",
       "      <td>0.0</td>\n",
       "      <td>0.0</td>\n",
       "      <td>0</td>\n",
       "      <td>0</td>\n",
       "      <td>0</td>\n",
       "    </tr>\n",
       "    <tr>\n",
       "      <th>3</th>\n",
       "      <td>0.001171</td>\n",
       "      <td>0.000086</td>\n",
       "      <td>0.0</td>\n",
       "      <td>0.0</td>\n",
       "      <td>0</td>\n",
       "      <td>0</td>\n",
       "      <td>0</td>\n",
       "    </tr>\n",
       "    <tr>\n",
       "      <th>4</th>\n",
       "      <td>0.002772</td>\n",
       "      <td>0.001601</td>\n",
       "      <td>0.0</td>\n",
       "      <td>0.0</td>\n",
       "      <td>0</td>\n",
       "      <td>0</td>\n",
       "      <td>0</td>\n",
       "    </tr>\n",
       "  </tbody>\n",
       "</table>\n",
       "</div>"
      ],
      "text/plain": [
       "       time  time_seconds_delta  Gmag  Gmag_norm  IOT_gyro_1_curb_up_BLR  \\\n",
       "0  0.000821            0.000000   0.0        0.0                       0   \n",
       "1  0.000997            0.000176   0.0        0.0                       0   \n",
       "2  0.001085            0.000088   0.0        0.0                       0   \n",
       "3  0.001171            0.000086   0.0        0.0                       0   \n",
       "4  0.002772            0.001601   0.0        0.0                       0   \n",
       "\n",
       "   IOT_gyro_2_curb_up_BLR  Throw_bike_Gyro_4_DTC  \n",
       "0                       0                      0  \n",
       "1                       0                      0  \n",
       "2                       0                      0  \n",
       "3                       0                      0  \n",
       "4                       0                      0  "
      ]
     },
     "execution_count": 95,
     "metadata": {},
     "output_type": "execute_result"
    }
   ],
   "source": [
    "IOT_gyro.head()"
   ]
  },
  {
   "cell_type": "code",
   "execution_count": 96,
   "id": "19f448fb",
   "metadata": {},
   "outputs": [
    {
     "data": {
      "text/plain": [
       "0    514703\n",
       "1      3518\n",
       "Name: Throw_bike_Gyro_4_DTC, dtype: int64"
      ]
     },
     "execution_count": 96,
     "metadata": {},
     "output_type": "execute_result"
    }
   ],
   "source": [
    "IOT_gyro['Throw_bike_Gyro_4_DTC'].value_counts()"
   ]
  },
  {
   "cell_type": "code",
   "execution_count": 97,
   "id": "7c45cda5",
   "metadata": {},
   "outputs": [
    {
     "data": {
      "text/plain": [
       "<AxesSubplot:xlabel='time', ylabel='Gmag_norm'>"
      ]
     },
     "execution_count": 97,
     "metadata": {},
     "output_type": "execute_result"
    },
    {
     "data": {
      "image/png": "[encoded data removed]",
      "text/plain": [
       "<Figure size 1080x576 with 1 Axes>"
      ]
     },
     "metadata": {},
     "output_type": "display_data"
    }
   ],
   "source": [
    "plt.figure(figsize=(15,8))\n",
    "sns.lineplot(data=IOT_gyro, x='time', y='Gmag_norm', hue='Throw_bike_Gyro_4_DTC')"
   ]
  },
  {
   "cell_type": "markdown",
   "id": "83ac7a5b",
   "metadata": {},
   "source": [
    "## Gyro_5_throwing_bike - DTC"
   ]
  },
  {
   "cell_type": "code",
   "execution_count": 98,
   "id": "cd7e00c0",
   "metadata": {},
   "outputs": [],
   "source": [
    "Gyro_5_throwing_bike=pd.read_csv('Gyro_5_throwing_bike_normal_vs_abnormal.csv')"
   ]
  },
  {
   "cell_type": "code",
   "execution_count": 99,
   "id": "8a648bf6",
   "metadata": {},
   "outputs": [
    {
     "data": {
      "text/html": [
       "<div>\n",
       "<style scoped>\n",
       "    .dataframe tbody tr th:only-of-type {\n",
       "        vertical-align: middle;\n",
       "    }\n",
       "\n",
       "    .dataframe tbody tr th {\n",
       "        vertical-align: top;\n",
       "    }\n",
       "\n",
       "    .dataframe thead th {\n",
       "        text-align: right;\n",
       "    }\n",
       "</style>\n",
       "<table border=\"1\" class=\"dataframe\">\n",
       "  <thead>\n",
       "    <tr style=\"text-align: right;\">\n",
       "      <th></th>\n",
       "      <th>Unnamed: 0</th>\n",
       "      <th>time_seconds</th>\n",
       "      <th>time_seconds_delta</th>\n",
       "      <th>Timestamp</th>\n",
       "      <th>Data</th>\n",
       "      <th>X</th>\n",
       "      <th>Y</th>\n",
       "      <th>Z</th>\n",
       "      <th>Gmag</th>\n",
       "      <th>Gmag_norm</th>\n",
       "      <th>Q3 threshold</th>\n",
       "      <th>Std threshold</th>\n",
       "      <th>HO threshold</th>\n",
       "    </tr>\n",
       "  </thead>\n",
       "  <tbody>\n",
       "    <tr>\n",
       "      <th>0</th>\n",
       "      <td>0</td>\n",
       "      <td>68196.812</td>\n",
       "      <td>0.000</td>\n",
       "      <td>18:56:36:812</td>\n",
       "      <td>0000379945 [app] INFO: GYRO:</td>\n",
       "      <td>0.066</td>\n",
       "      <td>0.027</td>\n",
       "      <td>0.901</td>\n",
       "      <td>0.903817</td>\n",
       "      <td>0.0</td>\n",
       "      <td>Normal data</td>\n",
       "      <td>Normal data</td>\n",
       "      <td>Normal data</td>\n",
       "    </tr>\n",
       "    <tr>\n",
       "      <th>1</th>\n",
       "      <td>1</td>\n",
       "      <td>68196.902</td>\n",
       "      <td>0.090</td>\n",
       "      <td>18:56:36:902</td>\n",
       "      <td>0000380036 [app] INFO: GYRO:</td>\n",
       "      <td>0.066</td>\n",
       "      <td>0.027</td>\n",
       "      <td>0.901</td>\n",
       "      <td>0.903817</td>\n",
       "      <td>0.0</td>\n",
       "      <td>Normal data</td>\n",
       "      <td>Normal data</td>\n",
       "      <td>Normal data</td>\n",
       "    </tr>\n",
       "    <tr>\n",
       "      <th>2</th>\n",
       "      <td>2</td>\n",
       "      <td>68196.992</td>\n",
       "      <td>0.090</td>\n",
       "      <td>18:56:36:992</td>\n",
       "      <td>0000380126 [app] INFO: GYRO:</td>\n",
       "      <td>0.066</td>\n",
       "      <td>0.027</td>\n",
       "      <td>0.901</td>\n",
       "      <td>0.903817</td>\n",
       "      <td>0.0</td>\n",
       "      <td>Normal data</td>\n",
       "      <td>Normal data</td>\n",
       "      <td>Normal data</td>\n",
       "    </tr>\n",
       "    <tr>\n",
       "      <th>3</th>\n",
       "      <td>3</td>\n",
       "      <td>68197.082</td>\n",
       "      <td>0.090</td>\n",
       "      <td>18:56:37:082</td>\n",
       "      <td>0000380216 [app] INFO: GYRO:</td>\n",
       "      <td>0.066</td>\n",
       "      <td>0.027</td>\n",
       "      <td>0.901</td>\n",
       "      <td>0.903817</td>\n",
       "      <td>0.0</td>\n",
       "      <td>Normal data</td>\n",
       "      <td>Normal data</td>\n",
       "      <td>Normal data</td>\n",
       "    </tr>\n",
       "    <tr>\n",
       "      <th>4</th>\n",
       "      <td>4</td>\n",
       "      <td>68197.171</td>\n",
       "      <td>0.089</td>\n",
       "      <td>18:56:37:171</td>\n",
       "      <td>0000380306 [app] INFO: GYRO:</td>\n",
       "      <td>0.066</td>\n",
       "      <td>0.027</td>\n",
       "      <td>0.901</td>\n",
       "      <td>0.903817</td>\n",
       "      <td>0.0</td>\n",
       "      <td>Normal data</td>\n",
       "      <td>Normal data</td>\n",
       "      <td>Normal data</td>\n",
       "    </tr>\n",
       "  </tbody>\n",
       "</table>\n",
       "</div>"
      ],
      "text/plain": [
       "   Unnamed: 0  time_seconds  time_seconds_delta     Timestamp  \\\n",
       "0           0     68196.812               0.000  18:56:36:812   \n",
       "1           1     68196.902               0.090  18:56:36:902   \n",
       "2           2     68196.992               0.090  18:56:36:992   \n",
       "3           3     68197.082               0.090  18:56:37:082   \n",
       "4           4     68197.171               0.089  18:56:37:171   \n",
       "\n",
       "                            Data      X      Y      Z      Gmag  Gmag_norm  \\\n",
       "0  0000379945 [app] INFO: GYRO:   0.066  0.027  0.901  0.903817        0.0   \n",
       "1  0000380036 [app] INFO: GYRO:   0.066  0.027  0.901  0.903817        0.0   \n",
       "2  0000380126 [app] INFO: GYRO:   0.066  0.027  0.901  0.903817        0.0   \n",
       "3  0000380216 [app] INFO: GYRO:   0.066  0.027  0.901  0.903817        0.0   \n",
       "4  0000380306 [app] INFO: GYRO:   0.066  0.027  0.901  0.903817        0.0   \n",
       "\n",
       "  Q3 threshold Std threshold HO threshold  \n",
       "0  Normal data   Normal data  Normal data  \n",
       "1  Normal data   Normal data  Normal data  \n",
       "2  Normal data   Normal data  Normal data  \n",
       "3  Normal data   Normal data  Normal data  \n",
       "4  Normal data   Normal data  Normal data  "
      ]
     },
     "execution_count": 99,
     "metadata": {},
     "output_type": "execute_result"
    }
   ],
   "source": [
    "Gyro_5_throwing_bike.head()"
   ]
  },
  {
   "cell_type": "code",
   "execution_count": 100,
   "id": "792ff139",
   "metadata": {},
   "outputs": [],
   "source": [
    "# Create new df with necessary columns\n",
    "Gyro_5_throwing_bike_copy=Gyro_5_throwing_bike[['time_seconds', 'time_seconds_delta', 'Gmag_norm', 'Q3 threshold','Std threshold', 'HO threshold']]"
   ]
  },
  {
   "cell_type": "code",
   "execution_count": 101,
   "id": "5614b087",
   "metadata": {},
   "outputs": [],
   "source": [
    "# Replace Normal Data as 0 and Abnormal Data as 1\n",
    "# Assumptions for BLR\n",
    "# Assumption 1: Binary logistic regression requires the dependent variable to be binary.\n",
    "# Assumption 2: For a binary logistic regression, the factor level 1 of the dependent variable should represent the desired outcome.\n",
    "Gyro_5_throwing_bike_copy=Gyro_5_throwing_bike_copy.replace('Normal data', 0)\n",
    "Gyro_5_throwing_bike_copy=Gyro_5_throwing_bike_copy.replace('Abnormal data', 1)"
   ]
  },
  {
   "cell_type": "code",
   "execution_count": 102,
   "id": "1a3ed3e2",
   "metadata": {},
   "outputs": [
    {
     "data": {
      "text/html": [
       "<div>\n",
       "<style scoped>\n",
       "    .dataframe tbody tr th:only-of-type {\n",
       "        vertical-align: middle;\n",
       "    }\n",
       "\n",
       "    .dataframe tbody tr th {\n",
       "        vertical-align: top;\n",
       "    }\n",
       "\n",
       "    .dataframe thead th {\n",
       "        text-align: right;\n",
       "    }\n",
       "</style>\n",
       "<table border=\"1\" class=\"dataframe\">\n",
       "  <thead>\n",
       "    <tr style=\"text-align: right;\">\n",
       "      <th></th>\n",
       "      <th>time_seconds</th>\n",
       "      <th>time_seconds_delta</th>\n",
       "      <th>Gmag_norm</th>\n",
       "      <th>Q3 threshold</th>\n",
       "      <th>Std threshold</th>\n",
       "      <th>HO threshold</th>\n",
       "    </tr>\n",
       "  </thead>\n",
       "  <tbody>\n",
       "    <tr>\n",
       "      <th>0</th>\n",
       "      <td>68196.812</td>\n",
       "      <td>0.000</td>\n",
       "      <td>0.0</td>\n",
       "      <td>0</td>\n",
       "      <td>0</td>\n",
       "      <td>0</td>\n",
       "    </tr>\n",
       "    <tr>\n",
       "      <th>1</th>\n",
       "      <td>68196.902</td>\n",
       "      <td>0.090</td>\n",
       "      <td>0.0</td>\n",
       "      <td>0</td>\n",
       "      <td>0</td>\n",
       "      <td>0</td>\n",
       "    </tr>\n",
       "    <tr>\n",
       "      <th>2</th>\n",
       "      <td>68196.992</td>\n",
       "      <td>0.090</td>\n",
       "      <td>0.0</td>\n",
       "      <td>0</td>\n",
       "      <td>0</td>\n",
       "      <td>0</td>\n",
       "    </tr>\n",
       "    <tr>\n",
       "      <th>3</th>\n",
       "      <td>68197.082</td>\n",
       "      <td>0.090</td>\n",
       "      <td>0.0</td>\n",
       "      <td>0</td>\n",
       "      <td>0</td>\n",
       "      <td>0</td>\n",
       "    </tr>\n",
       "    <tr>\n",
       "      <th>4</th>\n",
       "      <td>68197.171</td>\n",
       "      <td>0.089</td>\n",
       "      <td>0.0</td>\n",
       "      <td>0</td>\n",
       "      <td>0</td>\n",
       "      <td>0</td>\n",
       "    </tr>\n",
       "  </tbody>\n",
       "</table>\n",
       "</div>"
      ],
      "text/plain": [
       "   time_seconds  time_seconds_delta  Gmag_norm  Q3 threshold  Std threshold  \\\n",
       "0     68196.812               0.000        0.0             0              0   \n",
       "1     68196.902               0.090        0.0             0              0   \n",
       "2     68196.992               0.090        0.0             0              0   \n",
       "3     68197.082               0.090        0.0             0              0   \n",
       "4     68197.171               0.089        0.0             0              0   \n",
       "\n",
       "   HO threshold  \n",
       "0             0  \n",
       "1             0  \n",
       "2             0  \n",
       "3             0  \n",
       "4             0  "
      ]
     },
     "execution_count": 102,
     "metadata": {},
     "output_type": "execute_result"
    }
   ],
   "source": [
    "Gyro_5_throwing_bike_copy.head()"
   ]
  },
  {
   "cell_type": "code",
   "execution_count": 103,
   "id": "84f10921",
   "metadata": {},
   "outputs": [
    {
     "name": "stdout",
     "output_type": "stream",
     "text": [
      "length of oversampled data is  68\n"
     ]
    },
    {
     "data": {
      "text/html": [
       "<div>\n",
       "<style scoped>\n",
       "    .dataframe tbody tr th:only-of-type {\n",
       "        vertical-align: middle;\n",
       "    }\n",
       "\n",
       "    .dataframe tbody tr th {\n",
       "        vertical-align: top;\n",
       "    }\n",
       "\n",
       "    .dataframe thead th {\n",
       "        text-align: right;\n",
       "    }\n",
       "</style>\n",
       "<table border=\"1\" class=\"dataframe\">\n",
       "  <thead>\n",
       "    <tr style=\"text-align: right;\">\n",
       "      <th></th>\n",
       "      <th>Q3 threshold</th>\n",
       "    </tr>\n",
       "  </thead>\n",
       "  <tbody>\n",
       "    <tr>\n",
       "      <th>0</th>\n",
       "      <td>1</td>\n",
       "    </tr>\n",
       "    <tr>\n",
       "      <th>1</th>\n",
       "      <td>0</td>\n",
       "    </tr>\n",
       "    <tr>\n",
       "      <th>2</th>\n",
       "      <td>0</td>\n",
       "    </tr>\n",
       "    <tr>\n",
       "      <th>3</th>\n",
       "      <td>0</td>\n",
       "    </tr>\n",
       "    <tr>\n",
       "      <th>4</th>\n",
       "      <td>1</td>\n",
       "    </tr>\n",
       "    <tr>\n",
       "      <th>...</th>\n",
       "      <td>...</td>\n",
       "    </tr>\n",
       "    <tr>\n",
       "      <th>63</th>\n",
       "      <td>1</td>\n",
       "    </tr>\n",
       "    <tr>\n",
       "      <th>64</th>\n",
       "      <td>1</td>\n",
       "    </tr>\n",
       "    <tr>\n",
       "      <th>65</th>\n",
       "      <td>1</td>\n",
       "    </tr>\n",
       "    <tr>\n",
       "      <th>66</th>\n",
       "      <td>1</td>\n",
       "    </tr>\n",
       "    <tr>\n",
       "      <th>67</th>\n",
       "      <td>0</td>\n",
       "    </tr>\n",
       "  </tbody>\n",
       "</table>\n",
       "<p>68 rows × 1 columns</p>\n",
       "</div>"
      ],
      "text/plain": [
       "    Q3 threshold\n",
       "0              1\n",
       "1              0\n",
       "2              0\n",
       "3              0\n",
       "4              1\n",
       "..           ...\n",
       "63             1\n",
       "64             1\n",
       "65             1\n",
       "66             1\n",
       "67             0\n",
       "\n",
       "[68 rows x 1 columns]"
      ]
     },
     "execution_count": 103,
     "metadata": {},
     "output_type": "execute_result"
    }
   ],
   "source": [
    "# Select necessary columns: \n",
    "nec_cols = [ 'time_seconds_delta', 'Gmag_norm']\n",
    "\n",
    "X = Gyro_5_throwing_bike_copy[nec_cols]\n",
    "y = Gyro_5_throwing_bike_copy['Q3 threshold']\n",
    "\n",
    "# Create a new DataFrame and \n",
    "# apply SMOTE as the target variable is not balanced.\n",
    "os = SMOTE(random_state=0)  \n",
    "X_train, X_test, y_train, y_test = train_test_split(X, y, test_size=0.3, random_state=0)\n",
    "\n",
    "# Specify column values.\n",
    "columns = X_train.columns  \n",
    "# Specify the new data sets.\n",
    "os_data_X,os_data_y=os.fit_resample(X_train, y_train)  \n",
    "\n",
    "# Create two DataFrames for X and one for y:\n",
    "os_data_X = pd.DataFrame(data=os_data_X,columns=columns )\n",
    "os_data_y= pd.DataFrame(data=os_data_y,columns=['Q3 threshold'])\n",
    "\n",
    "# Print/check the DataFrame:\n",
    "print(\"length of oversampled data is \",len(os_data_X))\n",
    "\n",
    "os_data_y"
   ]
  },
  {
   "cell_type": "code",
   "execution_count": 104,
   "id": "063cf252",
   "metadata": {},
   "outputs": [
    {
     "data": {
      "text/plain": [
       "Q3 threshold\n",
       "0               34\n",
       "1               34\n",
       "dtype: int64"
      ]
     },
     "execution_count": 104,
     "metadata": {},
     "output_type": "execute_result"
    }
   ],
   "source": [
    "os_data_y.value_counts()"
   ]
  },
  {
   "cell_type": "code",
   "execution_count": 105,
   "id": "0b099cd8",
   "metadata": {},
   "outputs": [],
   "source": [
    "# Import the DecisionTreeClassifier class from sklearn. \n",
    "from sklearn.tree import DecisionTreeClassifier  \n",
    "\n",
    "# Create a classification decision tree classifier object as dtc: \n",
    "dtc_2 = DecisionTreeClassifier(criterion='gini', max_depth=4, random_state=1)\n",
    "\n",
    "# Train the decision tree classifier.\n",
    "dtc_2 = dtc_2.fit(os_data_X, os_data_y) \n",
    "\n",
    "# Predict the response for the test data set.\n",
    "y_pred = dtc_2.predict(X_test) "
   ]
  },
  {
   "cell_type": "code",
   "execution_count": 106,
   "id": "4b49bb2e",
   "metadata": {},
   "outputs": [
    {
     "name": "stdout",
     "output_type": "stream",
     "text": [
      "[[18  0]\n",
      " [ 0 12]]\n",
      "Accuracy: 1.0\n",
      "Precision: 1.0\n",
      "Recall: 1.0\n"
     ]
    }
   ],
   "source": [
    "# Import scikit-learn metrics module for accuracy calculation:\n",
    "from sklearn.metrics import confusion_matrix\n",
    "\n",
    "# Use the print() function to display the confusion matrix results:\n",
    "print(confusion_matrix(y_test, y_pred))\n",
    "\n",
    "# Metrics for accuracy.\n",
    "print(\"Accuracy:\",metrics.accuracy_score(y_test, y_pred)) \n",
    "\n",
    "# Metrics for precision. \n",
    "print(\"Precision:\",metrics.precision_score(y_test, y_pred)) \n",
    "\n",
    "# Metrics for recall.\n",
    "print(\"Recall:\",metrics.recall_score(y_test, y_pred)) "
   ]
  },
  {
   "cell_type": "code",
   "execution_count": 107,
   "id": "9b0cbc14",
   "metadata": {},
   "outputs": [
    {
     "name": "stdout",
     "output_type": "stream",
     "text": [
      "              precision    recall  f1-score   support\n",
      "\n",
      "           0       1.00      1.00      1.00        18\n",
      "           1       1.00      1.00      1.00        12\n",
      "\n",
      "    accuracy                           1.00        30\n",
      "   macro avg       1.00      1.00      1.00        30\n",
      "weighted avg       1.00      1.00      1.00        30\n",
      "\n"
     ]
    }
   ],
   "source": [
    "from sklearn.metrics import classification_report\n",
    "\n",
    "print(classification_report(y_test, y_pred))"
   ]
  },
  {
   "cell_type": "code",
   "execution_count": 108,
   "id": "0d015275",
   "metadata": {},
   "outputs": [
    {
     "data": {
      "image/png": "[encoded data removed]",
      "text/plain": [
       "<Figure size 720x720 with 1 Axes>"
      ]
     },
     "metadata": {},
     "output_type": "display_data"
    }
   ],
   "source": [
    "# Import matplotlib to create a visualisation \n",
    "# and the tree package from sklearn:\n",
    "import matplotlib.pyplot as plt \n",
    "from sklearn import tree\n",
    "\n",
    "# Plot the decision tree to create the visualisation:\n",
    "fig, ax = plt.subplots(figsize=(10, 10))\n",
    "tree.plot_tree(dtc_2, fontsize=10)\n",
    "\n",
    "# Print the plot with plt.show().\n",
    "plt.show()  "
   ]
  },
  {
   "cell_type": "code",
   "execution_count": 109,
   "id": "60a0e243",
   "metadata": {},
   "outputs": [],
   "source": [
    "nec_cols = [ 'time_seconds_delta', 'Gmag_norm']\n",
    "\n",
    "X = IOT_gyro[nec_cols]"
   ]
  },
  {
   "cell_type": "code",
   "execution_count": 110,
   "id": "b6bb8910",
   "metadata": {},
   "outputs": [],
   "source": [
    "# Predict the abnormal behaviour\n",
    "y_pred = dtc_2.predict(X) "
   ]
  },
  {
   "cell_type": "code",
   "execution_count": 111,
   "id": "4595c5d1",
   "metadata": {},
   "outputs": [],
   "source": [
    "IOT_gyro['Throw_bike_Gyro_5_DTC']=y_pred"
   ]
  },
  {
   "cell_type": "code",
   "execution_count": 112,
   "id": "5faa863f",
   "metadata": {},
   "outputs": [
    {
     "data": {
      "text/html": [
       "<div>\n",
       "<style scoped>\n",
       "    .dataframe tbody tr th:only-of-type {\n",
       "        vertical-align: middle;\n",
       "    }\n",
       "\n",
       "    .dataframe tbody tr th {\n",
       "        vertical-align: top;\n",
       "    }\n",
       "\n",
       "    .dataframe thead th {\n",
       "        text-align: right;\n",
       "    }\n",
       "</style>\n",
       "<table border=\"1\" class=\"dataframe\">\n",
       "  <thead>\n",
       "    <tr style=\"text-align: right;\">\n",
       "      <th></th>\n",
       "      <th>time</th>\n",
       "      <th>time_seconds_delta</th>\n",
       "      <th>Gmag</th>\n",
       "      <th>Gmag_norm</th>\n",
       "      <th>IOT_gyro_1_curb_up_BLR</th>\n",
       "      <th>IOT_gyro_2_curb_up_BLR</th>\n",
       "      <th>Throw_bike_Gyro_4_DTC</th>\n",
       "      <th>Throw_bike_Gyro_5_DTC</th>\n",
       "    </tr>\n",
       "  </thead>\n",
       "  <tbody>\n",
       "    <tr>\n",
       "      <th>0</th>\n",
       "      <td>0.000821</td>\n",
       "      <td>0.000000</td>\n",
       "      <td>0.0</td>\n",
       "      <td>0.0</td>\n",
       "      <td>0</td>\n",
       "      <td>0</td>\n",
       "      <td>0</td>\n",
       "      <td>0</td>\n",
       "    </tr>\n",
       "    <tr>\n",
       "      <th>1</th>\n",
       "      <td>0.000997</td>\n",
       "      <td>0.000176</td>\n",
       "      <td>0.0</td>\n",
       "      <td>0.0</td>\n",
       "      <td>0</td>\n",
       "      <td>0</td>\n",
       "      <td>0</td>\n",
       "      <td>0</td>\n",
       "    </tr>\n",
       "    <tr>\n",
       "      <th>2</th>\n",
       "      <td>0.001085</td>\n",
       "      <td>0.000088</td>\n",
       "      <td>0.0</td>\n",
       "      <td>0.0</td>\n",
       "      <td>0</td>\n",
       "      <td>0</td>\n",
       "      <td>0</td>\n",
       "      <td>0</td>\n",
       "    </tr>\n",
       "    <tr>\n",
       "      <th>3</th>\n",
       "      <td>0.001171</td>\n",
       "      <td>0.000086</td>\n",
       "      <td>0.0</td>\n",
       "      <td>0.0</td>\n",
       "      <td>0</td>\n",
       "      <td>0</td>\n",
       "      <td>0</td>\n",
       "      <td>0</td>\n",
       "    </tr>\n",
       "    <tr>\n",
       "      <th>4</th>\n",
       "      <td>0.002772</td>\n",
       "      <td>0.001601</td>\n",
       "      <td>0.0</td>\n",
       "      <td>0.0</td>\n",
       "      <td>0</td>\n",
       "      <td>0</td>\n",
       "      <td>0</td>\n",
       "      <td>0</td>\n",
       "    </tr>\n",
       "  </tbody>\n",
       "</table>\n",
       "</div>"
      ],
      "text/plain": [
       "       time  time_seconds_delta  Gmag  Gmag_norm  IOT_gyro_1_curb_up_BLR  \\\n",
       "0  0.000821            0.000000   0.0        0.0                       0   \n",
       "1  0.000997            0.000176   0.0        0.0                       0   \n",
       "2  0.001085            0.000088   0.0        0.0                       0   \n",
       "3  0.001171            0.000086   0.0        0.0                       0   \n",
       "4  0.002772            0.001601   0.0        0.0                       0   \n",
       "\n",
       "   IOT_gyro_2_curb_up_BLR  Throw_bike_Gyro_4_DTC  Throw_bike_Gyro_5_DTC  \n",
       "0                       0                      0                      0  \n",
       "1                       0                      0                      0  \n",
       "2                       0                      0                      0  \n",
       "3                       0                      0                      0  \n",
       "4                       0                      0                      0  "
      ]
     },
     "execution_count": 112,
     "metadata": {},
     "output_type": "execute_result"
    }
   ],
   "source": [
    "IOT_gyro.head()"
   ]
  },
  {
   "cell_type": "code",
   "execution_count": 113,
   "id": "9b230bff",
   "metadata": {},
   "outputs": [
    {
     "data": {
      "text/plain": [
       "0    516510\n",
       "1      1711\n",
       "Name: Throw_bike_Gyro_5_DTC, dtype: int64"
      ]
     },
     "execution_count": 113,
     "metadata": {},
     "output_type": "execute_result"
    }
   ],
   "source": [
    "IOT_gyro['Throw_bike_Gyro_5_DTC'].value_counts()"
   ]
  },
  {
   "cell_type": "code",
   "execution_count": 114,
   "id": "7e47c6db",
   "metadata": {},
   "outputs": [
    {
     "data": {
      "text/plain": [
       "<AxesSubplot:xlabel='time', ylabel='Gmag_norm'>"
      ]
     },
     "execution_count": 114,
     "metadata": {},
     "output_type": "execute_result"
    },
    {
     "data": {
      "image/png": "[encoded data removed]",
      "text/plain": [
       "<Figure size 1080x576 with 1 Axes>"
      ]
     },
     "metadata": {},
     "output_type": "display_data"
    }
   ],
   "source": [
    "plt.figure(figsize=(15,8))\n",
    "sns.lineplot(data=IOT_gyro, x='time', y='Gmag_norm', hue='Throw_bike_Gyro_5_DTC')"
   ]
  },
  {
   "cell_type": "code",
   "execution_count": null,
   "id": "7af0d304",
   "metadata": {},
   "outputs": [],
   "source": []
  },
  {
   "cell_type": "markdown",
   "id": "4df7bae9",
   "metadata": {},
   "source": [
    "## accel_8_curb_up - BLR Model"
   ]
  },
  {
   "cell_type": "code",
   "execution_count": 115,
   "id": "a3bcd225",
   "metadata": {},
   "outputs": [],
   "source": [
    "# Import CVS files\n",
    "accel_8_curb_up = pd.read_csv('accel_8_curb_up_normal_vs_abnormal.csv')"
   ]
  },
  {
   "cell_type": "code",
   "execution_count": 116,
   "id": "5442b5bd",
   "metadata": {
    "scrolled": true
   },
   "outputs": [
    {
     "data": {
      "text/html": [
       "<div>\n",
       "<style scoped>\n",
       "    .dataframe tbody tr th:only-of-type {\n",
       "        vertical-align: middle;\n",
       "    }\n",
       "\n",
       "    .dataframe tbody tr th {\n",
       "        vertical-align: top;\n",
       "    }\n",
       "\n",
       "    .dataframe thead th {\n",
       "        text-align: right;\n",
       "    }\n",
       "</style>\n",
       "<table border=\"1\" class=\"dataframe\">\n",
       "  <thead>\n",
       "    <tr style=\"text-align: right;\">\n",
       "      <th></th>\n",
       "      <th>Unnamed: 0</th>\n",
       "      <th>time_seconds</th>\n",
       "      <th>time_seconds_delta</th>\n",
       "      <th>Timestamp</th>\n",
       "      <th>AX</th>\n",
       "      <th>AY</th>\n",
       "      <th>AZ</th>\n",
       "      <th>fAX</th>\n",
       "      <th>fAY</th>\n",
       "      <th>fAZ</th>\n",
       "      <th>Amag</th>\n",
       "      <th>fAmag</th>\n",
       "      <th>fAmag_norm</th>\n",
       "      <th>Std threshold</th>\n",
       "      <th>Q3 threshold</th>\n",
       "      <th>HO threshold</th>\n",
       "    </tr>\n",
       "  </thead>\n",
       "  <tbody>\n",
       "    <tr>\n",
       "      <th>0</th>\n",
       "      <td>0</td>\n",
       "      <td>0.000</td>\n",
       "      <td>0.000</td>\n",
       "      <td>1900-01-01 18:15:17.321</td>\n",
       "      <td>-1984</td>\n",
       "      <td>-1184</td>\n",
       "      <td>-128</td>\n",
       "      <td>10.911464</td>\n",
       "      <td>20.143747</td>\n",
       "      <td>38.438805</td>\n",
       "      <td>2313.978392</td>\n",
       "      <td>44.747875</td>\n",
       "      <td>0.000000</td>\n",
       "      <td>Normal data</td>\n",
       "      <td>Normal data</td>\n",
       "      <td>Normal data</td>\n",
       "    </tr>\n",
       "    <tr>\n",
       "      <th>1</th>\n",
       "      <td>1</td>\n",
       "      <td>4.321</td>\n",
       "      <td>4.321</td>\n",
       "      <td>1900-01-01 18:15:21.642</td>\n",
       "      <td>1120</td>\n",
       "      <td>1504</td>\n",
       "      <td>-608</td>\n",
       "      <td>5.466331</td>\n",
       "      <td>39.520996</td>\n",
       "      <td>30.415575</td>\n",
       "      <td>1971.314282</td>\n",
       "      <td>50.168686</td>\n",
       "      <td>0.003468</td>\n",
       "      <td>Normal data</td>\n",
       "      <td>Normal data</td>\n",
       "      <td>Normal data</td>\n",
       "    </tr>\n",
       "    <tr>\n",
       "      <th>2</th>\n",
       "      <td>2</td>\n",
       "      <td>5.087</td>\n",
       "      <td>0.766</td>\n",
       "      <td>1900-01-01 18:15:22.408</td>\n",
       "      <td>-2144</td>\n",
       "      <td>-2048</td>\n",
       "      <td>960</td>\n",
       "      <td>-33.589970</td>\n",
       "      <td>1.751053</td>\n",
       "      <td>42.425961</td>\n",
       "      <td>3116.510870</td>\n",
       "      <td>54.141615</td>\n",
       "      <td>0.006010</td>\n",
       "      <td>Normal data</td>\n",
       "      <td>Normal data</td>\n",
       "      <td>Normal data</td>\n",
       "    </tr>\n",
       "    <tr>\n",
       "      <th>3</th>\n",
       "      <td>3</td>\n",
       "      <td>5.399</td>\n",
       "      <td>0.312</td>\n",
       "      <td>1900-01-01 18:15:22.720</td>\n",
       "      <td>-3552</td>\n",
       "      <td>-1696</td>\n",
       "      <td>384</td>\n",
       "      <td>-99.028473</td>\n",
       "      <td>-29.657183</td>\n",
       "      <td>46.862812</td>\n",
       "      <td>3954.816810</td>\n",
       "      <td>113.500265</td>\n",
       "      <td>0.043984</td>\n",
       "      <td>Normal data</td>\n",
       "      <td>Normal data</td>\n",
       "      <td>Normal data</td>\n",
       "    </tr>\n",
       "    <tr>\n",
       "      <th>4</th>\n",
       "      <td>4</td>\n",
       "      <td>5.715</td>\n",
       "      <td>0.316</td>\n",
       "      <td>1900-01-01 18:15:23.036</td>\n",
       "      <td>-2880</td>\n",
       "      <td>-2720</td>\n",
       "      <td>2880</td>\n",
       "      <td>-153.310471</td>\n",
       "      <td>-80.152374</td>\n",
       "      <td>83.436729</td>\n",
       "      <td>4897.672917</td>\n",
       "      <td>192.068194</td>\n",
       "      <td>0.094247</td>\n",
       "      <td>Normal data</td>\n",
       "      <td>Normal data</td>\n",
       "      <td>Normal data</td>\n",
       "    </tr>\n",
       "  </tbody>\n",
       "</table>\n",
       "</div>"
      ],
      "text/plain": [
       "   Unnamed: 0  time_seconds  time_seconds_delta                Timestamp  \\\n",
       "0           0         0.000               0.000  1900-01-01 18:15:17.321   \n",
       "1           1         4.321               4.321  1900-01-01 18:15:21.642   \n",
       "2           2         5.087               0.766  1900-01-01 18:15:22.408   \n",
       "3           3         5.399               0.312  1900-01-01 18:15:22.720   \n",
       "4           4         5.715               0.316  1900-01-01 18:15:23.036   \n",
       "\n",
       "     AX    AY    AZ         fAX        fAY        fAZ         Amag  \\\n",
       "0 -1984 -1184  -128   10.911464  20.143747  38.438805  2313.978392   \n",
       "1  1120  1504  -608    5.466331  39.520996  30.415575  1971.314282   \n",
       "2 -2144 -2048   960  -33.589970   1.751053  42.425961  3116.510870   \n",
       "3 -3552 -1696   384  -99.028473 -29.657183  46.862812  3954.816810   \n",
       "4 -2880 -2720  2880 -153.310471 -80.152374  83.436729  4897.672917   \n",
       "\n",
       "        fAmag  fAmag_norm Std threshold Q3 threshold HO threshold  \n",
       "0   44.747875    0.000000   Normal data  Normal data  Normal data  \n",
       "1   50.168686    0.003468   Normal data  Normal data  Normal data  \n",
       "2   54.141615    0.006010   Normal data  Normal data  Normal data  \n",
       "3  113.500265    0.043984   Normal data  Normal data  Normal data  \n",
       "4  192.068194    0.094247   Normal data  Normal data  Normal data  "
      ]
     },
     "execution_count": 116,
     "metadata": {},
     "output_type": "execute_result"
    }
   ],
   "source": [
    "accel_8_curb_up.head()"
   ]
  },
  {
   "cell_type": "code",
   "execution_count": 117,
   "id": "b70f5ec1",
   "metadata": {},
   "outputs": [],
   "source": [
    "# Create new column with necessary columns\n",
    "accel_8_curb_up_copy=accel_8_curb_up[['time_seconds', 'time_seconds_delta', 'fAmag_norm', 'Q3 threshold','Std threshold', 'HO threshold']]"
   ]
  },
  {
   "cell_type": "code",
   "execution_count": 118,
   "id": "4dd2cc7c",
   "metadata": {},
   "outputs": [],
   "source": [
    "# Replace Normal Data as 0 and Abnormal Data as 1\n",
    "# Assumptions for BLR\n",
    "# Assumption 1: Binary logistic regression requires the dependent variable to be binary.\n",
    "# Assumption 2: For a binary logistic regression, the factor level 1 of the dependent variable should represent the desired outcome.\n",
    "accel_8_curb_up_copy=accel_8_curb_up_copy.replace('Normal data', 0)\n",
    "accel_8_curb_up_copy=accel_8_curb_up_copy.replace('Abnormal data', 1)"
   ]
  },
  {
   "cell_type": "code",
   "execution_count": 119,
   "id": "af52179e",
   "metadata": {},
   "outputs": [
    {
     "data": {
      "text/html": [
       "<div>\n",
       "<style scoped>\n",
       "    .dataframe tbody tr th:only-of-type {\n",
       "        vertical-align: middle;\n",
       "    }\n",
       "\n",
       "    .dataframe tbody tr th {\n",
       "        vertical-align: top;\n",
       "    }\n",
       "\n",
       "    .dataframe thead th {\n",
       "        text-align: right;\n",
       "    }\n",
       "</style>\n",
       "<table border=\"1\" class=\"dataframe\">\n",
       "  <thead>\n",
       "    <tr style=\"text-align: right;\">\n",
       "      <th></th>\n",
       "      <th>time_seconds</th>\n",
       "      <th>time_seconds_delta</th>\n",
       "      <th>fAmag_norm</th>\n",
       "      <th>Q3 threshold</th>\n",
       "      <th>Std threshold</th>\n",
       "      <th>HO threshold</th>\n",
       "    </tr>\n",
       "  </thead>\n",
       "  <tbody>\n",
       "    <tr>\n",
       "      <th>0</th>\n",
       "      <td>0.000</td>\n",
       "      <td>0.000</td>\n",
       "      <td>0.000000</td>\n",
       "      <td>0</td>\n",
       "      <td>0</td>\n",
       "      <td>0</td>\n",
       "    </tr>\n",
       "    <tr>\n",
       "      <th>1</th>\n",
       "      <td>4.321</td>\n",
       "      <td>4.321</td>\n",
       "      <td>0.003468</td>\n",
       "      <td>0</td>\n",
       "      <td>0</td>\n",
       "      <td>0</td>\n",
       "    </tr>\n",
       "    <tr>\n",
       "      <th>2</th>\n",
       "      <td>5.087</td>\n",
       "      <td>0.766</td>\n",
       "      <td>0.006010</td>\n",
       "      <td>0</td>\n",
       "      <td>0</td>\n",
       "      <td>0</td>\n",
       "    </tr>\n",
       "    <tr>\n",
       "      <th>3</th>\n",
       "      <td>5.399</td>\n",
       "      <td>0.312</td>\n",
       "      <td>0.043984</td>\n",
       "      <td>0</td>\n",
       "      <td>0</td>\n",
       "      <td>0</td>\n",
       "    </tr>\n",
       "    <tr>\n",
       "      <th>4</th>\n",
       "      <td>5.715</td>\n",
       "      <td>0.316</td>\n",
       "      <td>0.094247</td>\n",
       "      <td>0</td>\n",
       "      <td>0</td>\n",
       "      <td>0</td>\n",
       "    </tr>\n",
       "  </tbody>\n",
       "</table>\n",
       "</div>"
      ],
      "text/plain": [
       "   time_seconds  time_seconds_delta  fAmag_norm  Q3 threshold  Std threshold  \\\n",
       "0         0.000               0.000    0.000000             0              0   \n",
       "1         4.321               4.321    0.003468             0              0   \n",
       "2         5.087               0.766    0.006010             0              0   \n",
       "3         5.399               0.312    0.043984             0              0   \n",
       "4         5.715               0.316    0.094247             0              0   \n",
       "\n",
       "   HO threshold  \n",
       "0             0  \n",
       "1             0  \n",
       "2             0  \n",
       "3             0  \n",
       "4             0  "
      ]
     },
     "execution_count": 119,
     "metadata": {},
     "output_type": "execute_result"
    }
   ],
   "source": [
    "accel_8_curb_up_copy.head()"
   ]
  },
  {
   "cell_type": "code",
   "execution_count": 120,
   "id": "85bc920f",
   "metadata": {},
   "outputs": [
    {
     "data": {
      "text/plain": [
       "Text(0.5, 1.0, 'Q3 threshold Imbalance')"
      ]
     },
     "execution_count": 120,
     "metadata": {},
     "output_type": "execute_result"
    },
    {
     "data": {
      "image/png": "[encoded data removed]",
      "text/plain": [
       "<Figure size 432x288 with 1 Axes>"
      ]
     },
     "metadata": {},
     "output_type": "display_data"
    }
   ],
   "source": [
    "# Create a plot with Seaborn.\n",
    "import seaborn as sns\n",
    "\n",
    "sns.set_theme(style='darkgrid')\n",
    "ax = sns.countplot(x='Q3 threshold', data=accel_8_curb_up_copy)\n",
    "ax.set_title('Q3 threshold Imbalance')"
   ]
  },
  {
   "cell_type": "code",
   "execution_count": 121,
   "id": "caa7a522",
   "metadata": {},
   "outputs": [],
   "source": [
    "# Import all the necessary packages:\n",
    "import statsmodels.api as sm   \n",
    "import imblearn\n",
    "from imblearn.over_sampling import SMOTE  \n",
    "from sklearn.model_selection import train_test_split \n",
    "\n",
    "import warnings  \n",
    "warnings.filterwarnings('ignore')"
   ]
  },
  {
   "cell_type": "code",
   "execution_count": 122,
   "id": "78cdb659",
   "metadata": {},
   "outputs": [
    {
     "name": "stdout",
     "output_type": "stream",
     "text": [
      "   time_seconds_delta  fAmag_norm\n",
      "0               0.357    0.100639\n",
      "1               0.315    0.101171\n",
      "2               0.087    0.099247\n",
      "3               0.312    0.043984\n",
      "4               0.135    0.106020\n"
     ]
    },
    {
     "data": {
      "text/html": [
       "<div>\n",
       "<style scoped>\n",
       "    .dataframe tbody tr th:only-of-type {\n",
       "        vertical-align: middle;\n",
       "    }\n",
       "\n",
       "    .dataframe tbody tr th {\n",
       "        vertical-align: top;\n",
       "    }\n",
       "\n",
       "    .dataframe thead th {\n",
       "        text-align: right;\n",
       "    }\n",
       "</style>\n",
       "<table border=\"1\" class=\"dataframe\">\n",
       "  <thead>\n",
       "    <tr style=\"text-align: right;\">\n",
       "      <th></th>\n",
       "      <th>Q3 threshold</th>\n",
       "    </tr>\n",
       "  </thead>\n",
       "  <tbody>\n",
       "    <tr>\n",
       "      <th>0</th>\n",
       "      <td>0</td>\n",
       "    </tr>\n",
       "    <tr>\n",
       "      <th>1</th>\n",
       "      <td>0</td>\n",
       "    </tr>\n",
       "    <tr>\n",
       "      <th>2</th>\n",
       "      <td>0</td>\n",
       "    </tr>\n",
       "    <tr>\n",
       "      <th>3</th>\n",
       "      <td>0</td>\n",
       "    </tr>\n",
       "    <tr>\n",
       "      <th>4</th>\n",
       "      <td>0</td>\n",
       "    </tr>\n",
       "  </tbody>\n",
       "</table>\n",
       "</div>"
      ],
      "text/plain": [
       "   Q3 threshold\n",
       "0             0\n",
       "1             0\n",
       "2             0\n",
       "3             0\n",
       "4             0"
      ]
     },
     "execution_count": 122,
     "metadata": {},
     "output_type": "execute_result"
    }
   ],
   "source": [
    "# Select necessary columns: \n",
    "nec_cols = [ 'time_seconds_delta', 'fAmag_norm']\n",
    "\n",
    "X = accel_8_curb_up_copy[nec_cols]\n",
    "y = accel_8_curb_up_copy.loc[:, accel_8_curb_up_copy.columns =='Q3 threshold']\n",
    "\n",
    "# Apply SMOTE class as the target variable is not balanced.\n",
    "os = SMOTE(random_state=0)\n",
    "X_train, X_test, y_train, y_test = train_test_split(X, y, test_size=0.3, random_state=0)\n",
    "\n",
    "# Specify the new data sets.\n",
    "os_data_X, os_data_y = os.fit_resample(X_train, y_train)  \n",
    "\n",
    "# Create two DataFrames for X and one for y:\n",
    "os_data_X = pd.DataFrame(data = os_data_X, columns = X.columns) \n",
    "\n",
    "os_data_y = pd.DataFrame(data = os_data_y, columns = ['Q3 threshold'])\n",
    "\n",
    "# View DataFrame.\n",
    "print(os_data_X.head())\n",
    "os_data_y.head()"
   ]
  },
  {
   "cell_type": "code",
   "execution_count": 123,
   "id": "020f2f0c",
   "metadata": {},
   "outputs": [
    {
     "data": {
      "text/plain": [
       "0    42\n",
       "1    42\n",
       "Name: Q3 threshold, dtype: int64"
      ]
     },
     "execution_count": 123,
     "metadata": {},
     "output_type": "execute_result"
    }
   ],
   "source": [
    "os_data_y['Q3 threshold'].value_counts()"
   ]
  },
  {
   "cell_type": "code",
   "execution_count": 124,
   "id": "bda13867",
   "metadata": {},
   "outputs": [
    {
     "data": {
      "text/plain": [
       "Text(0.5, 1.0, 'New Balanced Q3 threshold')"
      ]
     },
     "execution_count": 124,
     "metadata": {},
     "output_type": "execute_result"
    },
    {
     "data": {
      "image/png": "[encoded data removed]",
      "text/plain": [
       "<Figure size 432x288 with 1 Axes>"
      ]
     },
     "metadata": {},
     "output_type": "display_data"
    }
   ],
   "source": [
    "sns.set_theme(style ='darkgrid')\n",
    "ax = sns.countplot(x ='Q3 threshold', data = os_data_y)\n",
    "ax.set_title(\"New Balanced Q3 threshold\")"
   ]
  },
  {
   "cell_type": "code",
   "execution_count": 125,
   "id": "c1a1aa73",
   "metadata": {},
   "outputs": [
    {
     "data": {
      "image/png": "[encoded data removed]",
      "text/plain": [
       "<Figure size 432x288 with 1 Axes>"
      ]
     },
     "metadata": {},
     "output_type": "display_data"
    }
   ],
   "source": [
    "# The Box-Tidwell test can be used to explore whether the independent variables () are linearly related to the log odds (Assumption 5). \n",
    "#However, the Box-Tidwell test is only applicable to continuous variables.\n",
    "\n",
    "fAmag_norm = sns.regplot(x = 'fAmag_norm',\n",
    "                  y= 'Q3 threshold',\n",
    "                  data=accel_8_curb_up_copy,\n",
    "                  logistic= True).set_title(\"fAmag_norm Log Odds Linear Plot\")"
   ]
  },
  {
   "cell_type": "code",
   "execution_count": 126,
   "id": "433574a6",
   "metadata": {},
   "outputs": [
    {
     "name": "stdout",
     "output_type": "stream",
     "text": [
      "Optimization terminated successfully.\n",
      "         Current function value: 0.480701\n",
      "         Iterations 8\n"
     ]
    },
    {
     "data": {
      "text/html": [
       "<table class=\"simpletable\">\n",
       "<caption>Logit Regression Results</caption>\n",
       "<tr>\n",
       "  <th>Dep. Variable:</th>     <td>Q3 threshold</td>   <th>  No. Observations:  </th>  <td>    84</td>  \n",
       "</tr>\n",
       "<tr>\n",
       "  <th>Model:</th>                 <td>Logit</td>      <th>  Df Residuals:      </th>  <td>    82</td>  \n",
       "</tr>\n",
       "<tr>\n",
       "  <th>Method:</th>                 <td>MLE</td>       <th>  Df Model:          </th>  <td>     1</td>  \n",
       "</tr>\n",
       "<tr>\n",
       "  <th>Date:</th>            <td>Mon, 24 Oct 2022</td> <th>  Pseudo R-squ.:     </th>  <td>0.3065</td>  \n",
       "</tr>\n",
       "<tr>\n",
       "  <th>Time:</th>                <td>15:37:20</td>     <th>  Log-Likelihood:    </th> <td> -40.379</td> \n",
       "</tr>\n",
       "<tr>\n",
       "  <th>converged:</th>             <td>True</td>       <th>  LL-Null:           </th> <td> -58.224</td> \n",
       "</tr>\n",
       "<tr>\n",
       "  <th>Covariance Type:</th>     <td>nonrobust</td>    <th>  LLR p-value:       </th> <td>2.312e-09</td>\n",
       "</tr>\n",
       "</table>\n",
       "<table class=\"simpletable\">\n",
       "<tr>\n",
       "           <td></td>             <th>coef</th>     <th>std err</th>      <th>z</th>      <th>P>|z|</th>  <th>[0.025</th>    <th>0.975]</th>  \n",
       "</tr>\n",
       "<tr>\n",
       "  <th>time_seconds_delta</th> <td>   -4.4955</td> <td>    1.601</td> <td>   -2.808</td> <td> 0.005</td> <td>   -7.633</td> <td>   -1.358</td>\n",
       "</tr>\n",
       "<tr>\n",
       "  <th>fAmag_norm</th>         <td>    7.0316</td> <td>    1.930</td> <td>    3.643</td> <td> 0.000</td> <td>    3.248</td> <td>   10.815</td>\n",
       "</tr>\n",
       "</table>"
      ],
      "text/plain": [
       "<class 'statsmodels.iolib.summary.Summary'>\n",
       "\"\"\"\n",
       "                           Logit Regression Results                           \n",
       "==============================================================================\n",
       "Dep. Variable:           Q3 threshold   No. Observations:                   84\n",
       "Model:                          Logit   Df Residuals:                       82\n",
       "Method:                           MLE   Df Model:                            1\n",
       "Date:                Mon, 24 Oct 2022   Pseudo R-squ.:                  0.3065\n",
       "Time:                        15:37:20   Log-Likelihood:                -40.379\n",
       "converged:                       True   LL-Null:                       -58.224\n",
       "Covariance Type:            nonrobust   LLR p-value:                 2.312e-09\n",
       "======================================================================================\n",
       "                         coef    std err          z      P>|z|      [0.025      0.975]\n",
       "--------------------------------------------------------------------------------------\n",
       "time_seconds_delta    -4.4955      1.601     -2.808      0.005      -7.633      -1.358\n",
       "fAmag_norm             7.0316      1.930      3.643      0.000       3.248      10.815\n",
       "======================================================================================\n",
       "\"\"\""
      ]
     },
     "execution_count": 126,
     "metadata": {},
     "output_type": "execute_result"
    }
   ],
   "source": [
    "# Name the new DataFrame and specify all the columns for BLR:\n",
    "nec_cols = [ 'time_seconds_delta', 'fAmag_norm']\n",
    "\n",
    "# Set the independent variable.\n",
    "X = os_data_X[nec_cols]  \n",
    "\n",
    "# Set the dependent variable.\n",
    "y = os_data_y['Q3 threshold']  \n",
    "\n",
    "# Set the logit() to accept y and x as parameters and return the logit object:\n",
    "logit_model_1=sm.Logit(y, X)\n",
    "\n",
    "# Indicate result = logit_model.fit() function.\n",
    "result = logit_model_1.fit()  \n",
    "\n",
    "# Print the results.\n",
    "result.summary()"
   ]
  },
  {
   "cell_type": "code",
   "execution_count": 127,
   "id": "bc16591e",
   "metadata": {},
   "outputs": [
    {
     "data": {
      "text/html": [
       "<style>#sk-container-id-4 {color: black;background-color: white;}#sk-container-id-4 pre{padding: 0;}#sk-container-id-4 div.sk-toggleable {background-color: white;}#sk-container-id-4 label.sk-toggleable__label {cursor: pointer;display: block;width: 100%;margin-bottom: 0;padding: 0.3em;box-sizing: border-box;text-align: center;}#sk-container-id-4 label.sk-toggleable__label-arrow:before {content: \"▸\";float: left;margin-right: 0.25em;color: #696969;}#sk-container-id-4 label.sk-toggleable__label-arrow:hover:before {color: black;}#sk-container-id-4 div.sk-estimator:hover label.sk-toggleable__label-arrow:before {color: black;}#sk-container-id-4 div.sk-toggleable__content {max-height: 0;max-width: 0;overflow: hidden;text-align: left;background-color: #f0f8ff;}#sk-container-id-4 div.sk-toggleable__content pre {margin: 0.2em;color: black;border-radius: 0.25em;background-color: #f0f8ff;}#sk-container-id-4 input.sk-toggleable__control:checked~div.sk-toggleable__content {max-height: 200px;max-width: 100%;overflow: auto;}#sk-container-id-4 input.sk-toggleable__control:checked~label.sk-toggleable__label-arrow:before {content: \"▾\";}#sk-container-id-4 div.sk-estimator input.sk-toggleable__control:checked~label.sk-toggleable__label {background-color: #d4ebff;}#sk-container-id-4 div.sk-label input.sk-toggleable__control:checked~label.sk-toggleable__label {background-color: #d4ebff;}#sk-container-id-4 input.sk-hidden--visually {border: 0;clip: rect(1px 1px 1px 1px);clip: rect(1px, 1px, 1px, 1px);height: 1px;margin: -1px;overflow: hidden;padding: 0;position: absolute;width: 1px;}#sk-container-id-4 div.sk-estimator {font-family: monospace;background-color: #f0f8ff;border: 1px dotted black;border-radius: 0.25em;box-sizing: border-box;margin-bottom: 0.5em;}#sk-container-id-4 div.sk-estimator:hover {background-color: #d4ebff;}#sk-container-id-4 div.sk-parallel-item::after {content: \"\";width: 100%;border-bottom: 1px solid gray;flex-grow: 1;}#sk-container-id-4 div.sk-label:hover label.sk-toggleable__label {background-color: #d4ebff;}#sk-container-id-4 div.sk-serial::before {content: \"\";position: absolute;border-left: 1px solid gray;box-sizing: border-box;top: 0;bottom: 0;left: 50%;z-index: 0;}#sk-container-id-4 div.sk-serial {display: flex;flex-direction: column;align-items: center;background-color: white;padding-right: 0.2em;padding-left: 0.2em;position: relative;}#sk-container-id-4 div.sk-item {position: relative;z-index: 1;}#sk-container-id-4 div.sk-parallel {display: flex;align-items: stretch;justify-content: center;background-color: white;position: relative;}#sk-container-id-4 div.sk-item::before, #sk-container-id-4 div.sk-parallel-item::before {content: \"\";position: absolute;border-left: 1px solid gray;box-sizing: border-box;top: 0;bottom: 0;left: 50%;z-index: -1;}#sk-container-id-4 div.sk-parallel-item {display: flex;flex-direction: column;z-index: 1;position: relative;background-color: white;}#sk-container-id-4 div.sk-parallel-item:first-child::after {align-self: flex-end;width: 50%;}#sk-container-id-4 div.sk-parallel-item:last-child::after {align-self: flex-start;width: 50%;}#sk-container-id-4 div.sk-parallel-item:only-child::after {width: 0;}#sk-container-id-4 div.sk-dashed-wrapped {border: 1px dashed gray;margin: 0 0.4em 0.5em 0.4em;box-sizing: border-box;padding-bottom: 0.4em;background-color: white;}#sk-container-id-4 div.sk-label label {font-family: monospace;font-weight: bold;display: inline-block;line-height: 1.2em;}#sk-container-id-4 div.sk-label-container {text-align: center;}#sk-container-id-4 div.sk-container {/* jupyter's `normalize.less` sets `[hidden] { display: none; }` but bootstrap.min.css set `[hidden] { display: none !important; }` so we also need the `!important` here to be able to override the default hidden behavior on the sphinx rendered scikit-learn.org. See: https://github.com/scikit-learn/scikit-learn/issues/21755 */display: inline-block !important;position: relative;}#sk-container-id-4 div.sk-text-repr-fallback {display: none;}</style><div id=\"sk-container-id-4\" class=\"sk-top-container\"><div class=\"sk-text-repr-fallback\"><pre>LogisticRegression()</pre><b>In a Jupyter environment, please rerun this cell to show the HTML representation or trust the notebook. <br />On GitHub, the HTML representation is unable to render, please try loading this page with nbviewer.org.</b></div><div class=\"sk-container\" hidden><div class=\"sk-item\"><div class=\"sk-estimator sk-toggleable\"><input class=\"sk-toggleable__control sk-hidden--visually\" id=\"sk-estimator-id-4\" type=\"checkbox\" checked><label for=\"sk-estimator-id-4\" class=\"sk-toggleable__label sk-toggleable__label-arrow\">LogisticRegression</label><div class=\"sk-toggleable__content\"><pre>LogisticRegression()</pre></div></div></div></div></div>"
      ],
      "text/plain": [
       "LogisticRegression()"
      ]
     },
     "execution_count": 127,
     "metadata": {},
     "output_type": "execute_result"
    }
   ],
   "source": [
    "# Import necessary packages:\n",
    "from sklearn.linear_model import LogisticRegression\n",
    "from sklearn import metrics\n",
    "\n",
    "# Split X and y data sets into ‘train’ and ‘test’ in a 30:70 ratio:\n",
    "X_train, X_test, y_train, y_test = train_test_split(X, y, test_size=0.3,\n",
    "                                                    random_state=0)\n",
    "\n",
    "# Set LogisticRegression() to logreg.\n",
    "logreg = LogisticRegression() \n",
    "\n",
    "# Fit the X_train and y_train data sets to logreg. \n",
    "logreg.fit(X_train, y_train) "
   ]
  },
  {
   "cell_type": "code",
   "execution_count": 128,
   "id": "aa3ea86d",
   "metadata": {},
   "outputs": [
    {
     "name": "stdout",
     "output_type": "stream",
     "text": [
      "Accuracy of logistic regression classifier on test set: 0.85\n"
     ]
    }
   ],
   "source": [
    "# Determine BLR model’s accuracy:\n",
    "y_pred = logreg.predict(X_test)\n",
    "\n",
    "print('Accuracy of logistic regression classifier on test set: {:.2f}'\\\n",
    "      .format(logreg.score(X_test, y_test)))"
   ]
  },
  {
   "cell_type": "code",
   "execution_count": 129,
   "id": "399e5d9f",
   "metadata": {},
   "outputs": [
    {
     "data": {
      "text/plain": [
       "<AxesSubplot:>"
      ]
     },
     "execution_count": 129,
     "metadata": {},
     "output_type": "execute_result"
    },
    {
     "data": {
      "image/png": "[encoded data removed]",
      "text/plain": [
       "<Figure size 432x288 with 2 Axes>"
      ]
     },
     "metadata": {},
     "output_type": "display_data"
    }
   ],
   "source": [
    "# Create the confusion matrix to test classification accuracy in BLR:\n",
    "# Import the necessary package to create the confusion matrix. \n",
    "from sklearn.metrics import confusion_matrix  \n",
    "\n",
    "# Indicate the confusion matrix needs to be created.\n",
    "confusion_matrix = confusion_matrix(y_test, y_pred)  \n",
    "\n",
    "# Plot the confusion_matrix.\n",
    "sns.heatmap(confusion_matrix, annot=True, fmt='g')"
   ]
  },
  {
   "cell_type": "code",
   "execution_count": 130,
   "id": "3ed40ea5",
   "metadata": {},
   "outputs": [
    {
     "name": "stdout",
     "output_type": "stream",
     "text": [
      "              precision    recall  f1-score   support\n",
      "\n",
      "           0       0.71      1.00      0.83        10\n",
      "           1       1.00      0.75      0.86        16\n",
      "\n",
      "    accuracy                           0.85        26\n",
      "   macro avg       0.86      0.88      0.85        26\n",
      "weighted avg       0.89      0.85      0.85        26\n",
      "\n"
     ]
    }
   ],
   "source": [
    "# Import the necessary package.\n",
    "from sklearn.metrics import classification_report  \n",
    "\n",
    "# Print a report on the model's accuracy.\n",
    "print(classification_report(y_test, y_pred))  "
   ]
  },
  {
   "cell_type": "code",
   "execution_count": 131,
   "id": "e06a7a9d",
   "metadata": {},
   "outputs": [],
   "source": [
    "nec_cols = [ 'time_seconds_delta', 'fAmag_norm']\n",
    "\n",
    "X = IOT_accel[nec_cols]"
   ]
  },
  {
   "cell_type": "code",
   "execution_count": 132,
   "id": "c3ceb4ae",
   "metadata": {},
   "outputs": [],
   "source": [
    "# Predict the abnormal behaviour\n",
    "y_pred = logreg.predict(X)"
   ]
  },
  {
   "cell_type": "code",
   "execution_count": 137,
   "id": "86fadd13",
   "metadata": {},
   "outputs": [],
   "source": [
    "IOT_accel['accel_8_curb_up_BLR']=y_pred"
   ]
  },
  {
   "cell_type": "code",
   "execution_count": 138,
   "id": "1422d56e",
   "metadata": {},
   "outputs": [
    {
     "data": {
      "text/html": [
       "<div>\n",
       "<style scoped>\n",
       "    .dataframe tbody tr th:only-of-type {\n",
       "        vertical-align: middle;\n",
       "    }\n",
       "\n",
       "    .dataframe tbody tr th {\n",
       "        vertical-align: top;\n",
       "    }\n",
       "\n",
       "    .dataframe thead th {\n",
       "        text-align: right;\n",
       "    }\n",
       "</style>\n",
       "<table border=\"1\" class=\"dataframe\">\n",
       "  <thead>\n",
       "    <tr style=\"text-align: right;\">\n",
       "      <th></th>\n",
       "      <th>time</th>\n",
       "      <th>time_seconds_delta</th>\n",
       "      <th>Amag</th>\n",
       "      <th>fAmag_norm</th>\n",
       "      <th>Accel_7_fast_stop_BLR</th>\n",
       "      <th>accel_8_curb_up_BLR</th>\n",
       "    </tr>\n",
       "  </thead>\n",
       "  <tbody>\n",
       "    <tr>\n",
       "      <th>0</th>\n",
       "      <td>0.004313</td>\n",
       "      <td>0.000000</td>\n",
       "      <td>0.311</td>\n",
       "      <td>0.003577</td>\n",
       "      <td>0</td>\n",
       "      <td>0</td>\n",
       "    </tr>\n",
       "    <tr>\n",
       "      <th>1</th>\n",
       "      <td>0.016459</td>\n",
       "      <td>0.012146</td>\n",
       "      <td>0.121</td>\n",
       "      <td>0.001327</td>\n",
       "      <td>0</td>\n",
       "      <td>0</td>\n",
       "    </tr>\n",
       "    <tr>\n",
       "      <th>2</th>\n",
       "      <td>0.022998</td>\n",
       "      <td>0.006539</td>\n",
       "      <td>0.136</td>\n",
       "      <td>0.001504</td>\n",
       "      <td>0</td>\n",
       "      <td>0</td>\n",
       "    </tr>\n",
       "    <tr>\n",
       "      <th>3</th>\n",
       "      <td>0.033322</td>\n",
       "      <td>0.010324</td>\n",
       "      <td>0.146</td>\n",
       "      <td>0.001623</td>\n",
       "      <td>0</td>\n",
       "      <td>0</td>\n",
       "    </tr>\n",
       "    <tr>\n",
       "      <th>4</th>\n",
       "      <td>0.042877</td>\n",
       "      <td>0.009555</td>\n",
       "      <td>0.108</td>\n",
       "      <td>0.001173</td>\n",
       "      <td>0</td>\n",
       "      <td>0</td>\n",
       "    </tr>\n",
       "  </tbody>\n",
       "</table>\n",
       "</div>"
      ],
      "text/plain": [
       "       time  time_seconds_delta   Amag  fAmag_norm  Accel_7_fast_stop_BLR  \\\n",
       "0  0.004313            0.000000  0.311    0.003577                      0   \n",
       "1  0.016459            0.012146  0.121    0.001327                      0   \n",
       "2  0.022998            0.006539  0.136    0.001504                      0   \n",
       "3  0.033322            0.010324  0.146    0.001623                      0   \n",
       "4  0.042877            0.009555  0.108    0.001173                      0   \n",
       "\n",
       "   accel_8_curb_up_BLR  \n",
       "0                    0  \n",
       "1                    0  \n",
       "2                    0  \n",
       "3                    0  \n",
       "4                    0  "
      ]
     },
     "execution_count": 138,
     "metadata": {},
     "output_type": "execute_result"
    }
   ],
   "source": [
    "IOT_accel.head()"
   ]
  },
  {
   "cell_type": "code",
   "execution_count": 142,
   "id": "fa97fe50",
   "metadata": {},
   "outputs": [
    {
     "data": {
      "text/plain": [
       "0    83352\n",
       "1      800\n",
       "Name: accel_8_curb_up_BLR, dtype: int64"
      ]
     },
     "execution_count": 142,
     "metadata": {},
     "output_type": "execute_result"
    }
   ],
   "source": [
    "IOT_accel['accel_8_curb_up_BLR'].value_counts()"
   ]
  },
  {
   "cell_type": "code",
   "execution_count": 143,
   "id": "729b24c8",
   "metadata": {
    "scrolled": false
   },
   "outputs": [
    {
     "data": {
      "text/plain": [
       "<AxesSubplot:xlabel='time', ylabel='fAmag_norm'>"
      ]
     },
     "execution_count": 143,
     "metadata": {},
     "output_type": "execute_result"
    },
    {
     "data": {
      "image/png": "[encoded data removed]",
      "text/plain": [
       "<Figure size 1080x576 with 1 Axes>"
      ]
     },
     "metadata": {},
     "output_type": "display_data"
    }
   ],
   "source": [
    "plt.figure(figsize=(15,8))\n",
    "sns.lineplot(data=IOT_accel, x='time', y='fAmag_norm', hue='accel_8_curb_up_BLR')"
   ]
  },
  {
   "cell_type": "code",
   "execution_count": null,
   "id": "60154aa2",
   "metadata": {},
   "outputs": [],
   "source": []
  }
 ],
 "metadata": {
  "kernelspec": {
   "display_name": "Python 3 (ipykernel)",
   "language": "python",
   "name": "python3"
  },
  "language_info": {
   "codemirror_mode": {
    "name": "ipython",
    "version": 3
   },
   "file_extension": ".py",
   "mimetype": "text/x-python",
   "name": "python",
   "nbconvert_exporter": "python",
   "pygments_lexer": "ipython3",
   "version": "3.9.7"
  }
 },
 "nbformat": 4,
 "nbformat_minor": 5
}
